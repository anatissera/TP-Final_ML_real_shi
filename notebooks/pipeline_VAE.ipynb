{
 "cells": [
  {
   "cell_type": "code",
   "execution_count": 1,
   "id": "3e246ef0",
   "metadata": {},
   "outputs": [
    {
     "name": "stdout",
     "output_type": "stream",
     "text": [
      "2.7.1+cu118\n",
      "True\n",
      "NVIDIA GeForce RTX 3050 Laptop GPU\n"
     ]
    }
   ],
   "source": [
    "import torch\n",
    "print(torch.__version__)\n",
    "print(torch.cuda.is_available())\n",
    "print(torch.cuda.get_device_name(0))"
   ]
  },
  {
   "cell_type": "code",
   "execution_count": null,
   "id": "d595d981",
   "metadata": {},
   "outputs": [],
   "source": [
    "import os\n",
    "import torch\n",
    "import torch.nn as nn\n",
    "from torch.utils.data import DataLoader, TensorDataset, random_split\n",
    "import numpy as np\n",
    "import pandas as pd\n",
    "from torch.utils.data import DataLoader, TensorDataset\n",
    "from tqdm.auto import tqdm\n",
    "import itertools\n",
    "import json\n",
    "import joblib\n",
    "\n",
    "from src.dataset_loaders import get_ptb_xl_fmm_dataset, get_shaoxing_fmm_dataset\n",
    "from src.preprocess_data import preprocess_data_fmm\n",
    "\n",
    "from src.models.VAE import VAE1D, compute_scores\n",
    "from xgboost import XGBClassifier\n",
    "from sklearn.metrics import roc_auc_score, precision_score, recall_score, f1_score, accuracy_score, roc_curve, confusion_matrix"
   ]
  },
  {
   "cell_type": "code",
   "execution_count": 3,
   "id": "1d4a9d2f",
   "metadata": {},
   "outputs": [],
   "source": [
    "%load_ext autoreload\n",
    "%autoreload 2"
   ]
  },
  {
   "cell_type": "markdown",
   "id": "741af7ac",
   "metadata": {},
   "source": [
    "### `Load the Data`"
   ]
  },
  {
   "cell_type": "code",
   "execution_count": 7,
   "id": "74dba4bb",
   "metadata": {},
   "outputs": [],
   "source": [
    "from src.utils import find_data_subfolder\n",
    "\n",
    "DATA_DIR = find_data_subfolder('')"
   ]
  },
  {
   "cell_type": "code",
   "execution_count": 5,
   "id": "33d44dff",
   "metadata": {},
   "outputs": [
    {
     "name": "stdout",
     "output_type": "stream",
     "text": [
      "Loading FMM-enhanced PTB-XL dataset...\n"
     ]
    },
    {
     "name": "stderr",
     "output_type": "stream",
     "text": [
      "Loading 'train': 100%|██████████| 95868/95868 [10:33<00:00, 151.25it/s]\n",
      "Loading 'test': 100%|██████████| 10907/10907 [01:01<00:00, 177.22it/s]\n"
     ]
    },
    {
     "name": "stdout",
     "output_type": "stream",
     "text": [
      "Dataset loaded successfully.\n"
     ]
    }
   ],
   "source": [
    "print(\"Loading FMM-enhanced PTB-XL dataset...\")\n",
    "data_dict_ptb_xl = get_ptb_xl_fmm_dataset(\n",
    "    datapath=DATA_DIR,\n",
    "    num_leads=1,\n",
    "    lead=0,\n",
    "    num_waves=5,\n",
    "    sequence_length=2048,\n",
    "    delete_high_A=False\n",
    ")\n",
    "print(\"Dataset loaded successfully.\")"
   ]
  },
  {
   "cell_type": "code",
   "execution_count": 9,
   "id": "24414eb5",
   "metadata": {},
   "outputs": [
    {
     "name": "stdout",
     "output_type": "stream",
     "text": [
      "Loading FMM-enhanced Shaoxing dataset...\n"
     ]
    },
    {
     "name": "stderr",
     "output_type": "stream",
     "text": [
      "Loading 'all': 100%|██████████| 69845/69845 [05:19<00:00, 218.54it/s] \n"
     ]
    },
    {
     "name": "stdout",
     "output_type": "stream",
     "text": [
      "Dataset loaded successfully.\n"
     ]
    }
   ],
   "source": [
    "print(\"Loading FMM-enhanced Shaoxing dataset...\")\n",
    "data_dict_shaoxing = get_shaoxing_fmm_dataset(\n",
    "    datapath=DATA_DIR,\n",
    "    num_leads=1,\n",
    "    lead=0,  \n",
    "    num_waves=5,\n",
    "    sequence_length=2048,\n",
    "    delete_high_A=False\n",
    ")\n",
    "print(\"Dataset loaded successfully.\")"
   ]
  },
  {
   "cell_type": "code",
   "execution_count": null,
   "id": "5414d604",
   "metadata": {},
   "outputs": [
    {
     "name": "stdout",
     "output_type": "stream",
     "text": [
      "PTB-XL keys: dict_keys(['train', 'test', 'params'])\n",
      "Shaoxing keys: dict_keys(['train', 'test', 'params'])\n"
     ]
    }
   ],
   "source": [
    "print(\"PTB-XL keys:\", data_dict_ptb_xl.keys())\n",
    "print(\"Shaoxing keys:\", data_dict_shaoxing.keys())"
   ]
  },
  {
   "cell_type": "markdown",
   "id": "4e86477e",
   "metadata": {},
   "source": [
    "#### Join the datasets"
   ]
  },
  {
   "cell_type": "code",
   "execution_count": null,
   "id": "e0cf2636",
   "metadata": {},
   "outputs": [],
   "source": [
    "ptb = data_dict_ptb_xl\n",
    "shx = data_dict_shaoxing\n",
    "\n",
    "# Train\n",
    "data_dict_train = {\n",
    "    'data':             np.concatenate([ptb[\"train\"]['data'],            shx[\"train\"]['data']           ], axis=0),\n",
    "    'labels':           np.concatenate([ptb[\"train\"]['labels'],          shx[\"train\"]['labels']         ], axis=0),\n",
    "    'sizes':            np.concatenate([ptb[\"train\"]['sizes'],           shx[\"train\"]['sizes']          ], axis=0),\n",
    "    'coefficients':     np.concatenate([ptb[\"train\"]['coefficients'],    shx[\"train\"]['coefficients']   ], axis=0),\n",
    "    'coefficients_ang': np.concatenate([ptb[\"train\"]['coefficients_ang'],shx[\"train\"]['coefficients_ang']], axis=0),\n",
    "}\n",
    "\n",
    "# Test\n",
    "data_dict_test = {\n",
    "    'data':             np.concatenate([ptb[\"test\"]['data'],            shx[\"test\"]['data']           ], axis=0),\n",
    "    'labels':           np.concatenate([ptb[\"test\"]['labels'],          shx[\"test\"]['labels']         ], axis=0),\n",
    "    'sizes':            np.concatenate([ptb[\"test\"]['sizes'],           shx[\"test\"]['sizes']          ], axis=0),\n",
    "    'coefficients':     np.concatenate([ptb[\"test\"]['coefficients'],    shx[\"test\"]['coefficients']   ], axis=0),\n",
    "    'coefficients_ang': np.concatenate([ptb[\"test\"]['coefficients_ang'],shx[\"test\"]['coefficients_ang']], axis=0),\n",
    "}\n",
    "\n",
    "# ambos usan el mismo normal_class\n",
    "data_dict_params = ptb[\"params\"]  # o shx[\"params\"], coinciden\n",
    "\n",
    "data_dict = {\n",
    "    \"train\":  data_dict_train,\n",
    "    \"test\":   data_dict_test,\n",
    "    \"params\": data_dict_params\n",
    "}"
   ]
  },
  {
   "cell_type": "markdown",
   "id": "fdd76f5d",
   "metadata": {},
   "source": [
    "### `Preprocess the data`\n",
    "Recortamos cada array para que su número de muestras sea múltiplo de batch_size\n",
    "\n",
    "Todavía no se aplica ningún tipo de normalización o data augmentation, por lo que la lógica es la misma en train y test"
   ]
  },
  {
   "cell_type": "code",
   "execution_count": 10,
   "id": "20d939b3",
   "metadata": {},
   "outputs": [
    {
     "name": "stdout",
     "output_type": "stream",
     "text": [
      "Number of samples per class: [np.int64(11586), np.int64(3019), np.int64(14707), np.int64(54056), np.int64(13127)]\n",
      "Number of samples per class: [np.int64(11586), np.int64(3019), np.int64(14707), np.int64(54056), np.int64(13127)]\n"
     ]
    }
   ],
   "source": [
    "raw_dev = {\n",
    "    \"data\":            data_dict[\"train\"][\"data\"], \n",
    "    \"labels\":          data_dict[\"train\"][\"labels\"],\n",
    "    \"sizes\":           data_dict[\"train\"][\"sizes\"],\n",
    "    \"coefficients\":    data_dict[\"train\"][\"coefficients\"],\n",
    "    \"coefficients_ang\":data_dict[\"train\"][\"coefficients_ang\"],\n",
    "}\n",
    "dev_proc = preprocess_data_fmm(\n",
    "    raw_dev,\n",
    "    dataset_params=data_dict[\"params\"],\n",
    "    fs=100,\n",
    "    batch_size=32,\n",
    "    split_ecg=False\n",
    ")\n",
    "\n",
    "raw_test = {\n",
    "    \"data\":            data_dict[\"test\"][\"data\"], \n",
    "    \"labels\":          data_dict[\"test\"][\"labels\"],\n",
    "    \"sizes\":           data_dict[\"test\"][\"sizes\"],\n",
    "    \"coefficients\":    data_dict[\"test\"][\"coefficients\"],\n",
    "    \"coefficients_ang\":data_dict[\"test\"][\"coefficients_ang\"],\n",
    "}\n",
    "\n",
    "test_proc = preprocess_data_fmm(\n",
    "    raw_dev,\n",
    "    dataset_params=data_dict[\"params\"],\n",
    "    fs=100,\n",
    "    batch_size=32,\n",
    "    split_ecg=False\n",
    ")"
   ]
  },
  {
   "cell_type": "code",
   "execution_count": 11,
   "id": "6dc29eb6",
   "metadata": {},
   "outputs": [],
   "source": [
    "data_dict = {\n",
    "    \"train\": dev_proc,\n",
    "    \"test\":  test_proc,\n",
    "    \"params\": data_dict[\"params\"]\n",
    "}"
   ]
  },
  {
   "cell_type": "markdown",
   "id": "56c44366",
   "metadata": {},
   "source": [
    "#### Extract signals and coefficients"
   ]
  },
  {
   "cell_type": "code",
   "execution_count": null,
   "id": "e078c1a3",
   "metadata": {},
   "outputs": [
    {
     "name": "stdout",
     "output_type": "stream",
     "text": [
      "Data loading complete.\n",
      "Train signal shape: (151584, 2048, 1), Train coeffs shape: (151584, 21)\n"
     ]
    }
   ],
   "source": [
    "X_dev_signal_raw = data_dict['train']['data'].astype(np.float32)\n",
    "X_dev_coeffs_raw = data_dict['train']['coefficients'].astype(np.float32)\n",
    "y_dev = data_dict['train']['labels'].astype(int)\n",
    "\n",
    "X_test_signal_raw = data_dict['test']['data'].astype(np.float32)\n",
    "X_test_coeffs_raw = data_dict['test']['coefficients'].astype(np.float32)\n",
    "y_test = data_dict['test']['labels'].astype(int)\n",
    "\n",
    "print(\"Data loading complete.\")\n",
    "print(f\"Train signal shape: {X_dev_signal_raw.shape}, Train coeffs shape: {X_dev_coeffs_raw.shape}\")"
   ]
  },
  {
   "cell_type": "code",
   "execution_count": null,
   "id": "8f719fc4",
   "metadata": {},
   "outputs": [],
   "source": [
    "normal_class_id = data_dict['params']['normal_class']\n",
    "\n",
    "dev_norm_signal_raw = X_dev_signal_raw[y_dev == normal_class_id]\n",
    "dev_norm_coeffs_raw = X_dev_coeffs_raw[y_dev == normal_class_id]\n",
    "dev_ano_signal_raw = X_dev_signal_raw[y_dev != normal_class_id] \n",
    "dev_ano_coeffs_raw = X_dev_coeffs_raw[y_dev != normal_class_id]"
   ]
  },
  {
   "cell_type": "markdown",
   "id": "4701278d",
   "metadata": {},
   "source": [
    "#### Torch Tensors"
   ]
  },
  {
   "cell_type": "code",
   "execution_count": 14,
   "id": "aa8e98f2",
   "metadata": {},
   "outputs": [],
   "source": [
    "dev_norm_signal_tensor_raw = torch.tensor(dev_norm_signal_raw).permute(0, 2, 1)\n",
    "dev_ano_signal_tensor_raw = torch.tensor(dev_ano_signal_raw).permute(0, 2, 1)\n",
    "\n",
    "dev_norm_coeffs_tensor_raw = torch.tensor(dev_norm_coeffs_raw)\n",
    "dev_ano_coeffs_tensor_raw = torch.tensor(dev_ano_coeffs_raw)"
   ]
  },
  {
   "cell_type": "markdown",
   "id": "8f1e5bee",
   "metadata": {},
   "source": [
    "### Normalize the data"
   ]
  },
  {
   "cell_type": "code",
   "execution_count": 16,
   "id": "11f606c4",
   "metadata": {},
   "outputs": [],
   "source": [
    "mean_x = dev_norm_signal_raw.mean()\n",
    "std_x  = dev_norm_signal_raw.std()\n",
    "mean_c = dev_norm_coeffs_raw.mean(axis=0)\n",
    "std_c  = dev_norm_coeffs_raw.std(axis=0)"
   ]
  },
  {
   "cell_type": "code",
   "execution_count": 15,
   "id": "78ce7f08",
   "metadata": {},
   "outputs": [],
   "source": [
    "X_dev_signal = (X_dev_signal_raw - mean_x) / (std_x  + 1e-8)\n",
    "X_test_signal  = (X_test_signal_raw  - mean_x) / (std_x  + 1e-8)\n",
    "\n",
    "X_dev_coeffs = (X_dev_coeffs_raw - mean_c) / (std_c  + 1e-8)\n",
    "X_test_coeffs  = (X_test_coeffs_raw  - mean_c) / (std_c  + 1e-8)"
   ]
  },
  {
   "cell_type": "markdown",
   "id": "32d1fa43",
   "metadata": {},
   "source": [
    "#### Normilized splits"
   ]
  },
  {
   "cell_type": "code",
   "execution_count": 16,
   "id": "548bf868",
   "metadata": {},
   "outputs": [],
   "source": [
    "dev_norm_signal = X_dev_signal[y_dev == normal_class_id]\n",
    "dev_norm_coeffs = X_dev_coeffs[y_dev == normal_class_id]\n",
    "dev_ano_signal  = X_dev_signal[y_dev != normal_class_id]\n",
    "dev_ano_coeffs  = X_dev_coeffs[y_dev != normal_class_id]\n",
    "\n",
    "test_norm_signal = X_test_signal[y_test == normal_class_id]\n",
    "test_norm_coeffs = X_test_coeffs[y_test == normal_class_id] \n",
    "test_ano_signal  = X_test_signal[y_test != normal_class_id]\n",
    "test_ano_coeffs  = X_test_coeffs[y_test != normal_class_id]"
   ]
  },
  {
   "cell_type": "markdown",
   "id": "76d53695",
   "metadata": {},
   "source": [
    "#### Tensors"
   ]
  },
  {
   "cell_type": "code",
   "execution_count": 17,
   "id": "a071a6c7",
   "metadata": {},
   "outputs": [
    {
     "name": "stdout",
     "output_type": "stream",
     "text": [
      "VAE training set size (normals only): 54056\n",
      "Final test set size (normals): 54056\n"
     ]
    }
   ],
   "source": [
    "# Conv1d espera (Batch, Channels, Length)\n",
    "\n",
    "dev_norm_signal_tensor = torch.tensor(dev_norm_signal).permute(0, 2, 1)\n",
    "dev_ano_signal_tensor = torch.tensor(dev_ano_signal).permute(0, 2, 1)\n",
    "test_norm_signal_tensor = torch.tensor(test_norm_signal).permute(0, 2, 1)\n",
    "test_ano_signal_tensor = torch.tensor(test_ano_signal).permute(0, 2, 1)\n",
    "\n",
    "dev_norm_coeffs_tensor = torch.tensor(dev_norm_coeffs)\n",
    "dev_ano_coeffs_tensor = torch.tensor(dev_ano_coeffs)\n",
    "test_norm_coeffs_tensor = torch.tensor(test_norm_coeffs)\n",
    "test_ano_coeffs_tensor = torch.tensor(test_ano_coeffs)\n",
    "\n",
    "print(f\"VAE training set size (normals only): {len(dev_norm_signal_tensor)}\")\n",
    "print(f\"Final test set size (normals): {len(test_norm_signal_tensor)}\")"
   ]
  },
  {
   "cell_type": "markdown",
   "id": "9efa1851",
   "metadata": {},
   "source": [
    "## Save the data"
   ]
  },
  {
   "cell_type": "code",
   "execution_count": null,
   "id": "8b08e284",
   "metadata": {},
   "outputs": [],
   "source": [
    "data_out_dir = \"C:/Users/anapt/Repositorios/TP-final_ML/TP-final_ML/data/data_processed\"\n",
    "os.makedirs(data_out_dir, exist_ok=True)\n",
    "\n",
    "np.savez_compressed(\n",
    "    os.path.join(data_out_dir, \"data_processed.npz\"),\n",
    "    # Raw\n",
    "    X_dev_signal_raw   = X_dev_signal_raw,\n",
    "    X_dev_coeffs_raw   = X_dev_coeffs_raw,\n",
    "    y_dev              = y_dev,\n",
    "    X_test_signal_raw  = X_test_signal_raw, \n",
    "    X_test_coeffs_raw  = X_test_coeffs_raw,\n",
    "    y_test             = y_test,\n",
    "\n",
    "    # Normalizados\n",
    "    X_dev_signal_normalized  = X_dev_signal,\n",
    "    X_dev_coeffs_normalized  = X_dev_coeffs,\n",
    "    X_test_signal_normalized = X_test_signal,\n",
    "    X_test_coeffs_normalized = X_test_coeffs,\n",
    "\n",
    "    # Parámetros de normalización\n",
    "    mean_x             = mean_x,\n",
    "    std_x              = std_x,\n",
    "    mean_c             = mean_c,\n",
    "    std_c              = std_c,\n",
    "\n",
    "    normal_class_id    = normal_class_id,\n",
    ")"
   ]
  },
  {
   "cell_type": "code",
   "execution_count": 21,
   "id": "80351823",
   "metadata": {},
   "outputs": [],
   "source": [
    "batch_size = 64"
   ]
  },
  {
   "cell_type": "markdown",
   "id": "123f056e",
   "metadata": {},
   "source": [
    "# `HP sweep`"
   ]
  },
  {
   "cell_type": "code",
   "execution_count": 23,
   "id": "68f8bf6f",
   "metadata": {},
   "outputs": [],
   "source": [
    "# Hacemos una función para dividir el set de dev sano sin normalizar. \n",
    "# Muestreamos anomalías para el set de validación y así poder probar métricas de qué tan bien separa.\n",
    "# Y por último ormalizamos train y validación con las estadísticas de train.\n",
    "\n",
    "from src.data_spitting import split_train_val_with_raw_dev"
   ]
  },
  {
   "cell_type": "code",
   "execution_count": null,
   "id": "0a2d4aae",
   "metadata": {},
   "outputs": [],
   "source": [
    "train_ds, val_ds, stats, sig_tr, coe_tr, sig_vn, coe_vn, sig_va, coe_va, idx_val_ano = split_train_val_with_raw_dev(\n",
    "    dev_norm_signal_raw, dev_norm_coeffs_raw,\n",
    "    dev_ano_signal_raw,  dev_ano_coeffs_raw,\n",
    "    val_frac=0.2, seed=42\n",
    ") # Val tiene normales y anómalos, train no\n",
    "train_loader = DataLoader(train_ds, batch_size=batch_size, shuffle=True)\n",
    "val_loader = DataLoader(val_ds,   batch_size=batch_size, shuffle=False)\n",
    "\n",
    "labels_val = val_ds.tensors[2].numpy()"
   ]
  },
  {
   "cell_type": "markdown",
   "id": "0c91834e",
   "metadata": {},
   "source": [
    "For XGBoost"
   ]
  },
  {
   "cell_type": "code",
   "execution_count": null,
   "id": "27b5ae81",
   "metadata": {},
   "outputs": [],
   "source": [
    "# Índices de anomalías para Train asegurándonos de no usar los de validación para no filtrar información\n",
    "all_ano = np.arange(len(dev_ano_signal_raw))\n",
    "idx_tr_ano = np.setdiff1d(all_ano, idx_val_ano) # complemento de idx_val_ano\n",
    "\n",
    "# Normalizar anomalías\n",
    "sig_tr_ano = (dev_ano_signal_raw[idx_tr_ano] - stats['mean_sig']) / stats['std_sig']\n",
    "coe_tr_ano = (dev_ano_coeffs_raw[idx_tr_ano] - stats['mean_coe']) / stats['std_coe']\n",
    "\n",
    "train_ano_signal_tensor = torch.tensor(sig_tr_ano).permute(0,2,1)\n",
    "train_ano_coeffs_tensor = torch.tensor(coe_tr_ano)\n",
    "\n",
    "train_norm_signal_tensor = train_ds.tensors[0]\n",
    "train_norm_coeffs_tensor = train_ds.tensors[1]"
   ]
  },
  {
   "cell_type": "markdown",
   "id": "737c96db",
   "metadata": {},
   "source": [
    "Sweep"
   ]
  },
  {
   "cell_type": "code",
   "execution_count": 22,
   "id": "123f36e4",
   "metadata": {},
   "outputs": [],
   "source": [
    "device = torch.device(\"cuda\" if torch.cuda.is_available() else \"cpu\")"
   ]
  },
  {
   "cell_type": "code",
   "execution_count": 26,
   "id": "170dab00",
   "metadata": {},
   "outputs": [],
   "source": [
    "grid = {\n",
    "    'beta': [1.0, 4.0, 10.0],\n",
    "    'lr': [1e-3, 5e-4, 1e-4],\n",
    "    'latent_dim': [16, 32, 64],\n",
    "    'n_blocks': [2, 3]\n",
    "}\n",
    "\n",
    "combos = list(itertools.product( \n",
    "    grid['beta'], grid['lr'], grid['latent_dim'], grid['n_blocks']\n",
    "))\n",
    "\n",
    "hp_epochs = 15"
   ]
  },
  {
   "cell_type": "code",
   "execution_count": null,
   "id": "985f6671",
   "metadata": {},
   "outputs": [
    {
     "data": {
      "application/vnd.jupyter.widget-view+json": {
       "model_id": "b173ead638e54e438dae07664e034864",
       "version_major": 2,
       "version_minor": 0
      },
      "text/plain": [
       "Hyperparam sweep:   0%|          | 0/54 [00:00<?, ?it/s]"
      ]
     },
     "metadata": {},
     "output_type": "display_data"
    },
    {
     "data": {
      "application/vnd.jupyter.widget-view+json": {
       "model_id": "a66af6e0694e469f87be790cf6a3d5dc",
       "version_major": 2,
       "version_minor": 0
      },
      "text/plain": [
       "VAE epochs:   0%|          | 0/15 [00:00<?, ?it/s]"
      ]
     },
     "metadata": {},
     "output_type": "display_data"
    },
    {
     "name": "stderr",
     "output_type": "stream",
     "text": [
      "c:\\ProgramData\\anaconda3\\envs\\TP-final_ML\\lib\\site-packages\\xgboost\\training.py:183: UserWarning: [03:03:51] WARNING: C:\\b\\abs_d97hy_84m6\\croot\\xgboost-split_1749630932152\\work\\src\\learner.cc:738: \n",
      "Parameters: { \"use_label_encoder\" } are not used.\n",
      "\n",
      "  bst.update(dtrain, iteration=i, fobj=obj)\n"
     ]
    },
    {
     "name": "stdout",
     "output_type": "stream",
     "text": [
      "β=1.0, lr=0.001, ld=16, nb=2 → VAE AUC=0.818, XGB AUC=0.922\n"
     ]
    },
    {
     "data": {
      "application/vnd.jupyter.widget-view+json": {
       "model_id": "9c57a262e69e4942ba6fbb3f340fcca3",
       "version_major": 2,
       "version_minor": 0
      },
      "text/plain": [
       "VAE epochs:   0%|          | 0/15 [00:00<?, ?it/s]"
      ]
     },
     "metadata": {},
     "output_type": "display_data"
    },
    {
     "name": "stderr",
     "output_type": "stream",
     "text": [
      "c:\\ProgramData\\anaconda3\\envs\\TP-final_ML\\lib\\site-packages\\xgboost\\training.py:183: UserWarning: [03:05:39] WARNING: C:\\b\\abs_d97hy_84m6\\croot\\xgboost-split_1749630932152\\work\\src\\learner.cc:738: \n",
      "Parameters: { \"use_label_encoder\" } are not used.\n",
      "\n",
      "  bst.update(dtrain, iteration=i, fobj=obj)\n"
     ]
    },
    {
     "name": "stdout",
     "output_type": "stream",
     "text": [
      "β=1.0, lr=0.001, ld=16, nb=3 → VAE AUC=0.837, XGB AUC=0.882\n"
     ]
    },
    {
     "data": {
      "application/vnd.jupyter.widget-view+json": {
       "model_id": "a790f65c273f4c439a1f7eab1cf98a78",
       "version_major": 2,
       "version_minor": 0
      },
      "text/plain": [
       "VAE epochs:   0%|          | 0/15 [00:00<?, ?it/s]"
      ]
     },
     "metadata": {},
     "output_type": "display_data"
    },
    {
     "name": "stderr",
     "output_type": "stream",
     "text": [
      "c:\\ProgramData\\anaconda3\\envs\\TP-final_ML\\lib\\site-packages\\xgboost\\training.py:183: UserWarning: [03:07:13] WARNING: C:\\b\\abs_d97hy_84m6\\croot\\xgboost-split_1749630932152\\work\\src\\learner.cc:738: \n",
      "Parameters: { \"use_label_encoder\" } are not used.\n",
      "\n",
      "  bst.update(dtrain, iteration=i, fobj=obj)\n"
     ]
    },
    {
     "name": "stdout",
     "output_type": "stream",
     "text": [
      "β=1.0, lr=0.001, ld=32, nb=2 → VAE AUC=0.817, XGB AUC=0.931\n"
     ]
    },
    {
     "data": {
      "application/vnd.jupyter.widget-view+json": {
       "model_id": "a77bdd0f103543459be718f8fb808dc5",
       "version_major": 2,
       "version_minor": 0
      },
      "text/plain": [
       "VAE epochs:   0%|          | 0/15 [00:00<?, ?it/s]"
      ]
     },
     "metadata": {},
     "output_type": "display_data"
    },
    {
     "name": "stderr",
     "output_type": "stream",
     "text": [
      "c:\\ProgramData\\anaconda3\\envs\\TP-final_ML\\lib\\site-packages\\xgboost\\training.py:183: UserWarning: [03:09:11] WARNING: C:\\b\\abs_d97hy_84m6\\croot\\xgboost-split_1749630932152\\work\\src\\learner.cc:738: \n",
      "Parameters: { \"use_label_encoder\" } are not used.\n",
      "\n",
      "  bst.update(dtrain, iteration=i, fobj=obj)\n"
     ]
    },
    {
     "name": "stdout",
     "output_type": "stream",
     "text": [
      "β=1.0, lr=0.001, ld=32, nb=3 → VAE AUC=0.817, XGB AUC=0.931\n"
     ]
    },
    {
     "data": {
      "application/vnd.jupyter.widget-view+json": {
       "model_id": "91945216de55463aa54cc97e070cec61",
       "version_major": 2,
       "version_minor": 0
      },
      "text/plain": [
       "VAE epochs:   0%|          | 0/15 [00:00<?, ?it/s]"
      ]
     },
     "metadata": {},
     "output_type": "display_data"
    },
    {
     "name": "stderr",
     "output_type": "stream",
     "text": [
      "c:\\ProgramData\\anaconda3\\envs\\TP-final_ML\\lib\\site-packages\\xgboost\\training.py:183: UserWarning: [03:11:02] WARNING: C:\\b\\abs_d97hy_84m6\\croot\\xgboost-split_1749630932152\\work\\src\\learner.cc:738: \n",
      "Parameters: { \"use_label_encoder\" } are not used.\n",
      "\n",
      "  bst.update(dtrain, iteration=i, fobj=obj)\n"
     ]
    },
    {
     "name": "stdout",
     "output_type": "stream",
     "text": [
      "β=1.0, lr=0.001, ld=64, nb=2 → VAE AUC=0.821, XGB AUC=0.901\n"
     ]
    },
    {
     "data": {
      "application/vnd.jupyter.widget-view+json": {
       "model_id": "df233daa20d34db88132a3ce54940a6d",
       "version_major": 2,
       "version_minor": 0
      },
      "text/plain": [
       "VAE epochs:   0%|          | 0/15 [00:00<?, ?it/s]"
      ]
     },
     "metadata": {},
     "output_type": "display_data"
    },
    {
     "name": "stderr",
     "output_type": "stream",
     "text": [
      "c:\\ProgramData\\anaconda3\\envs\\TP-final_ML\\lib\\site-packages\\xgboost\\training.py:183: UserWarning: [03:13:16] WARNING: C:\\b\\abs_d97hy_84m6\\croot\\xgboost-split_1749630932152\\work\\src\\learner.cc:738: \n",
      "Parameters: { \"use_label_encoder\" } are not used.\n",
      "\n",
      "  bst.update(dtrain, iteration=i, fobj=obj)\n"
     ]
    },
    {
     "name": "stdout",
     "output_type": "stream",
     "text": [
      "β=1.0, lr=0.001, ld=64, nb=3 → VAE AUC=0.818, XGB AUC=0.927\n"
     ]
    },
    {
     "data": {
      "application/vnd.jupyter.widget-view+json": {
       "model_id": "0845faef85cb4453abb95a28c5225095",
       "version_major": 2,
       "version_minor": 0
      },
      "text/plain": [
       "VAE epochs:   0%|          | 0/15 [00:00<?, ?it/s]"
      ]
     },
     "metadata": {},
     "output_type": "display_data"
    },
    {
     "name": "stderr",
     "output_type": "stream",
     "text": [
      "c:\\ProgramData\\anaconda3\\envs\\TP-final_ML\\lib\\site-packages\\xgboost\\training.py:183: UserWarning: [03:14:44] WARNING: C:\\b\\abs_d97hy_84m6\\croot\\xgboost-split_1749630932152\\work\\src\\learner.cc:738: \n",
      "Parameters: { \"use_label_encoder\" } are not used.\n",
      "\n",
      "  bst.update(dtrain, iteration=i, fobj=obj)\n"
     ]
    },
    {
     "name": "stdout",
     "output_type": "stream",
     "text": [
      "β=1.0, lr=0.0005, ld=16, nb=2 → VAE AUC=0.818, XGB AUC=0.921\n"
     ]
    },
    {
     "data": {
      "application/vnd.jupyter.widget-view+json": {
       "model_id": "9a10d193dfcc4afe8342bceaac6c3124",
       "version_major": 2,
       "version_minor": 0
      },
      "text/plain": [
       "VAE epochs:   0%|          | 0/15 [00:00<?, ?it/s]"
      ]
     },
     "metadata": {},
     "output_type": "display_data"
    },
    {
     "name": "stderr",
     "output_type": "stream",
     "text": [
      "c:\\ProgramData\\anaconda3\\envs\\TP-final_ML\\lib\\site-packages\\xgboost\\training.py:183: UserWarning: [03:16:35] WARNING: C:\\b\\abs_d97hy_84m6\\croot\\xgboost-split_1749630932152\\work\\src\\learner.cc:738: \n",
      "Parameters: { \"use_label_encoder\" } are not used.\n",
      "\n",
      "  bst.update(dtrain, iteration=i, fobj=obj)\n"
     ]
    },
    {
     "name": "stdout",
     "output_type": "stream",
     "text": [
      "β=1.0, lr=0.0005, ld=16, nb=3 → VAE AUC=0.818, XGB AUC=0.925\n"
     ]
    },
    {
     "data": {
      "application/vnd.jupyter.widget-view+json": {
       "model_id": "07bd0a54ee454ddfaf9e27c6427d83bc",
       "version_major": 2,
       "version_minor": 0
      },
      "text/plain": [
       "VAE epochs:   0%|          | 0/15 [00:00<?, ?it/s]"
      ]
     },
     "metadata": {},
     "output_type": "display_data"
    },
    {
     "name": "stderr",
     "output_type": "stream",
     "text": [
      "c:\\ProgramData\\anaconda3\\envs\\TP-final_ML\\lib\\site-packages\\xgboost\\training.py:183: UserWarning: [03:18:10] WARNING: C:\\b\\abs_d97hy_84m6\\croot\\xgboost-split_1749630932152\\work\\src\\learner.cc:738: \n",
      "Parameters: { \"use_label_encoder\" } are not used.\n",
      "\n",
      "  bst.update(dtrain, iteration=i, fobj=obj)\n"
     ]
    },
    {
     "name": "stdout",
     "output_type": "stream",
     "text": [
      "β=1.0, lr=0.0005, ld=32, nb=2 → VAE AUC=0.819, XGB AUC=0.910\n"
     ]
    },
    {
     "data": {
      "application/vnd.jupyter.widget-view+json": {
       "model_id": "8ba45650287b4aba8e047ad02e879859",
       "version_major": 2,
       "version_minor": 0
      },
      "text/plain": [
       "VAE epochs:   0%|          | 0/15 [00:00<?, ?it/s]"
      ]
     },
     "metadata": {},
     "output_type": "display_data"
    },
    {
     "name": "stderr",
     "output_type": "stream",
     "text": [
      "c:\\ProgramData\\anaconda3\\envs\\TP-final_ML\\lib\\site-packages\\xgboost\\training.py:183: UserWarning: [03:20:09] WARNING: C:\\b\\abs_d97hy_84m6\\croot\\xgboost-split_1749630932152\\work\\src\\learner.cc:738: \n",
      "Parameters: { \"use_label_encoder\" } are not used.\n",
      "\n",
      "  bst.update(dtrain, iteration=i, fobj=obj)\n"
     ]
    },
    {
     "name": "stdout",
     "output_type": "stream",
     "text": [
      "β=1.0, lr=0.0005, ld=32, nb=3 → VAE AUC=0.818, XGB AUC=0.930\n"
     ]
    },
    {
     "data": {
      "application/vnd.jupyter.widget-view+json": {
       "model_id": "48ba773a40494efe81f83d819bed06a1",
       "version_major": 2,
       "version_minor": 0
      },
      "text/plain": [
       "VAE epochs:   0%|          | 0/15 [00:00<?, ?it/s]"
      ]
     },
     "metadata": {},
     "output_type": "display_data"
    },
    {
     "name": "stderr",
     "output_type": "stream",
     "text": [
      "c:\\ProgramData\\anaconda3\\envs\\TP-final_ML\\lib\\site-packages\\xgboost\\training.py:183: UserWarning: [03:22:00] WARNING: C:\\b\\abs_d97hy_84m6\\croot\\xgboost-split_1749630932152\\work\\src\\learner.cc:738: \n",
      "Parameters: { \"use_label_encoder\" } are not used.\n",
      "\n",
      "  bst.update(dtrain, iteration=i, fobj=obj)\n"
     ]
    },
    {
     "name": "stdout",
     "output_type": "stream",
     "text": [
      "β=1.0, lr=0.0005, ld=64, nb=2 → VAE AUC=0.818, XGB AUC=0.918\n"
     ]
    },
    {
     "data": {
      "application/vnd.jupyter.widget-view+json": {
       "model_id": "b724cb869e224a2cbf158d38902e58d4",
       "version_major": 2,
       "version_minor": 0
      },
      "text/plain": [
       "VAE epochs:   0%|          | 0/15 [00:00<?, ?it/s]"
      ]
     },
     "metadata": {},
     "output_type": "display_data"
    },
    {
     "name": "stderr",
     "output_type": "stream",
     "text": [
      "c:\\ProgramData\\anaconda3\\envs\\TP-final_ML\\lib\\site-packages\\xgboost\\training.py:183: UserWarning: [03:24:14] WARNING: C:\\b\\abs_d97hy_84m6\\croot\\xgboost-split_1749630932152\\work\\src\\learner.cc:738: \n",
      "Parameters: { \"use_label_encoder\" } are not used.\n",
      "\n",
      "  bst.update(dtrain, iteration=i, fobj=obj)\n"
     ]
    },
    {
     "name": "stdout",
     "output_type": "stream",
     "text": [
      "β=1.0, lr=0.0005, ld=64, nb=3 → VAE AUC=0.818, XGB AUC=0.933\n"
     ]
    },
    {
     "data": {
      "application/vnd.jupyter.widget-view+json": {
       "model_id": "83e1745c3a7d4d628bca97356f18141a",
       "version_major": 2,
       "version_minor": 0
      },
      "text/plain": [
       "VAE epochs:   0%|          | 0/15 [00:00<?, ?it/s]"
      ]
     },
     "metadata": {},
     "output_type": "display_data"
    },
    {
     "name": "stderr",
     "output_type": "stream",
     "text": [
      "c:\\ProgramData\\anaconda3\\envs\\TP-final_ML\\lib\\site-packages\\xgboost\\training.py:183: UserWarning: [03:25:42] WARNING: C:\\b\\abs_d97hy_84m6\\croot\\xgboost-split_1749630932152\\work\\src\\learner.cc:738: \n",
      "Parameters: { \"use_label_encoder\" } are not used.\n",
      "\n",
      "  bst.update(dtrain, iteration=i, fobj=obj)\n"
     ]
    },
    {
     "name": "stdout",
     "output_type": "stream",
     "text": [
      "β=1.0, lr=0.0001, ld=16, nb=2 → VAE AUC=0.818, XGB AUC=0.912\n"
     ]
    },
    {
     "data": {
      "application/vnd.jupyter.widget-view+json": {
       "model_id": "97466a0779e4448eb6e91acfd9934340",
       "version_major": 2,
       "version_minor": 0
      },
      "text/plain": [
       "VAE epochs:   0%|          | 0/15 [00:00<?, ?it/s]"
      ]
     },
     "metadata": {},
     "output_type": "display_data"
    },
    {
     "name": "stderr",
     "output_type": "stream",
     "text": [
      "c:\\ProgramData\\anaconda3\\envs\\TP-final_ML\\lib\\site-packages\\xgboost\\training.py:183: UserWarning: [03:27:33] WARNING: C:\\b\\abs_d97hy_84m6\\croot\\xgboost-split_1749630932152\\work\\src\\learner.cc:738: \n",
      "Parameters: { \"use_label_encoder\" } are not used.\n",
      "\n",
      "  bst.update(dtrain, iteration=i, fobj=obj)\n"
     ]
    },
    {
     "name": "stdout",
     "output_type": "stream",
     "text": [
      "β=1.0, lr=0.0001, ld=16, nb=3 → VAE AUC=0.818, XGB AUC=0.903\n"
     ]
    },
    {
     "data": {
      "application/vnd.jupyter.widget-view+json": {
       "model_id": "abaa17d9aa784f6d9b666a6b3c24fe5d",
       "version_major": 2,
       "version_minor": 0
      },
      "text/plain": [
       "VAE epochs:   0%|          | 0/15 [00:00<?, ?it/s]"
      ]
     },
     "metadata": {},
     "output_type": "display_data"
    },
    {
     "name": "stderr",
     "output_type": "stream",
     "text": [
      "c:\\ProgramData\\anaconda3\\envs\\TP-final_ML\\lib\\site-packages\\xgboost\\training.py:183: UserWarning: [03:29:09] WARNING: C:\\b\\abs_d97hy_84m6\\croot\\xgboost-split_1749630932152\\work\\src\\learner.cc:738: \n",
      "Parameters: { \"use_label_encoder\" } are not used.\n",
      "\n",
      "  bst.update(dtrain, iteration=i, fobj=obj)\n"
     ]
    },
    {
     "name": "stdout",
     "output_type": "stream",
     "text": [
      "β=1.0, lr=0.0001, ld=32, nb=2 → VAE AUC=0.818, XGB AUC=0.926\n"
     ]
    },
    {
     "data": {
      "application/vnd.jupyter.widget-view+json": {
       "model_id": "7221e8f39d1f451a86bf04a1aca12990",
       "version_major": 2,
       "version_minor": 0
      },
      "text/plain": [
       "VAE epochs:   0%|          | 0/15 [00:00<?, ?it/s]"
      ]
     },
     "metadata": {},
     "output_type": "display_data"
    },
    {
     "name": "stderr",
     "output_type": "stream",
     "text": [
      "c:\\ProgramData\\anaconda3\\envs\\TP-final_ML\\lib\\site-packages\\xgboost\\training.py:183: UserWarning: [03:31:08] WARNING: C:\\b\\abs_d97hy_84m6\\croot\\xgboost-split_1749630932152\\work\\src\\learner.cc:738: \n",
      "Parameters: { \"use_label_encoder\" } are not used.\n",
      "\n",
      "  bst.update(dtrain, iteration=i, fobj=obj)\n"
     ]
    },
    {
     "name": "stdout",
     "output_type": "stream",
     "text": [
      "β=1.0, lr=0.0001, ld=32, nb=3 → VAE AUC=0.818, XGB AUC=0.920\n"
     ]
    },
    {
     "data": {
      "application/vnd.jupyter.widget-view+json": {
       "model_id": "c1a38db2a96047648fd235c2de36369d",
       "version_major": 2,
       "version_minor": 0
      },
      "text/plain": [
       "VAE epochs:   0%|          | 0/15 [00:00<?, ?it/s]"
      ]
     },
     "metadata": {},
     "output_type": "display_data"
    },
    {
     "name": "stderr",
     "output_type": "stream",
     "text": [
      "c:\\ProgramData\\anaconda3\\envs\\TP-final_ML\\lib\\site-packages\\xgboost\\training.py:183: UserWarning: [03:32:59] WARNING: C:\\b\\abs_d97hy_84m6\\croot\\xgboost-split_1749630932152\\work\\src\\learner.cc:738: \n",
      "Parameters: { \"use_label_encoder\" } are not used.\n",
      "\n",
      "  bst.update(dtrain, iteration=i, fobj=obj)\n"
     ]
    },
    {
     "name": "stdout",
     "output_type": "stream",
     "text": [
      "β=1.0, lr=0.0001, ld=64, nb=2 → VAE AUC=0.818, XGB AUC=0.930\n"
     ]
    },
    {
     "data": {
      "application/vnd.jupyter.widget-view+json": {
       "model_id": "c698aa14862741c3876bd378edbb6ab0",
       "version_major": 2,
       "version_minor": 0
      },
      "text/plain": [
       "VAE epochs:   0%|          | 0/15 [00:00<?, ?it/s]"
      ]
     },
     "metadata": {},
     "output_type": "display_data"
    },
    {
     "name": "stderr",
     "output_type": "stream",
     "text": [
      "c:\\ProgramData\\anaconda3\\envs\\TP-final_ML\\lib\\site-packages\\xgboost\\training.py:183: UserWarning: [03:35:14] WARNING: C:\\b\\abs_d97hy_84m6\\croot\\xgboost-split_1749630932152\\work\\src\\learner.cc:738: \n",
      "Parameters: { \"use_label_encoder\" } are not used.\n",
      "\n",
      "  bst.update(dtrain, iteration=i, fobj=obj)\n"
     ]
    },
    {
     "name": "stdout",
     "output_type": "stream",
     "text": [
      "β=1.0, lr=0.0001, ld=64, nb=3 → VAE AUC=0.818, XGB AUC=0.927\n"
     ]
    },
    {
     "data": {
      "application/vnd.jupyter.widget-view+json": {
       "model_id": "284311f94d4e4657b1fd16e970fb4382",
       "version_major": 2,
       "version_minor": 0
      },
      "text/plain": [
       "VAE epochs:   0%|          | 0/15 [00:00<?, ?it/s]"
      ]
     },
     "metadata": {},
     "output_type": "display_data"
    },
    {
     "name": "stderr",
     "output_type": "stream",
     "text": [
      "c:\\ProgramData\\anaconda3\\envs\\TP-final_ML\\lib\\site-packages\\xgboost\\training.py:183: UserWarning: [03:36:42] WARNING: C:\\b\\abs_d97hy_84m6\\croot\\xgboost-split_1749630932152\\work\\src\\learner.cc:738: \n",
      "Parameters: { \"use_label_encoder\" } are not used.\n",
      "\n",
      "  bst.update(dtrain, iteration=i, fobj=obj)\n"
     ]
    },
    {
     "name": "stdout",
     "output_type": "stream",
     "text": [
      "β=4.0, lr=0.001, ld=16, nb=2 → VAE AUC=0.818, XGB AUC=0.908\n"
     ]
    },
    {
     "data": {
      "application/vnd.jupyter.widget-view+json": {
       "model_id": "c7455739c4e349e3ba2f6072dd8b583a",
       "version_major": 2,
       "version_minor": 0
      },
      "text/plain": [
       "VAE epochs:   0%|          | 0/15 [00:00<?, ?it/s]"
      ]
     },
     "metadata": {},
     "output_type": "display_data"
    },
    {
     "name": "stderr",
     "output_type": "stream",
     "text": [
      "c:\\ProgramData\\anaconda3\\envs\\TP-final_ML\\lib\\site-packages\\xgboost\\training.py:183: UserWarning: [03:38:34] WARNING: C:\\b\\abs_d97hy_84m6\\croot\\xgboost-split_1749630932152\\work\\src\\learner.cc:738: \n",
      "Parameters: { \"use_label_encoder\" } are not used.\n",
      "\n",
      "  bst.update(dtrain, iteration=i, fobj=obj)\n"
     ]
    },
    {
     "name": "stdout",
     "output_type": "stream",
     "text": [
      "β=4.0, lr=0.001, ld=16, nb=3 → VAE AUC=0.819, XGB AUC=0.910\n"
     ]
    },
    {
     "data": {
      "application/vnd.jupyter.widget-view+json": {
       "model_id": "910c386b837849ca900e59196b810247",
       "version_major": 2,
       "version_minor": 0
      },
      "text/plain": [
       "VAE epochs:   0%|          | 0/15 [00:00<?, ?it/s]"
      ]
     },
     "metadata": {},
     "output_type": "display_data"
    },
    {
     "name": "stderr",
     "output_type": "stream",
     "text": [
      "c:\\ProgramData\\anaconda3\\envs\\TP-final_ML\\lib\\site-packages\\xgboost\\training.py:183: UserWarning: [03:40:10] WARNING: C:\\b\\abs_d97hy_84m6\\croot\\xgboost-split_1749630932152\\work\\src\\learner.cc:738: \n",
      "Parameters: { \"use_label_encoder\" } are not used.\n",
      "\n",
      "  bst.update(dtrain, iteration=i, fobj=obj)\n"
     ]
    },
    {
     "name": "stdout",
     "output_type": "stream",
     "text": [
      "β=4.0, lr=0.001, ld=32, nb=2 → VAE AUC=0.818, XGB AUC=0.922\n"
     ]
    },
    {
     "data": {
      "application/vnd.jupyter.widget-view+json": {
       "model_id": "d205a83c38274e729886d7e0a5f13a7f",
       "version_major": 2,
       "version_minor": 0
      },
      "text/plain": [
       "VAE epochs:   0%|          | 0/15 [00:00<?, ?it/s]"
      ]
     },
     "metadata": {},
     "output_type": "display_data"
    },
    {
     "name": "stderr",
     "output_type": "stream",
     "text": [
      "c:\\ProgramData\\anaconda3\\envs\\TP-final_ML\\lib\\site-packages\\xgboost\\training.py:183: UserWarning: [03:42:10] WARNING: C:\\b\\abs_d97hy_84m6\\croot\\xgboost-split_1749630932152\\work\\src\\learner.cc:738: \n",
      "Parameters: { \"use_label_encoder\" } are not used.\n",
      "\n",
      "  bst.update(dtrain, iteration=i, fobj=obj)\n"
     ]
    },
    {
     "name": "stdout",
     "output_type": "stream",
     "text": [
      "β=4.0, lr=0.001, ld=32, nb=3 → VAE AUC=0.818, XGB AUC=0.910\n"
     ]
    },
    {
     "data": {
      "application/vnd.jupyter.widget-view+json": {
       "model_id": "65e9c3074a3f43bf88cb8ddf65ae4689",
       "version_major": 2,
       "version_minor": 0
      },
      "text/plain": [
       "VAE epochs:   0%|          | 0/15 [00:00<?, ?it/s]"
      ]
     },
     "metadata": {},
     "output_type": "display_data"
    },
    {
     "name": "stderr",
     "output_type": "stream",
     "text": [
      "c:\\ProgramData\\anaconda3\\envs\\TP-final_ML\\lib\\site-packages\\xgboost\\training.py:183: UserWarning: [03:44:02] WARNING: C:\\b\\abs_d97hy_84m6\\croot\\xgboost-split_1749630932152\\work\\src\\learner.cc:738: \n",
      "Parameters: { \"use_label_encoder\" } are not used.\n",
      "\n",
      "  bst.update(dtrain, iteration=i, fobj=obj)\n"
     ]
    },
    {
     "name": "stdout",
     "output_type": "stream",
     "text": [
      "β=4.0, lr=0.001, ld=64, nb=2 → VAE AUC=0.818, XGB AUC=0.912\n"
     ]
    },
    {
     "data": {
      "application/vnd.jupyter.widget-view+json": {
       "model_id": "4de098d5b7504776afd65c82d40dab34",
       "version_major": 2,
       "version_minor": 0
      },
      "text/plain": [
       "VAE epochs:   0%|          | 0/15 [00:00<?, ?it/s]"
      ]
     },
     "metadata": {},
     "output_type": "display_data"
    },
    {
     "name": "stderr",
     "output_type": "stream",
     "text": [
      "c:\\ProgramData\\anaconda3\\envs\\TP-final_ML\\lib\\site-packages\\xgboost\\training.py:183: UserWarning: [03:46:17] WARNING: C:\\b\\abs_d97hy_84m6\\croot\\xgboost-split_1749630932152\\work\\src\\learner.cc:738: \n",
      "Parameters: { \"use_label_encoder\" } are not used.\n",
      "\n",
      "  bst.update(dtrain, iteration=i, fobj=obj)\n"
     ]
    },
    {
     "name": "stdout",
     "output_type": "stream",
     "text": [
      "β=4.0, lr=0.001, ld=64, nb=3 → VAE AUC=0.819, XGB AUC=0.915\n"
     ]
    },
    {
     "data": {
      "application/vnd.jupyter.widget-view+json": {
       "model_id": "7ccb0221ec734e609a59f7d155c178bd",
       "version_major": 2,
       "version_minor": 0
      },
      "text/plain": [
       "VAE epochs:   0%|          | 0/15 [00:00<?, ?it/s]"
      ]
     },
     "metadata": {},
     "output_type": "display_data"
    },
    {
     "name": "stderr",
     "output_type": "stream",
     "text": [
      "c:\\ProgramData\\anaconda3\\envs\\TP-final_ML\\lib\\site-packages\\xgboost\\training.py:183: UserWarning: [03:47:45] WARNING: C:\\b\\abs_d97hy_84m6\\croot\\xgboost-split_1749630932152\\work\\src\\learner.cc:738: \n",
      "Parameters: { \"use_label_encoder\" } are not used.\n",
      "\n",
      "  bst.update(dtrain, iteration=i, fobj=obj)\n"
     ]
    },
    {
     "name": "stdout",
     "output_type": "stream",
     "text": [
      "β=4.0, lr=0.0005, ld=16, nb=2 → VAE AUC=0.818, XGB AUC=0.900\n"
     ]
    },
    {
     "data": {
      "application/vnd.jupyter.widget-view+json": {
       "model_id": "ed2228d24e7149439613763c72d9c317",
       "version_major": 2,
       "version_minor": 0
      },
      "text/plain": [
       "VAE epochs:   0%|          | 0/15 [00:00<?, ?it/s]"
      ]
     },
     "metadata": {},
     "output_type": "display_data"
    },
    {
     "name": "stderr",
     "output_type": "stream",
     "text": [
      "c:\\ProgramData\\anaconda3\\envs\\TP-final_ML\\lib\\site-packages\\xgboost\\training.py:183: UserWarning: [03:49:36] WARNING: C:\\b\\abs_d97hy_84m6\\croot\\xgboost-split_1749630932152\\work\\src\\learner.cc:738: \n",
      "Parameters: { \"use_label_encoder\" } are not used.\n",
      "\n",
      "  bst.update(dtrain, iteration=i, fobj=obj)\n"
     ]
    },
    {
     "name": "stdout",
     "output_type": "stream",
     "text": [
      "β=4.0, lr=0.0005, ld=16, nb=3 → VAE AUC=0.819, XGB AUC=0.875\n"
     ]
    },
    {
     "data": {
      "application/vnd.jupyter.widget-view+json": {
       "model_id": "692ce6bcbf80448b988903d8ef0158e2",
       "version_major": 2,
       "version_minor": 0
      },
      "text/plain": [
       "VAE epochs:   0%|          | 0/15 [00:00<?, ?it/s]"
      ]
     },
     "metadata": {},
     "output_type": "display_data"
    },
    {
     "name": "stderr",
     "output_type": "stream",
     "text": [
      "c:\\ProgramData\\anaconda3\\envs\\TP-final_ML\\lib\\site-packages\\xgboost\\training.py:183: UserWarning: [03:51:12] WARNING: C:\\b\\abs_d97hy_84m6\\croot\\xgboost-split_1749630932152\\work\\src\\learner.cc:738: \n",
      "Parameters: { \"use_label_encoder\" } are not used.\n",
      "\n",
      "  bst.update(dtrain, iteration=i, fobj=obj)\n"
     ]
    },
    {
     "name": "stdout",
     "output_type": "stream",
     "text": [
      "β=4.0, lr=0.0005, ld=32, nb=2 → VAE AUC=0.819, XGB AUC=0.917\n"
     ]
    },
    {
     "data": {
      "application/vnd.jupyter.widget-view+json": {
       "model_id": "8fba7d7ffdeb430ab4cee2bdfcc8d369",
       "version_major": 2,
       "version_minor": 0
      },
      "text/plain": [
       "VAE epochs:   0%|          | 0/15 [00:00<?, ?it/s]"
      ]
     },
     "metadata": {},
     "output_type": "display_data"
    },
    {
     "name": "stderr",
     "output_type": "stream",
     "text": [
      "c:\\ProgramData\\anaconda3\\envs\\TP-final_ML\\lib\\site-packages\\xgboost\\training.py:183: UserWarning: [03:53:10] WARNING: C:\\b\\abs_d97hy_84m6\\croot\\xgboost-split_1749630932152\\work\\src\\learner.cc:738: \n",
      "Parameters: { \"use_label_encoder\" } are not used.\n",
      "\n",
      "  bst.update(dtrain, iteration=i, fobj=obj)\n"
     ]
    },
    {
     "name": "stdout",
     "output_type": "stream",
     "text": [
      "β=4.0, lr=0.0005, ld=32, nb=3 → VAE AUC=0.828, XGB AUC=0.877\n"
     ]
    },
    {
     "data": {
      "application/vnd.jupyter.widget-view+json": {
       "model_id": "c8ffed6b04254a938a4d7fff6cc84e6b",
       "version_major": 2,
       "version_minor": 0
      },
      "text/plain": [
       "VAE epochs:   0%|          | 0/15 [00:00<?, ?it/s]"
      ]
     },
     "metadata": {},
     "output_type": "display_data"
    },
    {
     "name": "stderr",
     "output_type": "stream",
     "text": [
      "c:\\ProgramData\\anaconda3\\envs\\TP-final_ML\\lib\\site-packages\\xgboost\\training.py:183: UserWarning: [03:55:01] WARNING: C:\\b\\abs_d97hy_84m6\\croot\\xgboost-split_1749630932152\\work\\src\\learner.cc:738: \n",
      "Parameters: { \"use_label_encoder\" } are not used.\n",
      "\n",
      "  bst.update(dtrain, iteration=i, fobj=obj)\n"
     ]
    },
    {
     "name": "stdout",
     "output_type": "stream",
     "text": [
      "β=4.0, lr=0.0005, ld=64, nb=2 → VAE AUC=0.821, XGB AUC=0.885\n"
     ]
    },
    {
     "data": {
      "application/vnd.jupyter.widget-view+json": {
       "model_id": "02bad53da79649ee8702f6d243fa4dde",
       "version_major": 2,
       "version_minor": 0
      },
      "text/plain": [
       "VAE epochs:   0%|          | 0/15 [00:00<?, ?it/s]"
      ]
     },
     "metadata": {},
     "output_type": "display_data"
    },
    {
     "name": "stderr",
     "output_type": "stream",
     "text": [
      "c:\\ProgramData\\anaconda3\\envs\\TP-final_ML\\lib\\site-packages\\xgboost\\training.py:183: UserWarning: [03:57:16] WARNING: C:\\b\\abs_d97hy_84m6\\croot\\xgboost-split_1749630932152\\work\\src\\learner.cc:738: \n",
      "Parameters: { \"use_label_encoder\" } are not used.\n",
      "\n",
      "  bst.update(dtrain, iteration=i, fobj=obj)\n"
     ]
    },
    {
     "name": "stdout",
     "output_type": "stream",
     "text": [
      "β=4.0, lr=0.0005, ld=64, nb=3 → VAE AUC=0.818, XGB AUC=0.921\n"
     ]
    },
    {
     "data": {
      "application/vnd.jupyter.widget-view+json": {
       "model_id": "d6c5570045e146b2a252cbb72e9768fe",
       "version_major": 2,
       "version_minor": 0
      },
      "text/plain": [
       "VAE epochs:   0%|          | 0/15 [00:00<?, ?it/s]"
      ]
     },
     "metadata": {},
     "output_type": "display_data"
    },
    {
     "name": "stderr",
     "output_type": "stream",
     "text": [
      "c:\\ProgramData\\anaconda3\\envs\\TP-final_ML\\lib\\site-packages\\xgboost\\training.py:183: UserWarning: [03:58:44] WARNING: C:\\b\\abs_d97hy_84m6\\croot\\xgboost-split_1749630932152\\work\\src\\learner.cc:738: \n",
      "Parameters: { \"use_label_encoder\" } are not used.\n",
      "\n",
      "  bst.update(dtrain, iteration=i, fobj=obj)\n"
     ]
    },
    {
     "name": "stdout",
     "output_type": "stream",
     "text": [
      "β=4.0, lr=0.0001, ld=16, nb=2 → VAE AUC=0.818, XGB AUC=0.902\n"
     ]
    },
    {
     "data": {
      "application/vnd.jupyter.widget-view+json": {
       "model_id": "9013a1a514c2487aa2890e358b347edb",
       "version_major": 2,
       "version_minor": 0
      },
      "text/plain": [
       "VAE epochs:   0%|          | 0/15 [00:00<?, ?it/s]"
      ]
     },
     "metadata": {},
     "output_type": "display_data"
    },
    {
     "name": "stderr",
     "output_type": "stream",
     "text": [
      "c:\\ProgramData\\anaconda3\\envs\\TP-final_ML\\lib\\site-packages\\xgboost\\training.py:183: UserWarning: [04:00:35] WARNING: C:\\b\\abs_d97hy_84m6\\croot\\xgboost-split_1749630932152\\work\\src\\learner.cc:738: \n",
      "Parameters: { \"use_label_encoder\" } are not used.\n",
      "\n",
      "  bst.update(dtrain, iteration=i, fobj=obj)\n"
     ]
    },
    {
     "name": "stdout",
     "output_type": "stream",
     "text": [
      "β=4.0, lr=0.0001, ld=16, nb=3 → VAE AUC=0.818, XGB AUC=0.893\n"
     ]
    },
    {
     "data": {
      "application/vnd.jupyter.widget-view+json": {
       "model_id": "c4417655133d4785940d540d1969e539",
       "version_major": 2,
       "version_minor": 0
      },
      "text/plain": [
       "VAE epochs:   0%|          | 0/15 [00:00<?, ?it/s]"
      ]
     },
     "metadata": {},
     "output_type": "display_data"
    },
    {
     "name": "stderr",
     "output_type": "stream",
     "text": [
      "c:\\ProgramData\\anaconda3\\envs\\TP-final_ML\\lib\\site-packages\\xgboost\\training.py:183: UserWarning: [04:02:10] WARNING: C:\\b\\abs_d97hy_84m6\\croot\\xgboost-split_1749630932152\\work\\src\\learner.cc:738: \n",
      "Parameters: { \"use_label_encoder\" } are not used.\n",
      "\n",
      "  bst.update(dtrain, iteration=i, fobj=obj)\n"
     ]
    },
    {
     "name": "stdout",
     "output_type": "stream",
     "text": [
      "β=4.0, lr=0.0001, ld=32, nb=2 → VAE AUC=0.818, XGB AUC=0.906\n"
     ]
    },
    {
     "data": {
      "application/vnd.jupyter.widget-view+json": {
       "model_id": "20790acd3dad4c7fa3bb95cd7bf2043c",
       "version_major": 2,
       "version_minor": 0
      },
      "text/plain": [
       "VAE epochs:   0%|          | 0/15 [00:00<?, ?it/s]"
      ]
     },
     "metadata": {},
     "output_type": "display_data"
    },
    {
     "name": "stderr",
     "output_type": "stream",
     "text": [
      "c:\\ProgramData\\anaconda3\\envs\\TP-final_ML\\lib\\site-packages\\xgboost\\training.py:183: UserWarning: [04:04:09] WARNING: C:\\b\\abs_d97hy_84m6\\croot\\xgboost-split_1749630932152\\work\\src\\learner.cc:738: \n",
      "Parameters: { \"use_label_encoder\" } are not used.\n",
      "\n",
      "  bst.update(dtrain, iteration=i, fobj=obj)\n"
     ]
    },
    {
     "name": "stdout",
     "output_type": "stream",
     "text": [
      "β=4.0, lr=0.0001, ld=32, nb=3 → VAE AUC=0.818, XGB AUC=0.908\n"
     ]
    },
    {
     "data": {
      "application/vnd.jupyter.widget-view+json": {
       "model_id": "80c2b22248854f8cb378351d402e934e",
       "version_major": 2,
       "version_minor": 0
      },
      "text/plain": [
       "VAE epochs:   0%|          | 0/15 [00:00<?, ?it/s]"
      ]
     },
     "metadata": {},
     "output_type": "display_data"
    },
    {
     "name": "stderr",
     "output_type": "stream",
     "text": [
      "c:\\ProgramData\\anaconda3\\envs\\TP-final_ML\\lib\\site-packages\\xgboost\\training.py:183: UserWarning: [04:06:00] WARNING: C:\\b\\abs_d97hy_84m6\\croot\\xgboost-split_1749630932152\\work\\src\\learner.cc:738: \n",
      "Parameters: { \"use_label_encoder\" } are not used.\n",
      "\n",
      "  bst.update(dtrain, iteration=i, fobj=obj)\n"
     ]
    },
    {
     "name": "stdout",
     "output_type": "stream",
     "text": [
      "β=4.0, lr=0.0001, ld=64, nb=2 → VAE AUC=0.818, XGB AUC=0.914\n"
     ]
    },
    {
     "data": {
      "application/vnd.jupyter.widget-view+json": {
       "model_id": "2d7630b893f14a59946f52d9615ba9f4",
       "version_major": 2,
       "version_minor": 0
      },
      "text/plain": [
       "VAE epochs:   0%|          | 0/15 [00:00<?, ?it/s]"
      ]
     },
     "metadata": {},
     "output_type": "display_data"
    },
    {
     "name": "stderr",
     "output_type": "stream",
     "text": [
      "c:\\ProgramData\\anaconda3\\envs\\TP-final_ML\\lib\\site-packages\\xgboost\\training.py:183: UserWarning: [04:08:14] WARNING: C:\\b\\abs_d97hy_84m6\\croot\\xgboost-split_1749630932152\\work\\src\\learner.cc:738: \n",
      "Parameters: { \"use_label_encoder\" } are not used.\n",
      "\n",
      "  bst.update(dtrain, iteration=i, fobj=obj)\n"
     ]
    },
    {
     "name": "stdout",
     "output_type": "stream",
     "text": [
      "β=4.0, lr=0.0001, ld=64, nb=3 → VAE AUC=0.818, XGB AUC=0.915\n"
     ]
    },
    {
     "data": {
      "application/vnd.jupyter.widget-view+json": {
       "model_id": "fc3adce1a4244121b383acd70f02d897",
       "version_major": 2,
       "version_minor": 0
      },
      "text/plain": [
       "VAE epochs:   0%|          | 0/15 [00:00<?, ?it/s]"
      ]
     },
     "metadata": {},
     "output_type": "display_data"
    },
    {
     "name": "stderr",
     "output_type": "stream",
     "text": [
      "c:\\ProgramData\\anaconda3\\envs\\TP-final_ML\\lib\\site-packages\\xgboost\\training.py:183: UserWarning: [04:09:43] WARNING: C:\\b\\abs_d97hy_84m6\\croot\\xgboost-split_1749630932152\\work\\src\\learner.cc:738: \n",
      "Parameters: { \"use_label_encoder\" } are not used.\n",
      "\n",
      "  bst.update(dtrain, iteration=i, fobj=obj)\n"
     ]
    },
    {
     "name": "stdout",
     "output_type": "stream",
     "text": [
      "β=10.0, lr=0.001, ld=16, nb=2 → VAE AUC=0.819, XGB AUC=0.903\n"
     ]
    },
    {
     "data": {
      "application/vnd.jupyter.widget-view+json": {
       "model_id": "394e8d3054e94c49b2f85d7906fd9b73",
       "version_major": 2,
       "version_minor": 0
      },
      "text/plain": [
       "VAE epochs:   0%|          | 0/15 [00:00<?, ?it/s]"
      ]
     },
     "metadata": {},
     "output_type": "display_data"
    },
    {
     "name": "stderr",
     "output_type": "stream",
     "text": [
      "c:\\ProgramData\\anaconda3\\envs\\TP-final_ML\\lib\\site-packages\\xgboost\\training.py:183: UserWarning: [04:11:33] WARNING: C:\\b\\abs_d97hy_84m6\\croot\\xgboost-split_1749630932152\\work\\src\\learner.cc:738: \n",
      "Parameters: { \"use_label_encoder\" } are not used.\n",
      "\n",
      "  bst.update(dtrain, iteration=i, fobj=obj)\n"
     ]
    },
    {
     "name": "stdout",
     "output_type": "stream",
     "text": [
      "β=10.0, lr=0.001, ld=16, nb=3 → VAE AUC=0.819, XGB AUC=0.894\n"
     ]
    },
    {
     "data": {
      "application/vnd.jupyter.widget-view+json": {
       "model_id": "88b768d71d654614b90e321eb55757c8",
       "version_major": 2,
       "version_minor": 0
      },
      "text/plain": [
       "VAE epochs:   0%|          | 0/15 [00:00<?, ?it/s]"
      ]
     },
     "metadata": {},
     "output_type": "display_data"
    },
    {
     "name": "stderr",
     "output_type": "stream",
     "text": [
      "c:\\ProgramData\\anaconda3\\envs\\TP-final_ML\\lib\\site-packages\\xgboost\\training.py:183: UserWarning: [04:13:09] WARNING: C:\\b\\abs_d97hy_84m6\\croot\\xgboost-split_1749630932152\\work\\src\\learner.cc:738: \n",
      "Parameters: { \"use_label_encoder\" } are not used.\n",
      "\n",
      "  bst.update(dtrain, iteration=i, fobj=obj)\n"
     ]
    },
    {
     "name": "stdout",
     "output_type": "stream",
     "text": [
      "β=10.0, lr=0.001, ld=32, nb=2 → VAE AUC=0.818, XGB AUC=0.911\n"
     ]
    },
    {
     "data": {
      "application/vnd.jupyter.widget-view+json": {
       "model_id": "17f533474fae4e3eb69fb7e6b3effb78",
       "version_major": 2,
       "version_minor": 0
      },
      "text/plain": [
       "VAE epochs:   0%|          | 0/15 [00:00<?, ?it/s]"
      ]
     },
     "metadata": {},
     "output_type": "display_data"
    },
    {
     "name": "stderr",
     "output_type": "stream",
     "text": [
      "c:\\ProgramData\\anaconda3\\envs\\TP-final_ML\\lib\\site-packages\\xgboost\\training.py:183: UserWarning: [04:15:07] WARNING: C:\\b\\abs_d97hy_84m6\\croot\\xgboost-split_1749630932152\\work\\src\\learner.cc:738: \n",
      "Parameters: { \"use_label_encoder\" } are not used.\n",
      "\n",
      "  bst.update(dtrain, iteration=i, fobj=obj)\n"
     ]
    },
    {
     "name": "stdout",
     "output_type": "stream",
     "text": [
      "β=10.0, lr=0.001, ld=32, nb=3 → VAE AUC=0.819, XGB AUC=0.903\n"
     ]
    },
    {
     "data": {
      "application/vnd.jupyter.widget-view+json": {
       "model_id": "6489b6dc7dc24028b7296d9d4fbb053a",
       "version_major": 2,
       "version_minor": 0
      },
      "text/plain": [
       "VAE epochs:   0%|          | 0/15 [00:00<?, ?it/s]"
      ]
     },
     "metadata": {},
     "output_type": "display_data"
    },
    {
     "name": "stderr",
     "output_type": "stream",
     "text": [
      "c:\\ProgramData\\anaconda3\\envs\\TP-final_ML\\lib\\site-packages\\xgboost\\training.py:183: UserWarning: [04:16:58] WARNING: C:\\b\\abs_d97hy_84m6\\croot\\xgboost-split_1749630932152\\work\\src\\learner.cc:738: \n",
      "Parameters: { \"use_label_encoder\" } are not used.\n",
      "\n",
      "  bst.update(dtrain, iteration=i, fobj=obj)\n"
     ]
    },
    {
     "name": "stdout",
     "output_type": "stream",
     "text": [
      "β=10.0, lr=0.001, ld=64, nb=2 → VAE AUC=0.819, XGB AUC=0.922\n"
     ]
    },
    {
     "data": {
      "application/vnd.jupyter.widget-view+json": {
       "model_id": "66236e604d08423298d08a2c3909099f",
       "version_major": 2,
       "version_minor": 0
      },
      "text/plain": [
       "VAE epochs:   0%|          | 0/15 [00:00<?, ?it/s]"
      ]
     },
     "metadata": {},
     "output_type": "display_data"
    },
    {
     "name": "stderr",
     "output_type": "stream",
     "text": [
      "c:\\ProgramData\\anaconda3\\envs\\TP-final_ML\\lib\\site-packages\\xgboost\\training.py:183: UserWarning: [04:19:13] WARNING: C:\\b\\abs_d97hy_84m6\\croot\\xgboost-split_1749630932152\\work\\src\\learner.cc:738: \n",
      "Parameters: { \"use_label_encoder\" } are not used.\n",
      "\n",
      "  bst.update(dtrain, iteration=i, fobj=obj)\n"
     ]
    },
    {
     "name": "stdout",
     "output_type": "stream",
     "text": [
      "β=10.0, lr=0.001, ld=64, nb=3 → VAE AUC=0.818, XGB AUC=0.923\n"
     ]
    },
    {
     "data": {
      "application/vnd.jupyter.widget-view+json": {
       "model_id": "fc7c1b40866d427d998a5eab4ff0f4f6",
       "version_major": 2,
       "version_minor": 0
      },
      "text/plain": [
       "VAE epochs:   0%|          | 0/15 [00:00<?, ?it/s]"
      ]
     },
     "metadata": {},
     "output_type": "display_data"
    },
    {
     "name": "stderr",
     "output_type": "stream",
     "text": [
      "c:\\ProgramData\\anaconda3\\envs\\TP-final_ML\\lib\\site-packages\\xgboost\\training.py:183: UserWarning: [04:20:41] WARNING: C:\\b\\abs_d97hy_84m6\\croot\\xgboost-split_1749630932152\\work\\src\\learner.cc:738: \n",
      "Parameters: { \"use_label_encoder\" } are not used.\n",
      "\n",
      "  bst.update(dtrain, iteration=i, fobj=obj)\n"
     ]
    },
    {
     "name": "stdout",
     "output_type": "stream",
     "text": [
      "β=10.0, lr=0.0005, ld=16, nb=2 → VAE AUC=0.819, XGB AUC=0.869\n"
     ]
    },
    {
     "data": {
      "application/vnd.jupyter.widget-view+json": {
       "model_id": "7af1d1cf9e8343809b5a4ad2235c8f37",
       "version_major": 2,
       "version_minor": 0
      },
      "text/plain": [
       "VAE epochs:   0%|          | 0/15 [00:00<?, ?it/s]"
      ]
     },
     "metadata": {},
     "output_type": "display_data"
    },
    {
     "name": "stderr",
     "output_type": "stream",
     "text": [
      "c:\\ProgramData\\anaconda3\\envs\\TP-final_ML\\lib\\site-packages\\xgboost\\training.py:183: UserWarning: [04:22:32] WARNING: C:\\b\\abs_d97hy_84m6\\croot\\xgboost-split_1749630932152\\work\\src\\learner.cc:738: \n",
      "Parameters: { \"use_label_encoder\" } are not used.\n",
      "\n",
      "  bst.update(dtrain, iteration=i, fobj=obj)\n"
     ]
    },
    {
     "name": "stdout",
     "output_type": "stream",
     "text": [
      "β=10.0, lr=0.0005, ld=16, nb=3 → VAE AUC=0.820, XGB AUC=0.866\n"
     ]
    },
    {
     "data": {
      "application/vnd.jupyter.widget-view+json": {
       "model_id": "0cac6202f96344bbbf5ee3e3d22c67f2",
       "version_major": 2,
       "version_minor": 0
      },
      "text/plain": [
       "VAE epochs:   0%|          | 0/15 [00:00<?, ?it/s]"
      ]
     },
     "metadata": {},
     "output_type": "display_data"
    },
    {
     "name": "stderr",
     "output_type": "stream",
     "text": [
      "c:\\ProgramData\\anaconda3\\envs\\TP-final_ML\\lib\\site-packages\\xgboost\\training.py:183: UserWarning: [04:24:07] WARNING: C:\\b\\abs_d97hy_84m6\\croot\\xgboost-split_1749630932152\\work\\src\\learner.cc:738: \n",
      "Parameters: { \"use_label_encoder\" } are not used.\n",
      "\n",
      "  bst.update(dtrain, iteration=i, fobj=obj)\n"
     ]
    },
    {
     "name": "stdout",
     "output_type": "stream",
     "text": [
      "β=10.0, lr=0.0005, ld=32, nb=2 → VAE AUC=0.818, XGB AUC=0.903\n"
     ]
    },
    {
     "data": {
      "application/vnd.jupyter.widget-view+json": {
       "model_id": "bace1fea1a1c40d8982d929b4308f239",
       "version_major": 2,
       "version_minor": 0
      },
      "text/plain": [
       "VAE epochs:   0%|          | 0/15 [00:00<?, ?it/s]"
      ]
     },
     "metadata": {},
     "output_type": "display_data"
    },
    {
     "name": "stderr",
     "output_type": "stream",
     "text": [
      "c:\\ProgramData\\anaconda3\\envs\\TP-final_ML\\lib\\site-packages\\xgboost\\training.py:183: UserWarning: [04:26:06] WARNING: C:\\b\\abs_d97hy_84m6\\croot\\xgboost-split_1749630932152\\work\\src\\learner.cc:738: \n",
      "Parameters: { \"use_label_encoder\" } are not used.\n",
      "\n",
      "  bst.update(dtrain, iteration=i, fobj=obj)\n"
     ]
    },
    {
     "name": "stdout",
     "output_type": "stream",
     "text": [
      "β=10.0, lr=0.0005, ld=32, nb=3 → VAE AUC=0.822, XGB AUC=0.873\n"
     ]
    },
    {
     "data": {
      "application/vnd.jupyter.widget-view+json": {
       "model_id": "6c28c4aa6b184ba9b79690e6f45b3b87",
       "version_major": 2,
       "version_minor": 0
      },
      "text/plain": [
       "VAE epochs:   0%|          | 0/15 [00:00<?, ?it/s]"
      ]
     },
     "metadata": {},
     "output_type": "display_data"
    },
    {
     "name": "stderr",
     "output_type": "stream",
     "text": [
      "c:\\ProgramData\\anaconda3\\envs\\TP-final_ML\\lib\\site-packages\\xgboost\\training.py:183: UserWarning: [04:27:56] WARNING: C:\\b\\abs_d97hy_84m6\\croot\\xgboost-split_1749630932152\\work\\src\\learner.cc:738: \n",
      "Parameters: { \"use_label_encoder\" } are not used.\n",
      "\n",
      "  bst.update(dtrain, iteration=i, fobj=obj)\n"
     ]
    },
    {
     "name": "stdout",
     "output_type": "stream",
     "text": [
      "β=10.0, lr=0.0005, ld=64, nb=2 → VAE AUC=0.781, XGB AUC=0.904\n"
     ]
    },
    {
     "data": {
      "application/vnd.jupyter.widget-view+json": {
       "model_id": "7fb2e46a7a4f48fd888c3d3b286034a6",
       "version_major": 2,
       "version_minor": 0
      },
      "text/plain": [
       "VAE epochs:   0%|          | 0/15 [00:00<?, ?it/s]"
      ]
     },
     "metadata": {},
     "output_type": "display_data"
    },
    {
     "name": "stderr",
     "output_type": "stream",
     "text": [
      "c:\\ProgramData\\anaconda3\\envs\\TP-final_ML\\lib\\site-packages\\xgboost\\training.py:183: UserWarning: [04:30:11] WARNING: C:\\b\\abs_d97hy_84m6\\croot\\xgboost-split_1749630932152\\work\\src\\learner.cc:738: \n",
      "Parameters: { \"use_label_encoder\" } are not used.\n",
      "\n",
      "  bst.update(dtrain, iteration=i, fobj=obj)\n"
     ]
    },
    {
     "name": "stdout",
     "output_type": "stream",
     "text": [
      "β=10.0, lr=0.0005, ld=64, nb=3 → VAE AUC=0.823, XGB AUC=0.880\n"
     ]
    },
    {
     "data": {
      "application/vnd.jupyter.widget-view+json": {
       "model_id": "b1fcacbbb7a6463b854bdbf86f720594",
       "version_major": 2,
       "version_minor": 0
      },
      "text/plain": [
       "VAE epochs:   0%|          | 0/15 [00:00<?, ?it/s]"
      ]
     },
     "metadata": {},
     "output_type": "display_data"
    },
    {
     "name": "stderr",
     "output_type": "stream",
     "text": [
      "c:\\ProgramData\\anaconda3\\envs\\TP-final_ML\\lib\\site-packages\\xgboost\\training.py:183: UserWarning: [04:31:39] WARNING: C:\\b\\abs_d97hy_84m6\\croot\\xgboost-split_1749630932152\\work\\src\\learner.cc:738: \n",
      "Parameters: { \"use_label_encoder\" } are not used.\n",
      "\n",
      "  bst.update(dtrain, iteration=i, fobj=obj)\n"
     ]
    },
    {
     "name": "stdout",
     "output_type": "stream",
     "text": [
      "β=10.0, lr=0.0001, ld=16, nb=2 → VAE AUC=0.818, XGB AUC=0.889\n"
     ]
    },
    {
     "data": {
      "application/vnd.jupyter.widget-view+json": {
       "model_id": "6f06146ff2fe4d5aa400f38121f03082",
       "version_major": 2,
       "version_minor": 0
      },
      "text/plain": [
       "VAE epochs:   0%|          | 0/15 [00:00<?, ?it/s]"
      ]
     },
     "metadata": {},
     "output_type": "display_data"
    },
    {
     "name": "stderr",
     "output_type": "stream",
     "text": [
      "c:\\ProgramData\\anaconda3\\envs\\TP-final_ML\\lib\\site-packages\\xgboost\\training.py:183: UserWarning: [04:33:30] WARNING: C:\\b\\abs_d97hy_84m6\\croot\\xgboost-split_1749630932152\\work\\src\\learner.cc:738: \n",
      "Parameters: { \"use_label_encoder\" } are not used.\n",
      "\n",
      "  bst.update(dtrain, iteration=i, fobj=obj)\n"
     ]
    },
    {
     "name": "stdout",
     "output_type": "stream",
     "text": [
      "β=10.0, lr=0.0001, ld=16, nb=3 → VAE AUC=0.818, XGB AUC=0.878\n"
     ]
    },
    {
     "data": {
      "application/vnd.jupyter.widget-view+json": {
       "model_id": "5313783da042483384143c3a368f0fe8",
       "version_major": 2,
       "version_minor": 0
      },
      "text/plain": [
       "VAE epochs:   0%|          | 0/15 [00:00<?, ?it/s]"
      ]
     },
     "metadata": {},
     "output_type": "display_data"
    },
    {
     "name": "stderr",
     "output_type": "stream",
     "text": [
      "c:\\ProgramData\\anaconda3\\envs\\TP-final_ML\\lib\\site-packages\\xgboost\\training.py:183: UserWarning: [04:35:05] WARNING: C:\\b\\abs_d97hy_84m6\\croot\\xgboost-split_1749630932152\\work\\src\\learner.cc:738: \n",
      "Parameters: { \"use_label_encoder\" } are not used.\n",
      "\n",
      "  bst.update(dtrain, iteration=i, fobj=obj)\n"
     ]
    },
    {
     "name": "stdout",
     "output_type": "stream",
     "text": [
      "β=10.0, lr=0.0001, ld=32, nb=2 → VAE AUC=0.818, XGB AUC=0.906\n"
     ]
    },
    {
     "data": {
      "application/vnd.jupyter.widget-view+json": {
       "model_id": "7dc99feace064fd4ac7fe11c358f1d3b",
       "version_major": 2,
       "version_minor": 0
      },
      "text/plain": [
       "VAE epochs:   0%|          | 0/15 [00:00<?, ?it/s]"
      ]
     },
     "metadata": {},
     "output_type": "display_data"
    },
    {
     "name": "stderr",
     "output_type": "stream",
     "text": [
      "c:\\ProgramData\\anaconda3\\envs\\TP-final_ML\\lib\\site-packages\\xgboost\\training.py:183: UserWarning: [04:37:04] WARNING: C:\\b\\abs_d97hy_84m6\\croot\\xgboost-split_1749630932152\\work\\src\\learner.cc:738: \n",
      "Parameters: { \"use_label_encoder\" } are not used.\n",
      "\n",
      "  bst.update(dtrain, iteration=i, fobj=obj)\n"
     ]
    },
    {
     "name": "stdout",
     "output_type": "stream",
     "text": [
      "β=10.0, lr=0.0001, ld=32, nb=3 → VAE AUC=0.818, XGB AUC=0.901\n"
     ]
    },
    {
     "data": {
      "application/vnd.jupyter.widget-view+json": {
       "model_id": "e80fd447be8045b4a399e7a340ff6e73",
       "version_major": 2,
       "version_minor": 0
      },
      "text/plain": [
       "VAE epochs:   0%|          | 0/15 [00:00<?, ?it/s]"
      ]
     },
     "metadata": {},
     "output_type": "display_data"
    },
    {
     "name": "stderr",
     "output_type": "stream",
     "text": [
      "c:\\ProgramData\\anaconda3\\envs\\TP-final_ML\\lib\\site-packages\\xgboost\\training.py:183: UserWarning: [04:38:55] WARNING: C:\\b\\abs_d97hy_84m6\\croot\\xgboost-split_1749630932152\\work\\src\\learner.cc:738: \n",
      "Parameters: { \"use_label_encoder\" } are not used.\n",
      "\n",
      "  bst.update(dtrain, iteration=i, fobj=obj)\n"
     ]
    },
    {
     "name": "stdout",
     "output_type": "stream",
     "text": [
      "β=10.0, lr=0.0001, ld=64, nb=2 → VAE AUC=0.819, XGB AUC=0.913\n"
     ]
    },
    {
     "data": {
      "application/vnd.jupyter.widget-view+json": {
       "model_id": "fdf9a7bba0fd4aaa940eea2b8bf1bd85",
       "version_major": 2,
       "version_minor": 0
      },
      "text/plain": [
       "VAE epochs:   0%|          | 0/15 [00:00<?, ?it/s]"
      ]
     },
     "metadata": {},
     "output_type": "display_data"
    },
    {
     "name": "stderr",
     "output_type": "stream",
     "text": [
      "c:\\ProgramData\\anaconda3\\envs\\TP-final_ML\\lib\\site-packages\\xgboost\\training.py:183: UserWarning: [04:41:09] WARNING: C:\\b\\abs_d97hy_84m6\\croot\\xgboost-split_1749630932152\\work\\src\\learner.cc:738: \n",
      "Parameters: { \"use_label_encoder\" } are not used.\n",
      "\n",
      "  bst.update(dtrain, iteration=i, fobj=obj)\n"
     ]
    },
    {
     "name": "stdout",
     "output_type": "stream",
     "text": [
      "β=10.0, lr=0.0001, ld=64, nb=3 → VAE AUC=0.819, XGB AUC=0.915\n",
      "Best hyperparameters (by XGB AUC): {'beta': 1.0, 'lr': 0.0005, 'latent_dim': 64, 'n_blocks': 3, 'vae_auc': np.float64(0.8181006113218106), 'xgb_auc': np.float64(0.9330717913296752)}\n"
     ]
    }
   ],
   "source": [
    "results = []\n",
    "\n",
    "for beta, lr, latent_dim, n_blocks in tqdm(combos, desc=\"Hyperparam sweep\", total=len(combos)):\n",
    "    model = VAE1D(input_ch=1, coeff_ch=dev_norm_coeffs.shape[1], latent_dim=latent_dim, n_blocks=n_blocks).to(device)\n",
    "    optimizer = torch.optim.Adam(model.parameters(), lr=lr)\n",
    "\n",
    "    # Entrenamos sobre train_loader (solo normales)\n",
    "    for _ in tqdm(range(hp_epochs), desc=\"VAE epochs\", leave=False):\n",
    "        model.train()\n",
    "        for x_signal, x_coeffs, _ in train_loader:\n",
    "            x_s, x_c = x_signal.to(device), x_coeffs.to(device)\n",
    "            recon, mu, logv = model(x_s, x_c)\n",
    "            recon_loss = nn.functional.mse_loss(recon, x_s)\n",
    "            kl_loss = (-0.5 * (1 + logv - mu.pow(2) - logv.exp()).sum()) / x_s.size(0)\n",
    "            loss = recon_loss + beta * kl_loss\n",
    "            optimizer.zero_grad(); loss.backward(); optimizer.step()\n",
    "\n",
    "    # ELBO en validación\n",
    "    errs_val, zs_val = compute_scores(model, val_loader, device, beta)\n",
    "    errs_val = np.nan_to_num(errs_val, nan=0.0, posinf=1e6, neginf=-1e6) # para NaNs/Infs\n",
    "    scores_val = -errs_val\n",
    "    labels_val = val_ds.tensors[2].numpy()\n",
    "    vae_auc = roc_auc_score(labels_val, scores_val)\n",
    "    \n",
    "    # Train para XGB es normales + anómalos de Train\n",
    "    X_tr_sigs  = torch.cat([train_norm_signal_tensor, train_ano_signal_tensor], dim=0)\n",
    "    X_tr_coefs = torch.cat([train_norm_coeffs_tensor, train_ano_coeffs_tensor], dim=0)\n",
    "    y_tr       = np.concatenate([\n",
    "                     np.zeros(len(train_norm_signal_tensor)),\n",
    "                     np.ones (len(train_ano_signal_tensor))\n",
    "                 ])\n",
    "\n",
    "    tr_clf_loader = DataLoader(\n",
    "        TensorDataset(X_tr_sigs, X_tr_coefs, torch.zeros(len(X_tr_sigs))),\n",
    "        batch_size=batch_size,\n",
    "        shuffle=False\n",
    "    )\n",
    "\n",
    "    # Scores y representaciones latentes en el train set para XGB\n",
    "    errs_tr, zs_tr = compute_scores(model, tr_clf_loader, device, beta)\n",
    "    errs_tr = np.nan_to_num(errs_tr, nan=0.0, posinf=1e6, neginf=-1e6) \n",
    "    X_tr = np.hstack([(-errs_tr).reshape(-1,1), zs_tr])\n",
    "    \n",
    "    # Entreno el XGBoost en el train que me armé recién\n",
    "    clf = XGBClassifier(use_label_encoder=False, eval_metric='logloss')\n",
    "    clf.fit(X_tr, y_tr)\n",
    "\n",
    "    # XGBoost en val set\n",
    "    errs_val2, zs_val2 = compute_scores(model, val_loader, device, beta)\n",
    "    errs_val2 = np.nan_to_num(errs_val2, nan=0.0, posinf=1e6, neginf=-1e6)\n",
    "    X_val = np.hstack([(-errs_val2).reshape(-1,1), zs_val2])\n",
    "    probs = clf.predict_proba(X_val)[:,1]\n",
    "    xgb_auc = roc_auc_score(labels_val, probs)\n",
    "\n",
    "    results.append({\n",
    "        'beta': beta,\n",
    "        'lr': lr,\n",
    "        'latent_dim': latent_dim,\n",
    "        'n_blocks': n_blocks,\n",
    "        'vae_auc': vae_auc,\n",
    "        'xgb_auc': xgb_auc\n",
    "    })\n",
    "    tqdm.write(f\"β={beta}, lr={lr}, ld={latent_dim}, nb={n_blocks} → VAE AUC={vae_auc:.3f}, XGB AUC={xgb_auc:.3f}\")\n",
    "    \n",
    "\n",
    "best_hps = max(results, key=lambda x: x['xgb_auc'])\n",
    "print(\"Best hyperparameters (by XGB AUC):\", best_hps)\n"
   ]
  },
  {
   "cell_type": "code",
   "execution_count": 18,
   "id": "f234b06c",
   "metadata": {},
   "outputs": [],
   "source": [
    "best_hps = {'beta': 1.0, 'lr': 0.0005, 'latent_dim': 64, 'n_blocks': 3, 'vae_auc': np.float64(0.8181006113218106), 'xgb_auc': np.float64(0.9330717913296752)}"
   ]
  },
  {
   "cell_type": "code",
   "execution_count": null,
   "id": "80b3ad91",
   "metadata": {},
   "outputs": [
    {
     "name": "stdout",
     "output_type": "stream",
     "text": [
      "    beta      lr  latent_dim  n_blocks   vae_auc   xgb_auc\n",
      "0    1.0  0.0010          16         2  0.818190  0.922132\n",
      "1    1.0  0.0010          16         3  0.837113  0.881862\n",
      "2    1.0  0.0010          32         2  0.816897  0.931076\n",
      "3    1.0  0.0010          32         3  0.817452  0.930968\n",
      "4    1.0  0.0010          64         2  0.820519  0.901479\n",
      "5    1.0  0.0010          64         3  0.818180  0.926988\n",
      "6    1.0  0.0005          16         2  0.817907  0.921154\n",
      "7    1.0  0.0005          16         3  0.817991  0.924776\n",
      "8    1.0  0.0005          32         2  0.818814  0.910168\n",
      "9    1.0  0.0005          32         3  0.818198  0.929987\n",
      "10   1.0  0.0005          64         2  0.818484  0.918168\n",
      "11   1.0  0.0005          64         3  0.818101  0.933072\n",
      "12   1.0  0.0001          16         2  0.818159  0.912004\n",
      "13   1.0  0.0001          16         3  0.818142  0.903487\n",
      "14   1.0  0.0001          32         2  0.818084  0.925784\n",
      "15   1.0  0.0001          32         3  0.818073  0.920064\n",
      "16   1.0  0.0001          64         2  0.818007  0.930259\n",
      "17   1.0  0.0001          64         3  0.818098  0.927417\n",
      "18   4.0  0.0010          16         2  0.818023  0.907835\n",
      "19   4.0  0.0010          16         3  0.818561  0.909938\n",
      "20   4.0  0.0010          32         2  0.818415  0.922293\n",
      "21   4.0  0.0010          32         3  0.818146  0.909909\n",
      "22   4.0  0.0010          64         2  0.817887  0.912465\n",
      "23   4.0  0.0010          64         3  0.818938  0.915281\n",
      "24   4.0  0.0005          16         2  0.818164  0.900312\n",
      "25   4.0  0.0005          16         3  0.818901  0.875329\n",
      "26   4.0  0.0005          32         2  0.818589  0.917295\n",
      "27   4.0  0.0005          32         3  0.827862  0.876584\n",
      "28   4.0  0.0005          64         2  0.820981  0.885468\n",
      "29   4.0  0.0005          64         3  0.817836  0.920621\n",
      "30   4.0  0.0001          16         2  0.818157  0.902153\n",
      "31   4.0  0.0001          16         3  0.818058  0.892537\n",
      "32   4.0  0.0001          32         2  0.818267  0.906458\n",
      "33   4.0  0.0001          32         3  0.818019  0.907681\n",
      "34   4.0  0.0001          64         2  0.818379  0.914007\n",
      "35   4.0  0.0001          64         3  0.818075  0.914785\n",
      "36  10.0  0.0010          16         2  0.819076  0.902780\n",
      "37  10.0  0.0010          16         3  0.819339  0.894273\n",
      "38  10.0  0.0010          32         2  0.817863  0.910876\n",
      "39  10.0  0.0010          32         3  0.818575  0.903096\n",
      "40  10.0  0.0010          64         2  0.818686  0.921954\n",
      "41  10.0  0.0010          64         3  0.818111  0.923307\n",
      "42  10.0  0.0005          16         2  0.819042  0.868683\n",
      "43  10.0  0.0005          16         3  0.819843  0.865829\n",
      "44  10.0  0.0005          32         2  0.817882  0.902784\n",
      "45  10.0  0.0005          32         3  0.822367  0.872801\n",
      "46  10.0  0.0005          64         2  0.780644  0.904320\n",
      "47  10.0  0.0005          64         3  0.823121  0.879528\n",
      "48  10.0  0.0001          16         2  0.818293  0.888893\n",
      "49  10.0  0.0001          16         3  0.818219  0.878468\n",
      "50  10.0  0.0001          32         2  0.818494  0.905976\n",
      "51  10.0  0.0001          32         3  0.818292  0.900881\n",
      "52  10.0  0.0001          64         2  0.818535  0.913017\n",
      "53  10.0  0.0001          64         3  0.818811  0.915156\n"
     ]
    }
   ],
   "source": [
    "df = pd.DataFrame(results)\n",
    "print(df)"
   ]
  },
  {
   "cell_type": "code",
   "execution_count": null,
   "id": "1d6cc2c9",
   "metadata": {},
   "outputs": [
    {
     "name": "stdout",
     "output_type": "stream",
     "text": [
      "Hyper‑parámetros guardados en C:/Users/anapt/Repositorios/TP-final_ML/TP-final_ML/ecg_project/models/best_hps.json\n"
     ]
    }
   ],
   "source": [
    "hps = {\n",
    "    'beta': 1.0,\n",
    "    'lr': 0.0005,\n",
    "    'latent_dim': 64,\n",
    "    'n_blocks': 3,\n",
    "    'vae_auc': np.float64(0.8181006113218106),\n",
    "    'xgb_auc': np.float64(0.9330717913296752),\n",
    "    'batch_size': 64,\n",
    "    'epochs': 35\n",
    "}\n",
    "\n",
    "out_dir = \"C:/Users/anapt/Repositorios/TP-final_ML/TP-final_ML/ecg_project/models\"\n",
    "os.makedirs(out_dir, exist_ok=True)\n",
    "\n",
    "hps_path = os.path.join(out_dir, \"best_hps.json\")\n",
    "clean_hps = {k: float(v) if isinstance(v, (np.floating, np.integer)) else v for k, v in hps.items()}\n",
    "\n",
    "with open(hps_path, \"w\") as f:\n",
    "    json.dump(clean_hps, f, indent=2)\n",
    "\n",
    "print(\"Hyper‑parámetros guardados en C:/Users/anapt/Repositorios/TP-final_ML/TP-final_ML/ecg_project/models/best_hps.json\")"
   ]
  },
  {
   "cell_type": "code",
   "execution_count": null,
   "id": "02a63474",
   "metadata": {},
   "outputs": [
    {
     "data": {
      "text/html": [
       "<style type=\"text/css\">\n",
       "</style>\n",
       "<table id=\"T_fb316\">\n",
       "  <caption>Best hyperparameters (by XGB AUC)</caption>\n",
       "  <thead>\n",
       "    <tr>\n",
       "      <th class=\"blank level0\" >&nbsp;</th>\n",
       "      <th id=\"T_fb316_level0_col0\" class=\"col_heading level0 col0\" >beta</th>\n",
       "      <th id=\"T_fb316_level0_col1\" class=\"col_heading level0 col1\" >lr</th>\n",
       "      <th id=\"T_fb316_level0_col2\" class=\"col_heading level0 col2\" >latent_dim</th>\n",
       "      <th id=\"T_fb316_level0_col3\" class=\"col_heading level0 col3\" >n_blocks</th>\n",
       "      <th id=\"T_fb316_level0_col4\" class=\"col_heading level0 col4\" >vae_auc</th>\n",
       "      <th id=\"T_fb316_level0_col5\" class=\"col_heading level0 col5\" >xgb_auc</th>\n",
       "    </tr>\n",
       "  </thead>\n",
       "  <tbody>\n",
       "    <tr>\n",
       "      <th id=\"T_fb316_level0_row0\" class=\"row_heading level0 row0\" >0</th>\n",
       "      <td id=\"T_fb316_row0_col0\" class=\"data row0 col0\" >1</td>\n",
       "      <td id=\"T_fb316_row0_col1\" class=\"data row0 col1\" >0.0005</td>\n",
       "      <td id=\"T_fb316_row0_col2\" class=\"data row0 col2\" >64</td>\n",
       "      <td id=\"T_fb316_row0_col3\" class=\"data row0 col3\" >3</td>\n",
       "      <td id=\"T_fb316_row0_col4\" class=\"data row0 col4\" >0.8181</td>\n",
       "      <td id=\"T_fb316_row0_col5\" class=\"data row0 col5\" >0.93307</td>\n",
       "    </tr>\n",
       "  </tbody>\n",
       "</table>\n"
      ],
      "text/plain": [
       "<pandas.io.formats.style.Styler at 0x25a6aa398a0>"
      ]
     },
     "metadata": {},
     "output_type": "display_data"
    }
   ],
   "source": [
    "from IPython.display import display\n",
    "\n",
    "def smart_format(x):\n",
    "    if isinstance(x, float):\n",
    "        return f\"{x:.5g}\"\n",
    "    return x\n",
    "\n",
    "df = pd.DataFrame([best_hps])\n",
    "styled_df = df.style.format(smart_format).set_caption(\"Best hyperparameters (by XGB AUC)\")\n",
    "\n",
    "display(styled_df)"
   ]
  },
  {
   "cell_type": "code",
   "execution_count": 19,
   "id": "7b0320cc",
   "metadata": {},
   "outputs": [],
   "source": [
    "batch_size = 64"
   ]
  },
  {
   "cell_type": "markdown",
   "id": "6cf2517d",
   "metadata": {},
   "source": [
    "# Retraining with Best hyperparameters but more epochs"
   ]
  },
  {
   "cell_type": "code",
   "execution_count": 29,
   "id": "0710ff08",
   "metadata": {},
   "outputs": [],
   "source": [
    "latent_dim = best_hps['latent_dim']\n",
    "lr = best_hps['lr']\n",
    "n_blocks = best_hps['n_blocks']\n",
    "beta_value = best_hps['beta']\n",
    "epochs = 40\n",
    "\n",
    "NUM_INPUT_CH = dev_norm_signal_tensor.shape[1]  # 1\n",
    "NUM_COEFF_CH = dev_norm_coeffs_tensor.shape[1]  # 21"
   ]
  },
  {
   "cell_type": "code",
   "execution_count": 30,
   "id": "99d00abb",
   "metadata": {},
   "outputs": [
    {
     "name": "stdout",
     "output_type": "stream",
     "text": [
      "Using device: cuda, Signal Channels: 1, Coeff Channels: 21\n"
     ]
    }
   ],
   "source": [
    "print(f\"Using device: {device}, Signal Channels: {NUM_INPUT_CH}, Coeff Channels: {NUM_COEFF_CH}\")\n",
    "\n",
    "model = VAE1D(input_ch=NUM_INPUT_CH, coeff_ch=NUM_COEFF_CH, latent_dim=latent_dim, n_blocks=n_blocks).to(device)\n",
    "optimizer = torch.optim.Adam(model.parameters(), lr=lr)"
   ]
  },
  {
   "cell_type": "code",
   "execution_count": null,
   "id": "5c99d6c1",
   "metadata": {},
   "outputs": [
    {
     "name": "stdout",
     "output_type": "stream",
     "text": [
      "Starting VAE training...\n"
     ]
    },
    {
     "data": {
      "application/vnd.jupyter.widget-view+json": {
       "model_id": "f078447698054a3199cacd5bdd77fc6a",
       "version_major": 2,
       "version_minor": 0
      },
      "text/plain": [
       "Training epochs:   0%|          | 0/40 [00:00<?, ?it/s]"
      ]
     },
     "metadata": {},
     "output_type": "display_data"
    },
    {
     "data": {
      "application/vnd.jupyter.widget-view+json": {
       "model_id": "d7bd840e98f54c4bbeb51d9403495d7e",
       "version_major": 2,
       "version_minor": 0
      },
      "text/plain": [
       "Epoch 1/40:   0%|          | 0/676 [00:00<?, ?it/s]"
      ]
     },
     "metadata": {},
     "output_type": "display_data"
    },
    {
     "name": "stdout",
     "output_type": "stream",
     "text": [
      "Epoch 1/40  Recon=1.1283  KL=0.9664  Total=2.0947,  VAE Loss: 2.0942\n"
     ]
    },
    {
     "data": {
      "application/vnd.jupyter.widget-view+json": {
       "model_id": "bb602257c0f8458aae54f7d77d2e4fbf",
       "version_major": 2,
       "version_minor": 0
      },
      "text/plain": [
       "Epoch 2/40:   0%|          | 0/676 [00:00<?, ?it/s]"
      ]
     },
     "metadata": {},
     "output_type": "display_data"
    },
    {
     "name": "stdout",
     "output_type": "stream",
     "text": [
      "Epoch 2/40  Recon=0.9560  KL=0.0155  Total=0.9714,  VAE Loss: 0.9714\n"
     ]
    },
    {
     "data": {
      "application/vnd.jupyter.widget-view+json": {
       "model_id": "72a84b3ea28e4a47b1875e67699c65fc",
       "version_major": 2,
       "version_minor": 0
      },
      "text/plain": [
       "Epoch 3/40:   0%|          | 0/676 [00:00<?, ?it/s]"
      ]
     },
     "metadata": {},
     "output_type": "display_data"
    },
    {
     "name": "stdout",
     "output_type": "stream",
     "text": [
      "Epoch 3/40  Recon=0.9560  KL=0.0104  Total=0.9664,  VAE Loss: 0.9664\n"
     ]
    },
    {
     "data": {
      "application/vnd.jupyter.widget-view+json": {
       "model_id": "9492ccd37707490aaee41209679702fc",
       "version_major": 2,
       "version_minor": 0
      },
      "text/plain": [
       "Epoch 4/40:   0%|          | 0/676 [00:00<?, ?it/s]"
      ]
     },
     "metadata": {},
     "output_type": "display_data"
    },
    {
     "name": "stdout",
     "output_type": "stream",
     "text": [
      "Epoch 4/40  Recon=0.9558  KL=0.0108  Total=0.9666,  VAE Loss: 0.9666\n"
     ]
    },
    {
     "data": {
      "application/vnd.jupyter.widget-view+json": {
       "model_id": "b263601f10b145969faa6cb0c66d175e",
       "version_major": 2,
       "version_minor": 0
      },
      "text/plain": [
       "Epoch 5/40:   0%|          | 0/676 [00:00<?, ?it/s]"
      ]
     },
     "metadata": {},
     "output_type": "display_data"
    },
    {
     "name": "stdout",
     "output_type": "stream",
     "text": [
      "Epoch 5/40  Recon=0.9555  KL=0.0077  Total=0.9632,  VAE Loss: 0.9632\n"
     ]
    },
    {
     "data": {
      "application/vnd.jupyter.widget-view+json": {
       "model_id": "88de6b9d193045dc94b583d7889b0e5a",
       "version_major": 2,
       "version_minor": 0
      },
      "text/plain": [
       "Epoch 6/40:   0%|          | 0/676 [00:00<?, ?it/s]"
      ]
     },
     "metadata": {},
     "output_type": "display_data"
    },
    {
     "name": "stdout",
     "output_type": "stream",
     "text": [
      "Epoch 6/40  Recon=0.9554  KL=0.0058  Total=0.9611,  VAE Loss: 0.9611\n"
     ]
    },
    {
     "data": {
      "application/vnd.jupyter.widget-view+json": {
       "model_id": "a8c179bd6e88426587d1c6da168851ff",
       "version_major": 2,
       "version_minor": 0
      },
      "text/plain": [
       "Epoch 7/40:   0%|          | 0/676 [00:00<?, ?it/s]"
      ]
     },
     "metadata": {},
     "output_type": "display_data"
    },
    {
     "name": "stdout",
     "output_type": "stream",
     "text": [
      "Epoch 7/40  Recon=0.9554  KL=0.0032  Total=0.9586,  VAE Loss: 0.9586\n"
     ]
    },
    {
     "data": {
      "application/vnd.jupyter.widget-view+json": {
       "model_id": "b91a20189a6b4196b49fc3150352e3f5",
       "version_major": 2,
       "version_minor": 0
      },
      "text/plain": [
       "Epoch 8/40:   0%|          | 0/676 [00:00<?, ?it/s]"
      ]
     },
     "metadata": {},
     "output_type": "display_data"
    },
    {
     "name": "stdout",
     "output_type": "stream",
     "text": [
      "Epoch 8/40  Recon=0.9552  KL=0.0027  Total=0.9580,  VAE Loss: 0.9580\n"
     ]
    },
    {
     "data": {
      "application/vnd.jupyter.widget-view+json": {
       "model_id": "44d9a1797bd04ba0954fa3f1fb2c37e2",
       "version_major": 2,
       "version_minor": 0
      },
      "text/plain": [
       "Epoch 9/40:   0%|          | 0/676 [00:00<?, ?it/s]"
      ]
     },
     "metadata": {},
     "output_type": "display_data"
    },
    {
     "name": "stdout",
     "output_type": "stream",
     "text": [
      "Epoch 9/40  Recon=0.9552  KL=0.0020  Total=0.9572,  VAE Loss: 0.9571\n"
     ]
    },
    {
     "data": {
      "application/vnd.jupyter.widget-view+json": {
       "model_id": "dedd8e43d6e94919a7f5bd5816c0f0c3",
       "version_major": 2,
       "version_minor": 0
      },
      "text/plain": [
       "Epoch 10/40:   0%|          | 0/676 [00:00<?, ?it/s]"
      ]
     },
     "metadata": {},
     "output_type": "display_data"
    },
    {
     "name": "stdout",
     "output_type": "stream",
     "text": [
      "Epoch 10/40  Recon=0.9551  KL=0.0030  Total=0.9581,  VAE Loss: 0.9581\n"
     ]
    },
    {
     "data": {
      "application/vnd.jupyter.widget-view+json": {
       "model_id": "a45d5dcce07a421c84550c8bda81a6fc",
       "version_major": 2,
       "version_minor": 0
      },
      "text/plain": [
       "Epoch 11/40:   0%|          | 0/676 [00:00<?, ?it/s]"
      ]
     },
     "metadata": {},
     "output_type": "display_data"
    },
    {
     "name": "stdout",
     "output_type": "stream",
     "text": [
      "Epoch 11/40  Recon=0.9550  KL=0.0044  Total=0.9594,  VAE Loss: 0.9594\n"
     ]
    },
    {
     "data": {
      "application/vnd.jupyter.widget-view+json": {
       "model_id": "0d579218e0f24bbfb882e72d0acfe69b",
       "version_major": 2,
       "version_minor": 0
      },
      "text/plain": [
       "Epoch 12/40:   0%|          | 0/676 [00:00<?, ?it/s]"
      ]
     },
     "metadata": {},
     "output_type": "display_data"
    },
    {
     "name": "stdout",
     "output_type": "stream",
     "text": [
      "Epoch 12/40  Recon=0.9549  KL=0.0004  Total=0.9553,  VAE Loss: 0.9553\n"
     ]
    },
    {
     "data": {
      "application/vnd.jupyter.widget-view+json": {
       "model_id": "6d312afef6e04f71971b7aad44872ab7",
       "version_major": 2,
       "version_minor": 0
      },
      "text/plain": [
       "Epoch 13/40:   0%|          | 0/676 [00:00<?, ?it/s]"
      ]
     },
     "metadata": {},
     "output_type": "display_data"
    },
    {
     "name": "stdout",
     "output_type": "stream",
     "text": [
      "Epoch 13/40  Recon=0.9548  KL=0.0005  Total=0.9553,  VAE Loss: 0.9553\n"
     ]
    },
    {
     "data": {
      "application/vnd.jupyter.widget-view+json": {
       "model_id": "1240dd3f8fe144008792b11c075e361f",
       "version_major": 2,
       "version_minor": 0
      },
      "text/plain": [
       "Epoch 14/40:   0%|          | 0/676 [00:00<?, ?it/s]"
      ]
     },
     "metadata": {},
     "output_type": "display_data"
    },
    {
     "name": "stdout",
     "output_type": "stream",
     "text": [
      "Epoch 14/40  Recon=0.9549  KL=0.0004  Total=0.9554,  VAE Loss: 0.9554\n"
     ]
    },
    {
     "data": {
      "application/vnd.jupyter.widget-view+json": {
       "model_id": "6eea05833f6d4218b70498018fcdd18c",
       "version_major": 2,
       "version_minor": 0
      },
      "text/plain": [
       "Epoch 15/40:   0%|          | 0/676 [00:00<?, ?it/s]"
      ]
     },
     "metadata": {},
     "output_type": "display_data"
    },
    {
     "name": "stdout",
     "output_type": "stream",
     "text": [
      "Epoch 15/40  Recon=0.9549  KL=0.0005  Total=0.9554,  VAE Loss: 0.9554\n"
     ]
    },
    {
     "data": {
      "application/vnd.jupyter.widget-view+json": {
       "model_id": "ac0502cd24c748ec8a60dfb048c964b2",
       "version_major": 2,
       "version_minor": 0
      },
      "text/plain": [
       "Epoch 16/40:   0%|          | 0/676 [00:00<?, ?it/s]"
      ]
     },
     "metadata": {},
     "output_type": "display_data"
    },
    {
     "name": "stdout",
     "output_type": "stream",
     "text": [
      "Epoch 16/40  Recon=0.9553  KL=0.3631  Total=1.3184,  VAE Loss: 1.3182\n"
     ]
    },
    {
     "data": {
      "application/vnd.jupyter.widget-view+json": {
       "model_id": "3ab97e8ad8b743c0a683a5dddf85dbaf",
       "version_major": 2,
       "version_minor": 0
      },
      "text/plain": [
       "Epoch 17/40:   0%|          | 0/676 [00:00<?, ?it/s]"
      ]
     },
     "metadata": {},
     "output_type": "display_data"
    },
    {
     "name": "stdout",
     "output_type": "stream",
     "text": [
      "Epoch 17/40  Recon=0.9547  KL=0.0033  Total=0.9580,  VAE Loss: 0.9580\n"
     ]
    },
    {
     "data": {
      "application/vnd.jupyter.widget-view+json": {
       "model_id": "ffd5c335c80c4ba3b6007569f3a1f110",
       "version_major": 2,
       "version_minor": 0
      },
      "text/plain": [
       "Epoch 18/40:   0%|          | 0/676 [00:00<?, ?it/s]"
      ]
     },
     "metadata": {},
     "output_type": "display_data"
    },
    {
     "name": "stdout",
     "output_type": "stream",
     "text": [
      "Epoch 18/40  Recon=0.9546  KL=0.0038  Total=0.9584,  VAE Loss: 0.9583\n"
     ]
    },
    {
     "data": {
      "application/vnd.jupyter.widget-view+json": {
       "model_id": "b40fa0f74bde41529784c36ed255b8ec",
       "version_major": 2,
       "version_minor": 0
      },
      "text/plain": [
       "Epoch 19/40:   0%|          | 0/676 [00:00<?, ?it/s]"
      ]
     },
     "metadata": {},
     "output_type": "display_data"
    },
    {
     "name": "stdout",
     "output_type": "stream",
     "text": [
      "Epoch 19/40  Recon=0.9547  KL=0.0025  Total=0.9573,  VAE Loss: 0.9573\n"
     ]
    },
    {
     "data": {
      "application/vnd.jupyter.widget-view+json": {
       "model_id": "c5ce5bce79b14e77abf436a63217dfcd",
       "version_major": 2,
       "version_minor": 0
      },
      "text/plain": [
       "Epoch 20/40:   0%|          | 0/676 [00:00<?, ?it/s]"
      ]
     },
     "metadata": {},
     "output_type": "display_data"
    },
    {
     "name": "stdout",
     "output_type": "stream",
     "text": [
      "Epoch 20/40  Recon=0.9547  KL=0.0018  Total=0.9565,  VAE Loss: 0.9566\n"
     ]
    },
    {
     "data": {
      "application/vnd.jupyter.widget-view+json": {
       "model_id": "053ee35ebb694b4a938ac8d23e4c19ff",
       "version_major": 2,
       "version_minor": 0
      },
      "text/plain": [
       "Epoch 21/40:   0%|          | 0/676 [00:00<?, ?it/s]"
      ]
     },
     "metadata": {},
     "output_type": "display_data"
    },
    {
     "name": "stdout",
     "output_type": "stream",
     "text": [
      "Epoch 21/40  Recon=0.9547  KL=0.0025  Total=0.9572,  VAE Loss: 0.9571\n"
     ]
    },
    {
     "data": {
      "application/vnd.jupyter.widget-view+json": {
       "model_id": "d1ff5e73b3a849abb02db4034c3793a0",
       "version_major": 2,
       "version_minor": 0
      },
      "text/plain": [
       "Epoch 22/40:   0%|          | 0/676 [00:00<?, ?it/s]"
      ]
     },
     "metadata": {},
     "output_type": "display_data"
    },
    {
     "name": "stdout",
     "output_type": "stream",
     "text": [
      "Epoch 22/40  Recon=0.9548  KL=0.0021  Total=0.9569,  VAE Loss: 0.9568\n"
     ]
    },
    {
     "data": {
      "application/vnd.jupyter.widget-view+json": {
       "model_id": "df512b64c1d04bed9bd3ad99a581484b",
       "version_major": 2,
       "version_minor": 0
      },
      "text/plain": [
       "Epoch 23/40:   0%|          | 0/676 [00:00<?, ?it/s]"
      ]
     },
     "metadata": {},
     "output_type": "display_data"
    },
    {
     "name": "stdout",
     "output_type": "stream",
     "text": [
      "Epoch 23/40  Recon=0.9547  KL=0.0018  Total=0.9565,  VAE Loss: 0.9564\n"
     ]
    },
    {
     "data": {
      "application/vnd.jupyter.widget-view+json": {
       "model_id": "15c7404e791243a3b54dc1469a48d902",
       "version_major": 2,
       "version_minor": 0
      },
      "text/plain": [
       "Epoch 24/40:   0%|          | 0/676 [00:00<?, ?it/s]"
      ]
     },
     "metadata": {},
     "output_type": "display_data"
    },
    {
     "name": "stdout",
     "output_type": "stream",
     "text": [
      "Epoch 24/40  Recon=0.9547  KL=0.0015  Total=0.9561,  VAE Loss: 0.9562\n"
     ]
    },
    {
     "data": {
      "application/vnd.jupyter.widget-view+json": {
       "model_id": "940b4e9333c741eca403c2b64b1e1839",
       "version_major": 2,
       "version_minor": 0
      },
      "text/plain": [
       "Epoch 25/40:   0%|          | 0/676 [00:00<?, ?it/s]"
      ]
     },
     "metadata": {},
     "output_type": "display_data"
    },
    {
     "name": "stdout",
     "output_type": "stream",
     "text": [
      "Epoch 25/40  Recon=0.9546  KL=0.0012  Total=0.9559,  VAE Loss: 0.9559\n"
     ]
    },
    {
     "data": {
      "application/vnd.jupyter.widget-view+json": {
       "model_id": "38081d604c1e4a99923790ee90f61b71",
       "version_major": 2,
       "version_minor": 0
      },
      "text/plain": [
       "Epoch 26/40:   0%|          | 0/676 [00:00<?, ?it/s]"
      ]
     },
     "metadata": {},
     "output_type": "display_data"
    },
    {
     "name": "stdout",
     "output_type": "stream",
     "text": [
      "Epoch 26/40  Recon=0.9546  KL=0.0028  Total=0.9574,  VAE Loss: 0.9574\n"
     ]
    },
    {
     "data": {
      "application/vnd.jupyter.widget-view+json": {
       "model_id": "3997f4f4765d442885737d01cea4ab25",
       "version_major": 2,
       "version_minor": 0
      },
      "text/plain": [
       "Epoch 27/40:   0%|          | 0/676 [00:00<?, ?it/s]"
      ]
     },
     "metadata": {},
     "output_type": "display_data"
    },
    {
     "name": "stdout",
     "output_type": "stream",
     "text": [
      "Epoch 27/40  Recon=0.9546  KL=0.0012  Total=0.9558,  VAE Loss: 0.9558\n"
     ]
    },
    {
     "data": {
      "application/vnd.jupyter.widget-view+json": {
       "model_id": "1ebaee9c2d254da59500c3a593d216d7",
       "version_major": 2,
       "version_minor": 0
      },
      "text/plain": [
       "Epoch 28/40:   0%|          | 0/676 [00:00<?, ?it/s]"
      ]
     },
     "metadata": {},
     "output_type": "display_data"
    },
    {
     "name": "stdout",
     "output_type": "stream",
     "text": [
      "Epoch 28/40  Recon=0.9547  KL=0.0011  Total=0.9558,  VAE Loss: 0.9558\n"
     ]
    },
    {
     "data": {
      "application/vnd.jupyter.widget-view+json": {
       "model_id": "0d64c171faef450c83d990b3f40de4cf",
       "version_major": 2,
       "version_minor": 0
      },
      "text/plain": [
       "Epoch 29/40:   0%|          | 0/676 [00:00<?, ?it/s]"
      ]
     },
     "metadata": {},
     "output_type": "display_data"
    },
    {
     "name": "stdout",
     "output_type": "stream",
     "text": [
      "Epoch 29/40  Recon=0.9547  KL=0.0013  Total=0.9559,  VAE Loss: 0.9559\n"
     ]
    },
    {
     "data": {
      "application/vnd.jupyter.widget-view+json": {
       "model_id": "a9c27c1fb15941ac8b6f98776ec8a33c",
       "version_major": 2,
       "version_minor": 0
      },
      "text/plain": [
       "Epoch 30/40:   0%|          | 0/676 [00:00<?, ?it/s]"
      ]
     },
     "metadata": {},
     "output_type": "display_data"
    },
    {
     "name": "stdout",
     "output_type": "stream",
     "text": [
      "Epoch 30/40  Recon=0.9545  KL=0.0005  Total=0.9550,  VAE Loss: 0.9550\n"
     ]
    },
    {
     "data": {
      "application/vnd.jupyter.widget-view+json": {
       "model_id": "9397e4f1818c485ab520ee94be3af882",
       "version_major": 2,
       "version_minor": 0
      },
      "text/plain": [
       "Epoch 31/40:   0%|          | 0/676 [00:00<?, ?it/s]"
      ]
     },
     "metadata": {},
     "output_type": "display_data"
    },
    {
     "name": "stdout",
     "output_type": "stream",
     "text": [
      "Epoch 31/40  Recon=0.9545  KL=0.0011  Total=0.9556,  VAE Loss: 0.9557\n"
     ]
    },
    {
     "data": {
      "application/vnd.jupyter.widget-view+json": {
       "model_id": "adf52c41650547f2b9553e2d9ccca43f",
       "version_major": 2,
       "version_minor": 0
      },
      "text/plain": [
       "Epoch 32/40:   0%|          | 0/676 [00:00<?, ?it/s]"
      ]
     },
     "metadata": {},
     "output_type": "display_data"
    },
    {
     "name": "stdout",
     "output_type": "stream",
     "text": [
      "Epoch 32/40  Recon=0.9547  KL=0.2501  Total=1.2049,  VAE Loss: 1.2047\n"
     ]
    },
    {
     "data": {
      "application/vnd.jupyter.widget-view+json": {
       "model_id": "e8f2709bbb7d4a669c277f1989b8f806",
       "version_major": 2,
       "version_minor": 0
      },
      "text/plain": [
       "Epoch 33/40:   0%|          | 0/676 [00:00<?, ?it/s]"
      ]
     },
     "metadata": {},
     "output_type": "display_data"
    },
    {
     "name": "stdout",
     "output_type": "stream",
     "text": [
      "Epoch 33/40  Recon=0.9545  KL=0.0016  Total=0.9561,  VAE Loss: 0.9561\n"
     ]
    },
    {
     "data": {
      "application/vnd.jupyter.widget-view+json": {
       "model_id": "f410af6d6f414f4c976471a1d11e6b7b",
       "version_major": 2,
       "version_minor": 0
      },
      "text/plain": [
       "Epoch 34/40:   0%|          | 0/676 [00:00<?, ?it/s]"
      ]
     },
     "metadata": {},
     "output_type": "display_data"
    },
    {
     "name": "stdout",
     "output_type": "stream",
     "text": [
      "Epoch 34/40  Recon=0.9545  KL=0.0012  Total=0.9557,  VAE Loss: 0.9557\n"
     ]
    },
    {
     "data": {
      "application/vnd.jupyter.widget-view+json": {
       "model_id": "53fe59c1fe1b4d70a027632e8466a417",
       "version_major": 2,
       "version_minor": 0
      },
      "text/plain": [
       "Epoch 35/40:   0%|          | 0/676 [00:00<?, ?it/s]"
      ]
     },
     "metadata": {},
     "output_type": "display_data"
    },
    {
     "name": "stdout",
     "output_type": "stream",
     "text": [
      "Epoch 35/40  Recon=0.9545  KL=0.0025  Total=0.9570,  VAE Loss: 0.9570\n"
     ]
    },
    {
     "data": {
      "application/vnd.jupyter.widget-view+json": {
       "model_id": "58ef1c8645a54bdb8ed25d1d1813dfb2",
       "version_major": 2,
       "version_minor": 0
      },
      "text/plain": [
       "Epoch 36/40:   0%|          | 0/676 [00:00<?, ?it/s]"
      ]
     },
     "metadata": {},
     "output_type": "display_data"
    },
    {
     "name": "stdout",
     "output_type": "stream",
     "text": [
      "Epoch 36/40  Recon=0.9544  KL=0.0006  Total=0.9550,  VAE Loss: 0.9550\n"
     ]
    },
    {
     "data": {
      "application/vnd.jupyter.widget-view+json": {
       "model_id": "05bfcdd6f37a4378906e65f552994748",
       "version_major": 2,
       "version_minor": 0
      },
      "text/plain": [
       "Epoch 37/40:   0%|          | 0/676 [00:00<?, ?it/s]"
      ]
     },
     "metadata": {},
     "output_type": "display_data"
    },
    {
     "name": "stdout",
     "output_type": "stream",
     "text": [
      "Epoch 37/40  Recon=0.9545  KL=0.0009  Total=0.9555,  VAE Loss: 0.9554\n"
     ]
    },
    {
     "data": {
      "application/vnd.jupyter.widget-view+json": {
       "model_id": "4d42c5e5aa294ab7a06fb58edaccafe0",
       "version_major": 2,
       "version_minor": 0
      },
      "text/plain": [
       "Epoch 38/40:   0%|          | 0/676 [00:00<?, ?it/s]"
      ]
     },
     "metadata": {},
     "output_type": "display_data"
    },
    {
     "name": "stdout",
     "output_type": "stream",
     "text": [
      "Epoch 38/40  Recon=0.9545  KL=0.0011  Total=0.9556,  VAE Loss: 0.9555\n"
     ]
    },
    {
     "data": {
      "application/vnd.jupyter.widget-view+json": {
       "model_id": "71c7997c0c9e42089dac8441e84ef891",
       "version_major": 2,
       "version_minor": 0
      },
      "text/plain": [
       "Epoch 39/40:   0%|          | 0/676 [00:00<?, ?it/s]"
      ]
     },
     "metadata": {},
     "output_type": "display_data"
    },
    {
     "name": "stdout",
     "output_type": "stream",
     "text": [
      "Epoch 39/40  Recon=0.9544  KL=0.0022  Total=0.9565,  VAE Loss: 0.9565\n"
     ]
    },
    {
     "data": {
      "application/vnd.jupyter.widget-view+json": {
       "model_id": "8e579351bd694e2b9403fa736e232cf2",
       "version_major": 2,
       "version_minor": 0
      },
      "text/plain": [
       "Epoch 40/40:   0%|          | 0/676 [00:00<?, ?it/s]"
      ]
     },
     "metadata": {},
     "output_type": "display_data"
    },
    {
     "name": "stdout",
     "output_type": "stream",
     "text": [
      "Epoch 40/40  Recon=0.9545  KL=0.0004  Total=0.9549,  VAE Loss: 0.9549\n"
     ]
    }
   ],
   "source": [
    "train_recon_losses = []\n",
    "train_kl_losses    = []\n",
    "train_total_losses = []\n",
    "\n",
    "print(\"Starting VAE training...\")\n",
    "for epoch in tqdm(range(epochs), desc=\"Training epochs\"):\n",
    "    model.train()\n",
    "    total_loss = 0.0\n",
    "    epoch_recon = 0.0\n",
    "    epoch_kl    = 0.0\n",
    "    for x_signal, x_coeffs, _ in tqdm(train_loader, desc=f\"Epoch {epoch+1}/{epochs}\", leave=False):\n",
    "        x_signal, x_coeffs = x_signal.to(device), x_coeffs.to(device)\n",
    "        \n",
    "        recon, mu, logv = model(x_signal, x_coeffs)\n",
    "        \n",
    "        recon_loss = nn.functional.mse_loss(recon, x_signal)\n",
    "        kl_loss = (-0.5 * (1 + logv - mu.pow(2) - logv.exp()).sum()) / x_signal.size(0)\n",
    "        loss = recon_loss + beta_value * kl_loss\n",
    "        \n",
    "        optimizer.zero_grad()\n",
    "        loss.backward()\n",
    "        optimizer.step()\n",
    "        total_loss += loss.item()\n",
    "        \n",
    "        epoch_recon += recon_loss.item() * x_signal.size(0)\n",
    "        epoch_kl    += kl_loss.item()    * x_signal.size(0)\n",
    "\n",
    "    N = len(train_loader.dataset) \n",
    "    train_recon_losses.append(epoch_recon / N)\n",
    "    train_kl_losses.append(epoch_kl / N)\n",
    "    train_total_losses.append(train_recon_losses[-1] + beta_value * train_kl_losses[-1])\n",
    "\n",
    "    print(f\"Epoch {epoch+1}/{epochs}  Recon={train_recon_losses[-1]:.4f}  KL={train_kl_losses[-1]:.4f}  Total={train_total_losses[-1]:.4f},  VAE Loss: {total_loss/len(train_loader):.4f}\")\n"
   ]
  },
  {
   "cell_type": "code",
   "execution_count": 32,
   "id": "aef375a7",
   "metadata": {},
   "outputs": [
    {
     "data": {
      "image/png": "[encoded data removed]",
      "text/plain": [
       "<Figure size 640x480 with 1 Axes>"
      ]
     },
     "metadata": {},
     "output_type": "display_data"
    },
    {
     "data": {
      "image/png": "[encoded data removed]",
      "text/plain": [
       "<Figure size 640x480 with 1 Axes>"
      ]
     },
     "metadata": {},
     "output_type": "display_data"
    },
    {
     "data": {
      "image/png": "[encoded data removed]",
      "text/plain": [
       "<Figure size 640x480 with 1 Axes>"
      ]
     },
     "metadata": {},
     "output_type": "display_data"
    }
   ],
   "source": [
    "\n",
    "import matplotlib.pyplot as plt\n",
    "\n",
    "plt.figure(); plt.plot(train_recon_losses); plt.title('Recon Loss'); plt.xlabel('Época'); plt.ylabel('MSE'); plt.show()\n",
    "plt.figure(); plt.plot(train_kl_losses);    plt.title('KL Loss');    plt.xlabel('Época'); plt.ylabel('KL');  plt.show()\n",
    "plt.figure(); plt.plot(train_total_losses); plt.title('Total Loss'); plt.xlabel('Época'); plt.ylabel('ELBO');plt.show()\n"
   ]
  },
  {
   "cell_type": "code",
   "execution_count": 38,
   "id": "a703e306",
   "metadata": {},
   "outputs": [
    {
     "data": {
      "image/png": "[encoded data removed]",
      "text/plain": [
       "<Figure size 600x400 with 1 Axes>"
      ]
     },
     "metadata": {},
     "output_type": "display_data"
    }
   ],
   "source": [
    "import matplotlib.pyplot as plt\n",
    "\n",
    "from src.plot_metrics import plot_training_losses\n",
    "\n",
    "plot_training_losses(train_recon_losses, train_kl_losses, train_total_losses, lw=2, font_size=16)"
   ]
  },
  {
   "cell_type": "markdown",
   "id": "d9d65684",
   "metadata": {},
   "source": [
    "### Testing in train set before XGBoost"
   ]
  },
  {
   "cell_type": "markdown",
   "id": "d2ee1291",
   "metadata": {},
   "source": [
    "Calculamos KL, MSE, ELBO y scores"
   ]
  },
  {
   "cell_type": "code",
   "execution_count": 69,
   "id": "23b2098e",
   "metadata": {},
   "outputs": [],
   "source": [
    "from torch.utils.data import DataLoader, TensorDataset\n",
    "\n",
    "tr_loader_all = DataLoader(\n",
    "    TensorDataset(\n",
    "        torch.cat([train_norm_signal_tensor, train_ano_signal_tensor]),\n",
    "        torch.cat([train_norm_coeffs_tensor, train_ano_coeffs_tensor]),\n",
    "        torch.cat([torch.zeros(len(train_norm_signal_tensor)), torch.ones(len(train_ano_signal_tensor))])\n",
    "    ),\n",
    "    batch_size=batch_size\n",
    ")\n",
    "\n",
    "model.eval()\n",
    "mse_list = []\n",
    "kl_list  = []\n",
    "labels_vae_tr   = []\n",
    "\n",
    "with torch.no_grad():\n",
    "    for x_s, x_c, y in tr_loader_all:\n",
    "        x_s, x_c = x_s.to(device), x_c.to(device)\n",
    "        recon, mu, logv = model(x_s, x_c)\n",
    "        mse_batch = ((recon - x_s)**2).mean(dim=[1,2]).cpu().numpy()\n",
    "        kl_batch  = (-0.5*(1 + logv - mu.pow(2) - logv.exp()).sum(dim=1)).cpu().numpy()\n",
    "\n",
    "        mse_list.append(mse_batch)\n",
    "        kl_list.append(kl_batch)\n",
    "        labels_vae_tr.append(y.numpy())\n",
    "\n",
    "mse_all_vae_tr = np.concatenate(mse_list)\n",
    "kl_all_vae_tr  = np.concatenate(kl_list)\n",
    "labels_vae_tr  = np.concatenate(labels_vae_tr)"
   ]
  },
  {
   "cell_type": "code",
   "execution_count": 70,
   "id": "8c81ae41",
   "metadata": {},
   "outputs": [
    {
     "name": "stdout",
     "output_type": "stream",
     "text": [
      "MSE promedio:  normales = 0.9544195 , anómalos = 10.186241\n",
      "KL promedio:   normales = 0.00017520432 , anómalos = 0.24252\n",
      "ROC-AUC de detección de anomalías (VAE): 0.8164985144377043\n"
     ]
    }
   ],
   "source": [
    "print(\"MSE promedio:  normales =\",\n",
    "      mse_all_vae_tr[labels_vae_tr==0].mean(), \n",
    "      \", anómalos =\", mse_all_vae_tr[labels_vae_tr==1].mean())\n",
    "print(\"KL promedio:   normales =\",\n",
    "      kl_all_vae_tr[labels_vae_tr==0].mean(), \n",
    "      \", anómalos =\", kl_all_vae_tr[labels_vae_tr==1].mean())\n",
    "\n",
    "# -ELBO = mse + beta*kl como puntaje de anomalía\n",
    "scores_vae_tr = mse_all_vae_tr + beta_value * kl_all_vae_tr\n",
    "roc_auc_vae_tr = roc_auc_score(labels_vae_tr, scores_vae_tr)\n",
    "print(\"ROC-AUC de detección de anomalías (VAE):\", roc_auc_vae_tr)"
   ]
  },
  {
   "cell_type": "code",
   "execution_count": 71,
   "id": "c8637a7f",
   "metadata": {},
   "outputs": [
    {
     "data": {
      "image/png": "[encoded data removed]",
      "text/plain": [
       "<Figure size 600x400 with 1 Axes>"
      ]
     },
     "metadata": {},
     "output_type": "display_data"
    }
   ],
   "source": [
    "fpr, tpr, thr = roc_curve(labels_vae_tr, scores_vae_tr) \n",
    "\n",
    "plt.figure(figsize=(6,4))\n",
    "plt.plot(fpr, tpr, label=f\"AUC = {roc_auc_vae_tr:.3f}\", color = \"slateblue\", linewidth=4)\n",
    "plt.plot([0,1],[0,1],'k--')\n",
    "plt.xlabel(\"FPR\", fontsize=14)\n",
    "plt.xticks(fontsize=12)\n",
    "plt.yticks(fontsize=12)\n",
    "plt.ylabel(\"TPR (Recall)\", fontsize=16)\n",
    "plt.title(\"Curva ROC del VAE en Train\", fontsize=18)\n",
    "plt.legend(fontsize = 16)\n",
    "plt.show()"
   ]
  },
  {
   "cell_type": "code",
   "execution_count": 75,
   "id": "aea164ce",
   "metadata": {},
   "outputs": [
    {
     "name": "stdout",
     "output_type": "stream",
     "text": [
      "Mejor umbral Youden J: 2.805478\n"
     ]
    },
    {
     "data": {
      "text/markdown": [
       "<h2 style='margin-bottom:0.3em'>VAE Metrics on Train Set</h2>\n",
       "<p style='font-size:16px; margin:0.2em 0'><strong>Roc Auc:</strong> 0.8165</p>\n",
       "<p style='font-size:16px; margin:0.2em 0'><strong>Precision:</strong> 0.9842</p>\n",
       "<p style='font-size:16px; margin:0.2em 0'><strong>Recall:</strong> 0.6033</p>\n",
       "<p style='font-size:16px; margin:0.2em 0'><strong>F1:</strong> 0.7481</p>\n",
       "<p style='font-size:16px; margin:0.2em 0'><strong>Accuracy:</strong> 0.7289</p>\n"
      ],
      "text/plain": [
       "<IPython.core.display.Markdown object>"
      ]
     },
     "metadata": {},
     "output_type": "display_data"
    }
   ],
   "source": [
    "youden_j = tpr - fpr\n",
    "best_idx = np.argmax(youden_j)\n",
    "best_threshold_vae = thr[best_idx]\n",
    "\n",
    "print(\"Mejor umbral Youden J:\", best_threshold_vae)\n",
    "\n",
    "y_pred_vae_tr = (scores_vae_tr >= best_threshold_vae).astype(int)\n",
    "\n",
    "from src.utils import display_metrics_as_md\n",
    "    \n",
    "metrics_vae = {\n",
    "    'roc_auc': roc_auc_vae_tr,\n",
    "    'precision': precision_score(labels_vae_tr, y_pred_vae_tr),\n",
    "    'recall': recall_score(labels_vae_tr, y_pred_vae_tr),\n",
    "    'f1': f1_score(labels_vae_tr, y_pred_vae_tr),\n",
    "    'accuracy': accuracy_score(labels_vae_tr, y_pred_vae_tr) \n",
    "    }\n",
    "\n",
    "display_metrics_as_md(metrics_vae, title=\"VAE Metrics on Train Set\")"
   ]
  },
  {
   "cell_type": "markdown",
   "id": "2da9a389",
   "metadata": {},
   "source": [
    "### Testing in validation set before XGBoost"
   ]
  },
  {
   "cell_type": "code",
   "execution_count": 73,
   "id": "690bb2c7",
   "metadata": {},
   "outputs": [],
   "source": [
    "val_norm_signal_tensor = torch.tensor(sig_vn).permute(0,2,1)   \n",
    "val_norm_coeffs_tensor = torch.tensor(coe_vn)                 \n",
    "\n",
    "val_ano_signal_tensor  = torch.tensor(sig_va).permute(0,2,1)    \n",
    "val_ano_coeffs_tensor  = torch.tensor(coe_va)                 \n",
    "\n",
    "# balancear val set\n",
    "N_norm_val = len(val_norm_signal_tensor)\n",
    "N_ano_val  = len(val_ano_signal_tensor)\n",
    "N_val = min(N_norm_val, N_ano_val)\n",
    "\n",
    "norm_signals_val = val_norm_signal_tensor[:N_val]\n",
    "ano_signals_val  = val_ano_signal_tensor[:N_val]\n",
    "norm_coeffs_val  = val_norm_coeffs_tensor[:N_val]\n",
    "ano_coeffs_val   = val_ano_coeffs_tensor[:N_val]\n",
    "\n",
    "X_val_final_signal = torch.cat([norm_signals_val, ano_signals_val], dim=0)\n",
    "X_val_final_coeffs = torch.cat([norm_coeffs_val, ano_coeffs_val], dim=0)\n",
    "\n",
    "y_val_final = torch.tensor(\n",
    "    np.concatenate([np.zeros(N_val), np.ones(N_val)]),\n",
    "    dtype=torch.long\n",
    ")\n",
    "\n",
    "val_loader_final = DataLoader(TensorDataset(X_val_final_signal, X_val_final_coeffs, y_val_final), batch_size=batch_size)"
   ]
  },
  {
   "cell_type": "code",
   "execution_count": 74,
   "id": "ff85b106",
   "metadata": {},
   "outputs": [
    {
     "data": {
      "text/markdown": [
       "<h2 style='margin-bottom:0.3em'>VAE Metrics on Val Set</h2>\n",
       "<p style='font-size:16px; margin:0.2em 0'><strong>Roc Auc:</strong> 0.8184</p>\n",
       "<p style='font-size:16px; margin:0.2em 0'><strong>Precision:</strong> 0.9657</p>\n",
       "<p style='font-size:16px; margin:0.2em 0'><strong>Recall:</strong> 0.6092</p>\n",
       "<p style='font-size:16px; margin:0.2em 0'><strong>F1:</strong> 0.7471</p>\n",
       "<p style='font-size:16px; margin:0.2em 0'><strong>Accuracy:</strong> 0.7938</p>\n"
      ],
      "text/plain": [
       "<IPython.core.display.Markdown object>"
      ]
     },
     "metadata": {},
     "output_type": "display_data"
    }
   ],
   "source": [
    "mse_list_val, kl_list_val, labels_val = [], [], []\n",
    "\n",
    "with torch.no_grad():\n",
    "    for x_s, x_c, y in val_loader_final:\n",
    "        x_s, x_c = x_s.to(device), x_c.to(device)\n",
    "        recon, mu, logv = model(x_s, x_c)\n",
    "        mse_batch = ((recon - x_s)**2).mean(dim=[1,2]).cpu().numpy()\n",
    "        kl_batch  = (-0.5*(1 + logv - mu.pow(2) - logv.exp()).sum(dim=1)).cpu().numpy()\n",
    "\n",
    "        mse_list_val.append(mse_batch)\n",
    "        kl_list_val.append(kl_batch)\n",
    "        labels_val.append(y.numpy())\n",
    "\n",
    "mse_all_vae_val = np.concatenate(mse_list_val)\n",
    "kl_all_vae_val  = np.concatenate(kl_list_val)\n",
    "labels_vae_val  = np.concatenate(labels_val)\n",
    "\n",
    "scores_vae_val  = mse_all_vae_val + beta_value * kl_all_vae_val\n",
    "y_pred_vae_val = (scores_vae_val >= best_threshold_vae).astype(int)\n",
    "\n",
    "from src.utils import display_metrics_as_md\n",
    "    \n",
    "metrics_vae_val = {\n",
    "    'roc_auc': roc_auc_score(labels_vae_val, scores_val),\n",
    "    'precision': precision_score(labels_vae_val, y_pred_vae_val),\n",
    "    'recall': recall_score(labels_vae_val, y_pred_vae_val),\n",
    "    'f1': f1_score(labels_vae_val, y_pred_vae_val),\n",
    "    'accuracy': accuracy_score(labels_vae_val, y_pred_vae_val) \n",
    "    }\n",
    "\n",
    "display_metrics_as_md(metrics_vae_val, title=\"VAE Metrics on Val Set\")"
   ]
  },
  {
   "cell_type": "markdown",
   "id": "ccb84fde",
   "metadata": {},
   "source": [
    "## `Fit XGBoost`"
   ]
  },
  {
   "cell_type": "code",
   "execution_count": 48,
   "id": "07ee459c",
   "metadata": {},
   "outputs": [],
   "source": [
    "from sklearn.metrics import precision_score, recall_score, f1_score, accuracy_score, roc_curve, roc_auc_score, precision_recall_curve, confusion_matrix"
   ]
  },
  {
   "cell_type": "code",
   "execution_count": 50,
   "id": "9d43a613",
   "metadata": {},
   "outputs": [
    {
     "name": "stdout",
     "output_type": "stream",
     "text": [
      "Extracting features from dev set for classifier training...\n",
      "Training XGBoost classifier...\n"
     ]
    },
    {
     "name": "stderr",
     "output_type": "stream",
     "text": [
      "c:\\ProgramData\\anaconda3\\envs\\TP-final_ML\\lib\\site-packages\\xgboost\\training.py:183: UserWarning: [15:11:23] WARNING: C:\\b\\abs_d97hy_84m6\\croot\\xgboost-split_1749630932152\\work\\src\\learner.cc:738: \n",
      "Parameters: { \"use_label_encoder\" } are not used.\n",
      "\n",
      "  bst.update(dtrain, iteration=i, fobj=obj)\n"
     ]
    },
    {
     "name": "stdout",
     "output_type": "stream",
     "text": [
      "Classifier training complete.\n"
     ]
    }
   ],
   "source": [
    "X_tr_clf_signal = torch.cat([train_norm_signal_tensor, train_ano_signal_tensor], dim=0)\n",
    "X_tr_clf_coeffs = torch.cat([train_norm_coeffs_tensor, train_ano_coeffs_tensor],   dim=0)\n",
    "y_tr_clf     = torch.cat([\n",
    "    torch.zeros(len(train_norm_signal_tensor), dtype=torch.long),\n",
    "    torch.ones (len(train_ano_signal_tensor),  dtype=torch.long)\n",
    "], dim=0)\n",
    "\n",
    "tr_loader_clf = DataLoader(TensorDataset(X_tr_clf_signal, X_tr_clf_coeffs, y_tr_clf), batch_size=batch_size)\n",
    "\n",
    "print(\"Extracting features from dev set for classifier training...\")\n",
    "errs_tr, zs_tr = compute_scores(model, tr_loader_clf, device, beta=beta_value)\n",
    "errs_tr = np.nan_to_num(errs_tr, nan=0.0, posinf=1e6, neginf=-1e6)\n",
    "zs_dev = np.nan_to_num(zs_tr, nan=0.0, posinf=1e6, neginf=-1e6)\n",
    "X_train_clf = np.hstack([errs_tr.reshape(-1, 1), zs_dev])\n",
    "y_train_clf = y_tr_clf.numpy()\n",
    "\n",
    "print(\"Training XGBoost classifier...\")\n",
    "clf = XGBClassifier(use_label_encoder=False, eval_metric='logloss')\n",
    "clf.fit(X_train_clf, y_train_clf)\n",
    "print(\"Classifier training complete.\")"
   ]
  },
  {
   "cell_type": "markdown",
   "id": "63b6f618",
   "metadata": {},
   "source": [
    "### Find Threshold in train (Youden’s J on ROC)"
   ]
  },
  {
   "cell_type": "code",
   "execution_count": 51,
   "id": "deb3e632",
   "metadata": {},
   "outputs": [
    {
     "name": "stdout",
     "output_type": "stream",
     "text": [
      "Umbral óptimo (Youden): 0.605  →  TPR=0.845, FPR=0.059\n"
     ]
    }
   ],
   "source": [
    "probs_val = clf.predict_proba(X_train_clf)[:, 1]\n",
    "fpr_vtr, tpr_vtr, th_roc_vtr = roc_curve(y_train_clf, probs_val) \n",
    "j_scores_vtr = tpr_vtr - fpr_vtr\n",
    "best_idx_vtr = np.argmax(j_scores_vtr)\n",
    "best_thresh_vtr = th_roc_vtr[best_idx_vtr]\n",
    "print(f\"Umbral óptimo (Youden): {best_thresh_vtr:.3f}  →  TPR={tpr_vtr[best_idx_vtr]:.3f}, FPR={fpr_vtr[best_idx_vtr]:.3f}\")"
   ]
  },
  {
   "cell_type": "markdown",
   "id": "46289a2c",
   "metadata": {},
   "source": [
    "# Testing in validation set"
   ]
  },
  {
   "cell_type": "code",
   "execution_count": null,
   "id": "e97902a0",
   "metadata": {},
   "outputs": [
    {
     "name": "stdout",
     "output_type": "stream",
     "text": [
      "Extracting features from the validation set...\n"
     ]
    }
   ],
   "source": [
    "print(\"Extracting features from the validation set...\")\n",
    "errs_val, zs_val = compute_scores(model, val_loader_final, device, beta=beta_value)\n",
    "errs_val = np.nan_to_num(errs_val, nan=0.0, posinf=1e6, neginf=-1e6)\n",
    "zs_test = np.nan_to_num(zs_val, nan=0.0, posinf=1e6, neginf=-1e6)\n",
    "X_val_clf = np.hstack([errs_val.reshape(-1, 1), zs_test])\n",
    "y_val_clf = y_val_final.numpy()"
   ]
  },
  {
   "cell_type": "markdown",
   "id": "7e55cd73",
   "metadata": {},
   "source": [
    "### `Final Results in Validation set`"
   ]
  },
  {
   "cell_type": "code",
   "execution_count": 54,
   "id": "3194eeb6",
   "metadata": {},
   "outputs": [
    {
     "name": "stdout",
     "output_type": "stream",
     "text": [
      "Evaluating classifier on the validation test...\n"
     ]
    }
   ],
   "source": [
    "print(\"Evaluating classifier on the validation test...\")\n",
    "probs_val = clf.predict_proba(X_val_clf)[:, 1]\n",
    "y_pred_val = (probs_val >= best_thresh_vtr).astype(int)"
   ]
  },
  {
   "cell_type": "code",
   "execution_count": null,
   "id": "86b01eda",
   "metadata": {},
   "outputs": [
    {
     "name": "stdout",
     "output_type": "stream",
     "text": [
      "Evaluating classifier on the validation test...\n",
      "\n",
      "--- Final Metrics on Unseen Test Set ---\n",
      "{'roc_auc': np.float64(0.9235028718604121), 'precision': 0.87801766437684, 'recall': 0.8275830172971973, 'f1': 0.852054664063616, 'accuracy': 0.8563037646841181}\n"
     ]
    },
    {
     "data": {
      "text/markdown": [
       "<h2 style='margin-bottom:0.3em'>Final Metrics on Validation Set</h2>\n",
       "<p style='font-size:16px; margin:0.2em 0'><strong>Roc Auc:</strong> 0.9235</p>\n",
       "<p style='font-size:16px; margin:0.2em 0'><strong>Precision:</strong> 0.8780</p>\n",
       "<p style='font-size:16px; margin:0.2em 0'><strong>Recall:</strong> 0.8276</p>\n",
       "<p style='font-size:16px; margin:0.2em 0'><strong>F1:</strong> 0.8521</p>\n",
       "<p style='font-size:16px; margin:0.2em 0'><strong>Accuracy:</strong> 0.8563</p>\n"
      ],
      "text/plain": [
       "<IPython.core.display.Markdown object>"
      ]
     },
     "metadata": {},
     "output_type": "display_data"
    }
   ],
   "source": [
    "metrics = {\n",
    "    'roc_auc': roc_auc_score(y_val_clf, probs_val),\n",
    "    'precision': precision_score(y_val_clf, y_pred_val),\n",
    "    'recall': recall_score(y_val_clf, y_pred_val),\n",
    "    'f1': f1_score(y_val_clf, y_pred_val),\n",
    "    'accuracy': accuracy_score(y_val_clf, y_pred_val)\n",
    "}\n",
    "\n",
    "from src.utils import display_metrics_as_md\n",
    "display_metrics_as_md(metrics, \"Final Metrics on Validation Set\")"
   ]
  },
  {
   "cell_type": "markdown",
   "id": "d28bf7a4",
   "metadata": {},
   "source": [
    "#### Confusion Matrix"
   ]
  },
  {
   "cell_type": "code",
   "execution_count": null,
   "id": "4f3e67e1",
   "metadata": {},
   "outputs": [
    {
     "name": "stdout",
     "output_type": "stream",
     "text": [
      "\n",
      "Matriz de confusión:\n",
      "           Pred Neg  Pred Pos\n",
      "Real Neg      9568      1243\n",
      "Real Pos      1864      8947\n"
     ]
    },
    {
     "data": {
      "image/png": "[encoded data removed]",
      "text/plain": [
       "<Figure size 600x600 with 2 Axes>"
      ]
     },
     "metadata": {},
     "output_type": "display_data"
    }
   ],
   "source": [
    "cm_val = confusion_matrix(y_val_clf, y_pred_val) \n",
    "\n",
    "cm_val_df = pd.DataFrame(\n",
    "    cm_val,\n",
    "    index=[\"Real Neg\",\"Real Pos\"],\n",
    "    columns=[\"Pred Neg\",\"Pred Pos\"]\n",
    ")\n",
    "print(\"\\nMatriz de confusión:\\n\", cm_val_df)\n",
    "\n",
    "from src.plot_metrics import plot_confusion_matrix\n",
    "\n",
    "plot_confusion_matrix(cm_val, class_names=[\"Anómalos\", \"Normales\"], title=\"Matriz de Confusión - Validación\")"
   ]
  },
  {
   "cell_type": "markdown",
   "id": "211fe7d7",
   "metadata": {},
   "source": [
    "#### ROC and PR Curves"
   ]
  },
  {
   "cell_type": "code",
   "execution_count": null,
   "id": "4c79cf39",
   "metadata": {},
   "outputs": [
    {
     "data": {
      "image/png": "[encoded data removed]",
      "text/plain": [
       "<Figure size 600x400 with 1 Axes>"
      ]
     },
     "metadata": {},
     "output_type": "display_data"
    },
    {
     "data": {
      "image/png": "[encoded data removed]",
      "text/plain": [
       "<Figure size 600x400 with 1 Axes>"
      ]
     },
     "metadata": {},
     "output_type": "display_data"
    }
   ],
   "source": [
    "from sklearn.metrics import roc_curve\n",
    "\n",
    "from src.plot_metrics import plot_roc_pr\n",
    "\n",
    "plot_roc_pr(y_val_clf, probs_val, lw=4, font_size=14, roc_color='slateblue', pr_color='palevioletred')"
   ]
  },
  {
   "cell_type": "markdown",
   "id": "233fa564",
   "metadata": {},
   "source": [
    "# `Final Training with full dev set`"
   ]
  },
  {
   "cell_type": "code",
   "execution_count": 110,
   "id": "35008a0b",
   "metadata": {},
   "outputs": [],
   "source": [
    "latent_dim = best_hps['latent_dim']\n",
    "lr = best_hps['lr']\n",
    "n_blocks = best_hps['n_blocks']\n",
    "beta_value = best_hps['beta']\n",
    "epochs = 35"
   ]
  },
  {
   "cell_type": "code",
   "execution_count": 111,
   "id": "d6f4dd60",
   "metadata": {},
   "outputs": [
    {
     "name": "stdout",
     "output_type": "stream",
     "text": [
      "Using device: cuda, Signal Channels: 1, Coeff Channels: 21\n"
     ]
    }
   ],
   "source": [
    "print(f\"Using device: {device}, Signal Channels: {NUM_INPUT_CH}, Coeff Channels: {NUM_COEFF_CH}\")\n",
    "\n",
    "dev_ds = TensorDataset(dev_norm_signal_tensor, dev_norm_coeffs_tensor, torch.zeros(len(dev_norm_signal_tensor)))\n",
    "dev_loader = DataLoader(dev_ds, batch_size=batch_size, shuffle=True)\n",
    "\n",
    "model = VAE1D(input_ch=NUM_INPUT_CH, coeff_ch=NUM_COEFF_CH, latent_dim=latent_dim, n_blocks=n_blocks).to(device)\n",
    "optimizer = torch.optim.Adam(model.parameters(), lr=lr)"
   ]
  },
  {
   "cell_type": "code",
   "execution_count": null,
   "id": "6095db21",
   "metadata": {},
   "outputs": [
    {
     "name": "stdout",
     "output_type": "stream",
     "text": [
      "Starting VAE training...\n"
     ]
    },
    {
     "data": {
      "application/vnd.jupyter.widget-view+json": {
       "model_id": "6ab6d99eeaec4fe2b4e7e56eaa373322",
       "version_major": 2,
       "version_minor": 0
      },
      "text/plain": [
       "Training epochs:   0%|          | 0/35 [00:00<?, ?it/s]"
      ]
     },
     "metadata": {},
     "output_type": "display_data"
    },
    {
     "data": {
      "application/vnd.jupyter.widget-view+json": {
       "model_id": "b062ee80d9d64c94b4632f407565fd12",
       "version_major": 2,
       "version_minor": 0
      },
      "text/plain": [
       "Epoch 1/35:   0%|          | 0/845 [00:00<?, ?it/s]"
      ]
     },
     "metadata": {},
     "output_type": "display_data"
    },
    {
     "name": "stdout",
     "output_type": "stream",
     "text": [
      "Epoch 1/35  Recon=1.1260  KL=1.1337  Total=2.2597,  VAE Loss: 2.2592\n"
     ]
    },
    {
     "data": {
      "application/vnd.jupyter.widget-view+json": {
       "model_id": "8aa680fbb28d43bc81e68e3ea32f0214",
       "version_major": 2,
       "version_minor": 0
      },
      "text/plain": [
       "Epoch 2/35:   0%|          | 0/845 [00:00<?, ?it/s]"
      ]
     },
     "metadata": {},
     "output_type": "display_data"
    },
    {
     "name": "stdout",
     "output_type": "stream",
     "text": [
      "Epoch 2/35  Recon=0.9562  KL=0.0151  Total=0.9713,  VAE Loss: 0.9713\n"
     ]
    },
    {
     "data": {
      "application/vnd.jupyter.widget-view+json": {
       "model_id": "5f75eecd682545709af453209103b347",
       "version_major": 2,
       "version_minor": 0
      },
      "text/plain": [
       "Epoch 3/35:   0%|          | 0/845 [00:00<?, ?it/s]"
      ]
     },
     "metadata": {},
     "output_type": "display_data"
    },
    {
     "name": "stdout",
     "output_type": "stream",
     "text": [
      "Epoch 3/35  Recon=0.9560  KL=0.0094  Total=0.9653,  VAE Loss: 0.9654\n"
     ]
    },
    {
     "data": {
      "application/vnd.jupyter.widget-view+json": {
       "model_id": "c63a182cdf4b464e87c6a929e2d251d2",
       "version_major": 2,
       "version_minor": 0
      },
      "text/plain": [
       "Epoch 4/35:   0%|          | 0/845 [00:00<?, ?it/s]"
      ]
     },
     "metadata": {},
     "output_type": "display_data"
    },
    {
     "name": "stdout",
     "output_type": "stream",
     "text": [
      "Epoch 4/35  Recon=0.9560  KL=0.0103  Total=0.9663,  VAE Loss: 0.9663\n"
     ]
    },
    {
     "data": {
      "application/vnd.jupyter.widget-view+json": {
       "model_id": "dba3c2f1b2d04a7a85332cff63ab299c",
       "version_major": 2,
       "version_minor": 0
      },
      "text/plain": [
       "Epoch 5/35:   0%|          | 0/845 [00:00<?, ?it/s]"
      ]
     },
     "metadata": {},
     "output_type": "display_data"
    },
    {
     "name": "stdout",
     "output_type": "stream",
     "text": [
      "Epoch 5/35  Recon=0.9559  KL=0.0076  Total=0.9635,  VAE Loss: 0.9635\n"
     ]
    },
    {
     "data": {
      "application/vnd.jupyter.widget-view+json": {
       "model_id": "24529c4a531c4dfb88581e0b66ddebb0",
       "version_major": 2,
       "version_minor": 0
      },
      "text/plain": [
       "Epoch 6/35:   0%|          | 0/845 [00:00<?, ?it/s]"
      ]
     },
     "metadata": {},
     "output_type": "display_data"
    },
    {
     "name": "stdout",
     "output_type": "stream",
     "text": [
      "Epoch 6/35  Recon=0.9555  KL=0.0048  Total=0.9603,  VAE Loss: 0.9603\n"
     ]
    },
    {
     "data": {
      "application/vnd.jupyter.widget-view+json": {
       "model_id": "136e36b045134c189d59b6abc0c4ccf0",
       "version_major": 2,
       "version_minor": 0
      },
      "text/plain": [
       "Epoch 7/35:   0%|          | 0/845 [00:00<?, ?it/s]"
      ]
     },
     "metadata": {},
     "output_type": "display_data"
    },
    {
     "name": "stdout",
     "output_type": "stream",
     "text": [
      "Epoch 7/35  Recon=0.9556  KL=0.0033  Total=0.9590,  VAE Loss: 0.9590\n"
     ]
    },
    {
     "data": {
      "application/vnd.jupyter.widget-view+json": {
       "model_id": "4b417f59ba5f4bad998512a22caa3f1e",
       "version_major": 2,
       "version_minor": 0
      },
      "text/plain": [
       "Epoch 8/35:   0%|          | 0/845 [00:00<?, ?it/s]"
      ]
     },
     "metadata": {},
     "output_type": "display_data"
    },
    {
     "name": "stdout",
     "output_type": "stream",
     "text": [
      "Epoch 8/35  Recon=0.9554  KL=0.0029  Total=0.9583,  VAE Loss: 0.9582\n"
     ]
    },
    {
     "data": {
      "application/vnd.jupyter.widget-view+json": {
       "model_id": "9665e94070ed40d4a2ce8d22a590da63",
       "version_major": 2,
       "version_minor": 0
      },
      "text/plain": [
       "Epoch 9/35:   0%|          | 0/845 [00:00<?, ?it/s]"
      ]
     },
     "metadata": {},
     "output_type": "display_data"
    },
    {
     "name": "stdout",
     "output_type": "stream",
     "text": [
      "Epoch 9/35  Recon=0.9553  KL=0.0030  Total=0.9583,  VAE Loss: 0.9583\n"
     ]
    },
    {
     "data": {
      "application/vnd.jupyter.widget-view+json": {
       "model_id": "19fcf5f54e2a406c9ebe5d31db13a198",
       "version_major": 2,
       "version_minor": 0
      },
      "text/plain": [
       "Epoch 10/35:   0%|          | 0/845 [00:00<?, ?it/s]"
      ]
     },
     "metadata": {},
     "output_type": "display_data"
    },
    {
     "name": "stdout",
     "output_type": "stream",
     "text": [
      "Epoch 10/35  Recon=0.9552  KL=0.0008  Total=0.9561,  VAE Loss: 0.9560\n"
     ]
    },
    {
     "data": {
      "application/vnd.jupyter.widget-view+json": {
       "model_id": "ba40347630174f25b0badfb726dc1a88",
       "version_major": 2,
       "version_minor": 0
      },
      "text/plain": [
       "Epoch 11/35:   0%|          | 0/845 [00:00<?, ?it/s]"
      ]
     },
     "metadata": {},
     "output_type": "display_data"
    },
    {
     "name": "stdout",
     "output_type": "stream",
     "text": [
      "Epoch 11/35  Recon=0.9552  KL=0.0005  Total=0.9557,  VAE Loss: 0.9557\n"
     ]
    },
    {
     "data": {
      "application/vnd.jupyter.widget-view+json": {
       "model_id": "8a32b91193bf4205bfa625f5764e7d85",
       "version_major": 2,
       "version_minor": 0
      },
      "text/plain": [
       "Epoch 12/35:   0%|          | 0/845 [00:00<?, ?it/s]"
      ]
     },
     "metadata": {},
     "output_type": "display_data"
    },
    {
     "name": "stdout",
     "output_type": "stream",
     "text": [
      "Epoch 12/35  Recon=0.9560  KL=0.6466  Total=1.6027,  VAE Loss: 1.6024\n"
     ]
    },
    {
     "data": {
      "application/vnd.jupyter.widget-view+json": {
       "model_id": "1c583584458f4ed7b3bf70c0a969aa3a",
       "version_major": 2,
       "version_minor": 0
      },
      "text/plain": [
       "Epoch 13/35:   0%|          | 0/845 [00:00<?, ?it/s]"
      ]
     },
     "metadata": {},
     "output_type": "display_data"
    },
    {
     "name": "stdout",
     "output_type": "stream",
     "text": [
      "Epoch 13/35  Recon=0.9552  KL=0.0121  Total=0.9673,  VAE Loss: 0.9673\n"
     ]
    },
    {
     "data": {
      "application/vnd.jupyter.widget-view+json": {
       "model_id": "5e9c1a72a4bd460c95961a36cbefd197",
       "version_major": 2,
       "version_minor": 0
      },
      "text/plain": [
       "Epoch 14/35:   0%|          | 0/845 [00:00<?, ?it/s]"
      ]
     },
     "metadata": {},
     "output_type": "display_data"
    },
    {
     "name": "stdout",
     "output_type": "stream",
     "text": [
      "Epoch 14/35  Recon=0.9550  KL=0.0036  Total=0.9586,  VAE Loss: 0.9586\n"
     ]
    },
    {
     "data": {
      "application/vnd.jupyter.widget-view+json": {
       "model_id": "46e5047d9af04fdd8c828b3a739acb3d",
       "version_major": 2,
       "version_minor": 0
      },
      "text/plain": [
       "Epoch 15/35:   0%|          | 0/845 [00:00<?, ?it/s]"
      ]
     },
     "metadata": {},
     "output_type": "display_data"
    },
    {
     "name": "stdout",
     "output_type": "stream",
     "text": [
      "Epoch 15/35  Recon=0.9550  KL=0.0031  Total=0.9582,  VAE Loss: 0.9581\n"
     ]
    },
    {
     "data": {
      "application/vnd.jupyter.widget-view+json": {
       "model_id": "e0c2f4574421485baef74bfa9205003e",
       "version_major": 2,
       "version_minor": 0
      },
      "text/plain": [
       "Epoch 16/35:   0%|          | 0/845 [00:00<?, ?it/s]"
      ]
     },
     "metadata": {},
     "output_type": "display_data"
    },
    {
     "name": "stdout",
     "output_type": "stream",
     "text": [
      "Epoch 16/35  Recon=0.9550  KL=0.0028  Total=0.9579,  VAE Loss: 0.9578\n"
     ]
    },
    {
     "data": {
      "application/vnd.jupyter.widget-view+json": {
       "model_id": "971d7d52f7494917bf53b63c6d3e9edb",
       "version_major": 2,
       "version_minor": 0
      },
      "text/plain": [
       "Epoch 17/35:   0%|          | 0/845 [00:00<?, ?it/s]"
      ]
     },
     "metadata": {},
     "output_type": "display_data"
    },
    {
     "name": "stdout",
     "output_type": "stream",
     "text": [
      "Epoch 17/35  Recon=0.9549  KL=0.0060  Total=0.9608,  VAE Loss: 0.9608\n"
     ]
    },
    {
     "data": {
      "application/vnd.jupyter.widget-view+json": {
       "model_id": "c049b347bfd744e685d3a921119c891c",
       "version_major": 2,
       "version_minor": 0
      },
      "text/plain": [
       "Epoch 18/35:   0%|          | 0/845 [00:00<?, ?it/s]"
      ]
     },
     "metadata": {},
     "output_type": "display_data"
    },
    {
     "name": "stdout",
     "output_type": "stream",
     "text": [
      "Epoch 18/35  Recon=0.9549  KL=0.0019  Total=0.9567,  VAE Loss: 0.9567\n"
     ]
    },
    {
     "data": {
      "application/vnd.jupyter.widget-view+json": {
       "model_id": "c55b72a1f5cb458282fe286139282e68",
       "version_major": 2,
       "version_minor": 0
      },
      "text/plain": [
       "Epoch 19/35:   0%|          | 0/845 [00:00<?, ?it/s]"
      ]
     },
     "metadata": {},
     "output_type": "display_data"
    },
    {
     "name": "stdout",
     "output_type": "stream",
     "text": [
      "Epoch 19/35  Recon=0.9550  KL=0.0018  Total=0.9568,  VAE Loss: 0.9568\n"
     ]
    },
    {
     "data": {
      "application/vnd.jupyter.widget-view+json": {
       "model_id": "b8733af4826b4592a63e1deef6750ab3",
       "version_major": 2,
       "version_minor": 0
      },
      "text/plain": [
       "Epoch 20/35:   0%|          | 0/845 [00:00<?, ?it/s]"
      ]
     },
     "metadata": {},
     "output_type": "display_data"
    },
    {
     "name": "stdout",
     "output_type": "stream",
     "text": [
      "Epoch 20/35  Recon=0.9549  KL=0.0037  Total=0.9586,  VAE Loss: 0.9585\n"
     ]
    },
    {
     "data": {
      "application/vnd.jupyter.widget-view+json": {
       "model_id": "29048379ebe04407a35be29cf67ae467",
       "version_major": 2,
       "version_minor": 0
      },
      "text/plain": [
       "Epoch 21/35:   0%|          | 0/845 [00:00<?, ?it/s]"
      ]
     },
     "metadata": {},
     "output_type": "display_data"
    },
    {
     "name": "stdout",
     "output_type": "stream",
     "text": [
      "Epoch 21/35  Recon=0.9550  KL=0.0014  Total=0.9564,  VAE Loss: 0.9563\n"
     ]
    },
    {
     "data": {
      "application/vnd.jupyter.widget-view+json": {
       "model_id": "4d2ffa42e6c744fdbdb2efe2ea45f12d",
       "version_major": 2,
       "version_minor": 0
      },
      "text/plain": [
       "Epoch 22/35:   0%|          | 0/845 [00:00<?, ?it/s]"
      ]
     },
     "metadata": {},
     "output_type": "display_data"
    },
    {
     "name": "stdout",
     "output_type": "stream",
     "text": [
      "Epoch 22/35  Recon=0.9549  KL=0.0009  Total=0.9558,  VAE Loss: 0.9558\n"
     ]
    },
    {
     "data": {
      "application/vnd.jupyter.widget-view+json": {
       "model_id": "9ec27f6ac0c547bc88de2eeab901b8f4",
       "version_major": 2,
       "version_minor": 0
      },
      "text/plain": [
       "Epoch 23/35:   0%|          | 0/845 [00:00<?, ?it/s]"
      ]
     },
     "metadata": {},
     "output_type": "display_data"
    },
    {
     "name": "stdout",
     "output_type": "stream",
     "text": [
      "Epoch 23/35  Recon=0.9548  KL=0.0027  Total=0.9575,  VAE Loss: 0.9574\n"
     ]
    },
    {
     "data": {
      "application/vnd.jupyter.widget-view+json": {
       "model_id": "5be6b481fba94393ad6b77413063ea46",
       "version_major": 2,
       "version_minor": 0
      },
      "text/plain": [
       "Epoch 24/35:   0%|          | 0/845 [00:00<?, ?it/s]"
      ]
     },
     "metadata": {},
     "output_type": "display_data"
    },
    {
     "name": "stdout",
     "output_type": "stream",
     "text": [
      "Epoch 24/35  Recon=0.9548  KL=0.0009  Total=0.9557,  VAE Loss: 0.9557\n"
     ]
    },
    {
     "data": {
      "application/vnd.jupyter.widget-view+json": {
       "model_id": "a0b2efeaeba949c29a56b85d9e70b811",
       "version_major": 2,
       "version_minor": 0
      },
      "text/plain": [
       "Epoch 25/35:   0%|          | 0/845 [00:00<?, ?it/s]"
      ]
     },
     "metadata": {},
     "output_type": "display_data"
    },
    {
     "name": "stdout",
     "output_type": "stream",
     "text": [
      "Epoch 25/35  Recon=0.9548  KL=0.0011  Total=0.9559,  VAE Loss: 0.9558\n"
     ]
    },
    {
     "data": {
      "application/vnd.jupyter.widget-view+json": {
       "model_id": "ba8d628298f54337a53a6827d6676c00",
       "version_major": 2,
       "version_minor": 0
      },
      "text/plain": [
       "Epoch 26/35:   0%|          | 0/845 [00:00<?, ?it/s]"
      ]
     },
     "metadata": {},
     "output_type": "display_data"
    },
    {
     "name": "stdout",
     "output_type": "stream",
     "text": [
      "Epoch 26/35  Recon=0.9554  KL=0.5788  Total=1.5342,  VAE Loss: 1.5339\n"
     ]
    },
    {
     "data": {
      "application/vnd.jupyter.widget-view+json": {
       "model_id": "b9a7b14b11ea412fa877b6468747e4b9",
       "version_major": 2,
       "version_minor": 0
      },
      "text/plain": [
       "Epoch 27/35:   0%|          | 0/845 [00:00<?, ?it/s]"
      ]
     },
     "metadata": {},
     "output_type": "display_data"
    },
    {
     "name": "stdout",
     "output_type": "stream",
     "text": [
      "Epoch 27/35  Recon=0.9548  KL=0.0038  Total=0.9586,  VAE Loss: 0.9587\n"
     ]
    },
    {
     "data": {
      "application/vnd.jupyter.widget-view+json": {
       "model_id": "0c58bdf0a7b348f2b8b81d6ff0f3fd81",
       "version_major": 2,
       "version_minor": 0
      },
      "text/plain": [
       "Epoch 28/35:   0%|          | 0/845 [00:00<?, ?it/s]"
      ]
     },
     "metadata": {},
     "output_type": "display_data"
    },
    {
     "name": "stdout",
     "output_type": "stream",
     "text": [
      "Epoch 28/35  Recon=0.9548  KL=0.0015  Total=0.9563,  VAE Loss: 0.9563\n"
     ]
    },
    {
     "data": {
      "application/vnd.jupyter.widget-view+json": {
       "model_id": "4d08e7acb5e14fd883d5a0e615e72c8a",
       "version_major": 2,
       "version_minor": 0
      },
      "text/plain": [
       "Epoch 29/35:   0%|          | 0/845 [00:00<?, ?it/s]"
      ]
     },
     "metadata": {},
     "output_type": "display_data"
    },
    {
     "name": "stdout",
     "output_type": "stream",
     "text": [
      "Epoch 29/35  Recon=0.9548  KL=0.0013  Total=0.9562,  VAE Loss: 0.9562\n"
     ]
    },
    {
     "data": {
      "application/vnd.jupyter.widget-view+json": {
       "model_id": "b625dd7736644f94976d115f1eee8be4",
       "version_major": 2,
       "version_minor": 0
      },
      "text/plain": [
       "Epoch 30/35:   0%|          | 0/845 [00:00<?, ?it/s]"
      ]
     },
     "metadata": {},
     "output_type": "display_data"
    },
    {
     "name": "stdout",
     "output_type": "stream",
     "text": [
      "Epoch 30/35  Recon=0.9549  KL=0.0021  Total=0.9570,  VAE Loss: 0.9570\n"
     ]
    },
    {
     "data": {
      "application/vnd.jupyter.widget-view+json": {
       "model_id": "f3e5e6a531524f509a897582b9d0f4e4",
       "version_major": 2,
       "version_minor": 0
      },
      "text/plain": [
       "Epoch 31/35:   0%|          | 0/845 [00:00<?, ?it/s]"
      ]
     },
     "metadata": {},
     "output_type": "display_data"
    },
    {
     "name": "stdout",
     "output_type": "stream",
     "text": [
      "Epoch 31/35  Recon=0.9548  KL=0.0022  Total=0.9570,  VAE Loss: 0.9571\n"
     ]
    },
    {
     "data": {
      "application/vnd.jupyter.widget-view+json": {
       "model_id": "70cbb301545e49b1ac064f9170d477b9",
       "version_major": 2,
       "version_minor": 0
      },
      "text/plain": [
       "Epoch 32/35:   0%|          | 0/845 [00:00<?, ?it/s]"
      ]
     },
     "metadata": {},
     "output_type": "display_data"
    },
    {
     "name": "stdout",
     "output_type": "stream",
     "text": [
      "Epoch 32/35  Recon=0.9548  KL=0.0019  Total=0.9567,  VAE Loss: 0.9566\n"
     ]
    },
    {
     "data": {
      "application/vnd.jupyter.widget-view+json": {
       "model_id": "7f8f6728b54142dabd26ae3335656e89",
       "version_major": 2,
       "version_minor": 0
      },
      "text/plain": [
       "Epoch 33/35:   0%|          | 0/845 [00:00<?, ?it/s]"
      ]
     },
     "metadata": {},
     "output_type": "display_data"
    },
    {
     "name": "stdout",
     "output_type": "stream",
     "text": [
      "Epoch 33/35  Recon=0.9548  KL=0.0013  Total=0.9560,  VAE Loss: 0.9560\n"
     ]
    },
    {
     "data": {
      "application/vnd.jupyter.widget-view+json": {
       "model_id": "795164fc27684d8a8e9e2c4a22549f29",
       "version_major": 2,
       "version_minor": 0
      },
      "text/plain": [
       "Epoch 34/35:   0%|          | 0/845 [00:00<?, ?it/s]"
      ]
     },
     "metadata": {},
     "output_type": "display_data"
    },
    {
     "name": "stdout",
     "output_type": "stream",
     "text": [
      "Epoch 34/35  Recon=0.9548  KL=0.0070  Total=0.9617,  VAE Loss: 0.9617\n"
     ]
    },
    {
     "data": {
      "application/vnd.jupyter.widget-view+json": {
       "model_id": "e45a1bb7cadc421794e621ccb366fa63",
       "version_major": 2,
       "version_minor": 0
      },
      "text/plain": [
       "Epoch 35/35:   0%|          | 0/845 [00:00<?, ?it/s]"
      ]
     },
     "metadata": {},
     "output_type": "display_data"
    },
    {
     "name": "stdout",
     "output_type": "stream",
     "text": [
      "Epoch 35/35  Recon=0.9548  KL=0.0003  Total=0.9551,  VAE Loss: 0.9552\n",
      "VAE model saved to fmm_vae_model.pth\n"
     ]
    }
   ],
   "source": [
    "dev_recon_losses = []\n",
    "dev_kl_losses    = []\n",
    "dev_total_losses = []\n",
    "\n",
    "print(\"Starting VAE training...\")\n",
    "for epoch in tqdm(range(epochs), desc=\"Training epochs\"):\n",
    "    model.train()\n",
    "    total_loss = 0.0\n",
    "    epoch_recon = 0.0\n",
    "    epoch_kl    = 0.0\n",
    "    for x_signal, x_coeffs, _ in tqdm(dev_loader, desc=f\"Epoch {epoch+1}/{epochs}\", leave=False):\n",
    "        x_signal, x_coeffs = x_signal.to(device), x_coeffs.to(device)\n",
    "        \n",
    "        recon, mu, logv = model(x_signal, x_coeffs)\n",
    "        \n",
    "        recon_loss = nn.functional.mse_loss(recon, x_signal)\n",
    "        kl_loss = (-0.5 * (1 + logv - mu.pow(2) - logv.exp()).sum()) / x_signal.size(0)\n",
    "        loss = recon_loss + beta_value * kl_loss\n",
    "        \n",
    "        optimizer.zero_grad()\n",
    "        loss.backward()\n",
    "        optimizer.step()\n",
    "        total_loss += loss.item()\n",
    "        \n",
    "        epoch_recon += recon_loss.item() * x_signal.size(0)\n",
    "        epoch_kl    += kl_loss.item()    * x_signal.size(0)\n",
    "\n",
    "    N = len(dev_loader.dataset) \n",
    "    dev_recon_losses.append(epoch_recon / N)\n",
    "    dev_kl_losses.append(epoch_kl / N)\n",
    "    dev_total_losses.append(dev_recon_losses[-1] + beta_value * dev_kl_losses[-1])\n",
    "\n",
    "    print(f\"Epoch {epoch+1}/{epochs}  Recon={dev_recon_losses[-1]:.4f}  KL={dev_kl_losses[-1]:.4f}  Total={dev_total_losses[-1]:.4f},  VAE Loss: {total_loss/len(dev_loader):.4f}\")\n",
    "\n",
    "# Guardar el modelo\n",
    "torch.save(model.state_dict(), 'C:/Users/anapt/Repositorios/TP-final_ML/TP-final_ML/data/data_processed/vae_model.pth')\n",
    "print(\"VAE model saved to vae_model.pth\")"
   ]
  },
  {
   "cell_type": "code",
   "execution_count": null,
   "id": "9c010615",
   "metadata": {},
   "outputs": [
    {
     "name": "stdout",
     "output_type": "stream",
     "text": [
      "VAE model parameters saved to C:/Users/anapt/Repositorios/TP-final_ML/TP-final_ML/ecg_project/models\\vae_state.pth\n"
     ]
    }
   ],
   "source": [
    "save_dir = \"C:/Users/anapt/Repositorios/TP-final_ML/TP-final_ML/ecg_project/models\"\n",
    "os.makedirs(save_dir, exist_ok=True)\n",
    "\n",
    "# solo los parámetros\n",
    "torch.save(model.state_dict(), os.path.join(save_dir, \"vae_state.pth\"))\n",
    "print(f\"VAE model parameters saved to {os.path.join(save_dir, 'vae_state.pth')}\")"
   ]
  },
  {
   "cell_type": "code",
   "execution_count": null,
   "id": "a4e1b784",
   "metadata": {},
   "outputs": [
    {
     "data": {
      "image/png": "[encoded data removed]",
      "text/plain": [
       "<Figure size 600x400 with 1 Axes>"
      ]
     },
     "metadata": {},
     "output_type": "display_data"
    }
   ],
   "source": [
    "import matplotlib.pyplot as plt\n",
    "\n",
    "from src.plot_metrics import plot_training_losses\n",
    "\n",
    "plot_training_losses(train_recon_losses, train_kl_losses, train_total_losses, lw=4, font_size=16)"
   ]
  },
  {
   "cell_type": "code",
   "execution_count": 114,
   "id": "6490e3f7",
   "metadata": {},
   "outputs": [
    {
     "data": {
      "image/png": "[encoded data removed]",
      "text/plain": [
       "<Figure size 640x480 with 1 Axes>"
      ]
     },
     "metadata": {},
     "output_type": "display_data"
    },
    {
     "data": {
      "image/png": "[encoded data removed]",
      "text/plain": [
       "<Figure size 640x480 with 1 Axes>"
      ]
     },
     "metadata": {},
     "output_type": "display_data"
    },
    {
     "data": {
      "image/png": "[encoded data removed]",
      "text/plain": [
       "<Figure size 640x480 with 1 Axes>"
      ]
     },
     "metadata": {},
     "output_type": "display_data"
    }
   ],
   "source": [
    "\n",
    "import matplotlib.pyplot as plt\n",
    "\n",
    "plt.figure(); plt.plot(dev_recon_losses); plt.title('Recon Loss'); plt.xlabel('Época'); plt.ylabel('MSE'); plt.show()\n",
    "plt.figure(); plt.plot(dev_kl_losses);    plt.title('KL Loss');    plt.xlabel('Época'); plt.ylabel('KL');  plt.show()\n",
    "plt.figure(); plt.plot(dev_total_losses); plt.title('Total Loss'); plt.xlabel('Época'); plt.ylabel('ELBO');plt.show()\n"
   ]
  },
  {
   "cell_type": "markdown",
   "id": "92397007",
   "metadata": {},
   "source": [
    "# XGBoost"
   ]
  },
  {
   "cell_type": "code",
   "execution_count": 118,
   "id": "61846e32",
   "metadata": {},
   "outputs": [
    {
     "name": "stdout",
     "output_type": "stream",
     "text": [
      "Extracting features from dev set for classifier training...\n",
      "Training XGBoost classifier...\n"
     ]
    },
    {
     "name": "stderr",
     "output_type": "stream",
     "text": [
      "c:\\ProgramData\\anaconda3\\envs\\TP-final_ML\\lib\\site-packages\\xgboost\\training.py:183: UserWarning: [12:36:06] WARNING: C:\\b\\abs_d97hy_84m6\\croot\\xgboost-split_1749630932152\\work\\src\\learner.cc:738: \n",
      "Parameters: { \"use_label_encoder\" } are not used.\n",
      "\n",
      "  bst.update(dtrain, iteration=i, fobj=obj)\n"
     ]
    },
    {
     "name": "stdout",
     "output_type": "stream",
     "text": [
      "Classifier training complete.\n"
     ]
    }
   ],
   "source": [
    "X_dev_clf_signal = torch.cat([dev_norm_signal_tensor, dev_ano_signal_tensor], dim=0)\n",
    "X_dev_clf_coeffs = torch.cat([dev_norm_coeffs_tensor, dev_ano_coeffs_tensor], dim=0)\n",
    "y_dev_clf = torch.tensor(np.concatenate([np.zeros(len(dev_norm_signal_tensor)), np.ones(len(dev_ano_signal_tensor))]), dtype=torch.long)\n",
    "\n",
    "dev_loader_clf = DataLoader(TensorDataset(X_dev_clf_signal, X_dev_clf_coeffs, y_dev_clf), batch_size=batch_size)\n",
    "\n",
    "\n",
    "print(\"Extracting features from dev set for classifier training...\")\n",
    "errs_dev, zs_dev = compute_scores(model, dev_loader_clf, device, beta=beta_value)\n",
    "errs_dev = np.nan_to_num(errs_dev, nan=0.0, posinf=1e6, neginf=-1e6)\n",
    "zs_dev = np.nan_to_num(zs_dev, nan=0.0, posinf=1e6, neginf=-1e6)\n",
    "X_dev_clf = np.hstack([errs_dev.reshape(-1, 1), zs_dev])\n",
    "y_dev_clf = y_dev_clf.numpy()\n",
    "\n",
    "print(\"Training XGBoost classifier...\")\n",
    "clf = XGBClassifier(use_label_encoder=False, eval_metric='logloss')\n",
    "clf.fit(X_dev_clf, y_dev_clf)\n",
    "print(\"Classifier training complete.\")"
   ]
  },
  {
   "cell_type": "code",
   "execution_count": 119,
   "id": "b52ba5af",
   "metadata": {},
   "outputs": [
    {
     "name": "stdout",
     "output_type": "stream",
     "text": [
      "Umbral óptimo (Youden): 0.584  →  TPR=0.839, FPR=0.061\n"
     ]
    }
   ],
   "source": [
    "probs_dev = clf.predict_proba(X_dev_clf)[:, 1]\n",
    "fpr, tpr, th_roc = roc_curve(y_dev_clf, probs_dev)\n",
    "j_scores = tpr - fpr\n",
    "best_idx = np.argmax(j_scores)\n",
    "best_thresh = th_roc[best_idx]\n",
    "print(f\"Umbral óptimo (Youden): {best_thresh:.3f}  →  TPR={tpr[best_idx]:.3f}, FPR={fpr[best_idx]:.3f}\")"
   ]
  },
  {
   "cell_type": "markdown",
   "id": "27900630",
   "metadata": {},
   "source": [
    "## Save the final model"
   ]
  },
  {
   "cell_type": "code",
   "execution_count": null,
   "id": "3f3a05ff",
   "metadata": {},
   "outputs": [
    {
     "name": "stdout",
     "output_type": "stream",
     "text": [
      "Modelo XGBoost guardado en C:/Users/anapt/Repositorios/TP-final_ML/TP-final_ML/ecg_project/models\\xgb_clf.joblib\n",
      "Umbral guardado en C:/Users/anapt/Repositorios/TP-final_ML/TP-final_ML/ecg_project/models\\threshold.json\n"
     ]
    }
   ],
   "source": [
    "# modelo\n",
    "model_path = os.path.join(out_dir, \"xgb_clf.joblib\")\n",
    "joblib.dump(clf, model_path)\n",
    "print(f\"Modelo XGBoost guardado en {model_path}\")\n",
    "\n",
    "# umbral en JSON\n",
    "th_path = os.path.join(out_dir, \"threshold.json\")\n",
    "with open(th_path, \"w\") as f:\n",
    "    json.dump({\"best_thresh\": float(best_thresh)}, f)\n",
    "print(f\"Umbral guardado en {th_path}\")"
   ]
  }
 ],
 "metadata": {
  "kernelspec": {
   "display_name": "TP-final_ML",
   "language": "python",
   "name": "python3"
  },
  "language_info": {
   "codemirror_mode": {
    "name": "ipython",
    "version": 3
   },
   "file_extension": ".py",
   "mimetype": "text/x-python",
   "name": "python",
   "nbconvert_exporter": "python",
   "pygments_lexer": "ipython3",
   "version": "3.10.18"
  }
 },
 "nbformat": 4,
 "nbformat_minor": 5
}
