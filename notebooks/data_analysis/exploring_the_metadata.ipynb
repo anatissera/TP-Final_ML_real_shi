{
 "cells": [
  {
   "cell_type": "code",
   "execution_count": null,
   "id": "3e246ef0",
   "metadata": {},
   "outputs": [
    {
     "name": "stdout",
     "output_type": "stream",
     "text": [
      "2.7.1+cu118\n",
      "True\n",
      "NVIDIA GeForce RTX 3050 Laptop GPU\n"
     ]
    }
   ],
   "source": [
    "import torch\n",
    "print(torch.__version__)\n",
    "print(torch.cuda.is_available())\n",
    "print(torch.cuda.get_device_name(0))"
   ]
  },
  {
   "cell_type": "code",
   "execution_count": null,
   "id": "d595d981",
   "metadata": {},
   "outputs": [],
   "source": [
    "\n",
    "import os\n",
    "import torch.nn as nn\n",
    "import numpy as np\n",
    "import pandas as pd\n",
    "from torch.utils.data import DataLoader, TensorDataset\n",
    "from tqdm.auto import tqdm\n",
    "\n",
    "# Custom functions from the src folder (from FMM-Head)\n",
    "from src.dataset_loaders import get_ptb_xl_fmm_dataset, get_shaoxing_fmm_dataset\n",
    "\n",
    "# Custom functions and model from your project (make sure they are updated)\n",
    "from src.models.VAE import VAE1D, compute_scores\n",
    "\n",
    "from sklearn.metrics import roc_auc_score, precision_score, recall_score, f1_score, accuracy_score, r2_score"
   ]
  },
  {
   "cell_type": "code",
   "execution_count": 3,
   "id": "1d4a9d2f",
   "metadata": {},
   "outputs": [],
   "source": [
    "%load_ext autoreload\n",
    "%autoreload 2"
   ]
  },
  {
   "cell_type": "code",
   "execution_count": null,
   "id": "74dba4bb",
   "metadata": {},
   "outputs": [],
   "source": [
    "\n",
    "from src.utils import find_data_subfolder\n",
    "\n",
    "DATA_DIR = find_data_subfolder('')"
   ]
  },
  {
   "cell_type": "code",
   "execution_count": 5,
   "id": "33d44dff",
   "metadata": {},
   "outputs": [
    {
     "name": "stdout",
     "output_type": "stream",
     "text": [
      "Loading FMM-enhanced PTB-XL dataset...\n",
      "Loading \"train\" folder\n"
     ]
    },
    {
     "name": "stderr",
     "output_type": "stream",
     "text": [
      "100%|██████████| 95868/95868 [11:21<00:00, 140.61it/s]\n"
     ]
    },
    {
     "name": "stdout",
     "output_type": "stream",
     "text": [
      "Loading \"test\" folder\n"
     ]
    },
    {
     "name": "stderr",
     "output_type": "stream",
     "text": [
      "100%|██████████| 10907/10907 [01:14<00:00, 147.18it/s]\n"
     ]
    },
    {
     "name": "stdout",
     "output_type": "stream",
     "text": [
      "Dataset loaded successfully.\n"
     ]
    }
   ],
   "source": [
    "print(\"Loading FMM-enhanced PTB-XL dataset...\")\n",
    "data_dict_ptb_xl = get_ptb_xl_fmm_dataset(\n",
    "    datapath=DATA_DIR,\n",
    "    num_leads=1,\n",
    "    lead=0,\n",
    "    num_waves=5,\n",
    "    sequence_length=2048,\n",
    "    delete_high_A=False\n",
    ")\n",
    "print(\"Dataset loaded successfully.\")"
   ]
  },
  {
   "cell_type": "code",
   "execution_count": 6,
   "id": "a408e621",
   "metadata": {},
   "outputs": [],
   "source": [
    "# print(\"Loading FMM-enhanced Shaoxing dataset...\")\n",
    "# data_dict_shaoxing = get_shaoxing_fmm_dataset( \n",
    "#     datapath=DATA_DIR,\n",
    "#     num_leads=1,\n",
    "#     lead=0,  \n",
    "#     num_waves=5,\n",
    "#     sequence_length=2048,\n",
    "#     delete_high_A=False\n",
    "# )\n",
    "# print(\"Dataset loaded successfully.\")"
   ]
  },
  {
   "cell_type": "code",
   "execution_count": 6,
   "id": "3b0ddfde",
   "metadata": {},
   "outputs": [],
   "source": [
    "data_dict = data_dict_ptb_xl  # Usar solo PTB-XL por ahora"
   ]
  },
  {
   "cell_type": "markdown",
   "id": "3cd9e81f",
   "metadata": {},
   "source": [
    "### Preprocess"
   ]
  },
  {
   "cell_type": "code",
   "execution_count": 7,
   "id": "dea6d32b",
   "metadata": {},
   "outputs": [],
   "source": [
    "import copy\n",
    "\n",
    "def reduce_to_batch(list_data, in_batch_size):\n",
    "    # Remove samples that do no fit in batch\n",
    "    out_list = []\n",
    "    num_0_samples = list_data[0].shape[0]\n",
    "    num_batched_samples = int(num_0_samples/in_batch_size)*in_batch_size\n",
    "    for x in list_data:\n",
    "        num_x_samples = x.shape[0]\n",
    "        assert num_x_samples == num_0_samples\n",
    "        new_x = x[:num_batched_samples]\n",
    "        out_list.append(new_x)\n",
    "    return out_list\n",
    "\n",
    "def preprocess_data_ptb_xl_fmm(input_data, dataset_params, **kwargs):\n",
    "    #Simple preprocessing for ptb_xl_fmm, which is loaded already processed\n",
    "    data = input_data[\"data\"]\n",
    "    labels  = input_data[\"labels\"]\n",
    "    sizes  = input_data[\"sizes\"]\n",
    "    coefficients  = input_data[\"coefficients\"]\n",
    "    coefficients_ang  = input_data[\"coefficients_ang\"]\n",
    "    fs = kwargs[\"fs\"]\n",
    "    batch_size = kwargs[\"batch_size\"]\n",
    "    split_ecg = kwargs[\"split_ecg\"]\n",
    "    classes = dataset_params[\"classes\"]\n",
    "    data_preprocessed = copy.deepcopy(data.astype(np.float32)) \n",
    "    labels_preprocessed = copy.deepcopy(labels)\n",
    "    while(data_preprocessed.ndim<3): # Expand dimensions until we get 3 dimensions (sample, )\n",
    "        data_preprocessed = np.expand_dims(data_preprocessed, axis=-1).astype(np.float32)\n",
    "    data_preprocessed,labels_preprocessed,sizes,coefficients,coefficients_ang = \\\n",
    "        reduce_to_batch([data_preprocessed,labels_preprocessed,sizes,coefficients,coefficients_ang],in_batch_size=batch_size)\n",
    "    num_samples_per_class = [np.sum(labels_preprocessed==i) for i in range(len(classes))] \n",
    "    print(f\"Number of samples per class: {num_samples_per_class}\")\n",
    "    data_dict = {\"data\":data_preprocessed,\"labels\":labels_preprocessed, \"sizes\":sizes,\"coefficients\":coefficients,\"coefficients_ang\":coefficients_ang}       \n",
    "    return data_dict\n",
    "\n",
    "def preprocess_data_shaoxing_fmm(input_data, dataset_params, **kwargs):\n",
    "    return preprocess_data_ptb_xl_fmm(input_data,dataset_params,**kwargs)"
   ]
  },
  {
   "cell_type": "code",
   "execution_count": 10,
   "id": "ea576574",
   "metadata": {},
   "outputs": [
    {
     "name": "stdout",
     "output_type": "stream",
     "text": [
      "Number of samples per class: [np.int64(10950), np.int64(3019), np.int64(14707), np.int64(54050), np.int64(13114)]\n",
      "Number of samples per class: [np.int64(10950), np.int64(3019), np.int64(14707), np.int64(54050), np.int64(13114)]\n"
     ]
    }
   ],
   "source": [
    "raw_dev = {\n",
    "    \"data\":            data_dict[\"train\"][\"data\"], \n",
    "    \"labels\":          data_dict[\"train\"][\"labels\"],\n",
    "    \"sizes\":           data_dict[\"train\"][\"sizes\"],\n",
    "    \"coefficients\":    data_dict[\"train\"][\"coefficients\"],\n",
    "    \"coefficients_ang\":data_dict[\"train\"][\"coefficients_ang\"],\n",
    "}\n",
    "dev_proc = preprocess_data_ptb_xl_fmm( \n",
    "    raw_dev,\n",
    "    dataset_params=data_dict[\"params\"],\n",
    "    fs=100,\n",
    "    batch_size=32,\n",
    "    split_ecg=False\n",
    ")\n",
    "\n",
    "raw_test = {\n",
    "    \"data\":            data_dict[\"test\"][\"data\"], \n",
    "    \"labels\":          data_dict[\"test\"][\"labels\"],\n",
    "    \"sizes\":           data_dict[\"test\"][\"sizes\"],\n",
    "    \"coefficients\":    data_dict[\"test\"][\"coefficients\"],\n",
    "    \"coefficients_ang\":data_dict[\"test\"][\"coefficients_ang\"],\n",
    "}\n",
    "\n",
    "test_proc = preprocess_data_ptb_xl_fmm(\n",
    "    raw_dev,\n",
    "    dataset_params=data_dict[\"params\"],\n",
    "    fs=100,\n",
    "    batch_size=32,\n",
    "    split_ecg=False\n",
    ")"
   ]
  },
  {
   "cell_type": "code",
   "execution_count": null,
   "id": "e078c1a3",
   "metadata": {},
   "outputs": [
    {
     "name": "stdout",
     "output_type": "stream",
     "text": [
      "Data loading complete.\n",
      "Train signal shape: (95868, 2048, 1), Train coeffs shape: (95868, 21)\n"
     ]
    }
   ],
   "source": [
    "X_dev_signal_raw = data_dict['train']['data'].astype(np.float32)\n",
    "X_dev_coeffs_raw = data_dict['train']['coefficients'].astype(np.float32)\n",
    "y_dev = data_dict['train']['labels'].astype(int)\n",
    "\n",
    "X_test_signal_raw = data_dict['test']['data'].astype(np.float32)\n",
    "X_test_coeffs_raw = data_dict['test']['coefficients'].astype(np.float32)\n",
    "y_test = data_dict['test']['labels'].astype(int)\n",
    "\n",
    "print(\"Data loading complete.\")\n",
    "print(f\"Train signal shape: {X_dev_signal_raw.shape}, Train coeffs shape: {X_dev_coeffs_raw.shape}\")"
   ]
  },
  {
   "cell_type": "code",
   "execution_count": 12,
   "id": "71e866c7",
   "metadata": {},
   "outputs": [],
   "source": [
    "normal_class_id = data_dict['params']['normal_class']\n",
    "\n",
    "dev_norm_signal_raw = X_dev_signal_raw[y_dev == normal_class_id]\n",
    "dev_norm_coeffs_raw = X_dev_coeffs_raw[y_dev == normal_class_id]\n",
    "dev_ano_signal_raw = X_dev_signal_raw[y_dev != normal_class_id] \n",
    "dev_ano_coeffs_raw = X_dev_coeffs_raw[y_dev != normal_class_id]"
   ]
  },
  {
   "cell_type": "markdown",
   "id": "2a87931f",
   "metadata": {},
   "source": [
    "#### Tensors"
   ]
  },
  {
   "cell_type": "code",
   "execution_count": 13,
   "id": "2ea914aa",
   "metadata": {},
   "outputs": [],
   "source": [
    "dev_norm_signal_tensor_raw = torch.tensor(dev_norm_signal_raw).permute(0, 2, 1)\n",
    "dev_ano_signal_tensor_raw = torch.tensor(dev_ano_signal_raw).permute(0, 2, 1)\n",
    "\n",
    "dev_norm_coeffs_tensor_raw = torch.tensor(dev_norm_coeffs_raw)\n",
    "dev_ano_coeffs_tensor_raw = torch.tensor(dev_ano_coeffs_raw)"
   ]
  },
  {
   "cell_type": "markdown",
   "id": "861d4200",
   "metadata": {},
   "source": [
    "### Normalize the data"
   ]
  },
  {
   "cell_type": "code",
   "execution_count": 14,
   "id": "9c2512b0",
   "metadata": {},
   "outputs": [],
   "source": [
    "mean_x = dev_norm_signal_raw.mean()\n",
    "std_x  = dev_norm_signal_raw.std()\n",
    "mean_c = dev_norm_coeffs_raw.mean(axis=0)\n",
    "std_c  = dev_norm_coeffs_raw.std(axis=0)"
   ]
  },
  {
   "cell_type": "code",
   "execution_count": 15,
   "id": "a8d3ef45",
   "metadata": {},
   "outputs": [],
   "source": [
    "X_dev_signal = (X_dev_signal_raw - mean_x) / (std_x  + 1e-8)\n",
    "X_test_signal  = (X_test_signal_raw  - mean_x) / (std_x  + 1e-8)\n",
    "\n",
    "X_dev_coeffs = (X_dev_coeffs_raw - mean_c) / (std_c  + 1e-8)\n",
    "X_test_coeffs  = (X_test_coeffs_raw  - mean_c) / (std_c  + 1e-8)"
   ]
  },
  {
   "cell_type": "markdown",
   "id": "c42558ef",
   "metadata": {},
   "source": [
    "#### Normilized splits"
   ]
  },
  {
   "cell_type": "code",
   "execution_count": 16,
   "id": "308bf879",
   "metadata": {},
   "outputs": [],
   "source": [
    "dev_norm_signal = X_dev_signal[y_dev == normal_class_id]\n",
    "dev_norm_coeffs = X_dev_coeffs[y_dev == normal_class_id]\n",
    "dev_ano_signal  = X_dev_signal[y_dev != normal_class_id]\n",
    "dev_ano_coeffs  = X_dev_coeffs[y_dev != normal_class_id]\n",
    "\n",
    "test_norm_signal = X_test_signal[y_test == normal_class_id]\n",
    "test_norm_coeffs = X_test_coeffs[y_test == normal_class_id] \n",
    "test_ano_signal  = X_test_signal[y_test != normal_class_id]\n",
    "test_ano_coeffs  = X_test_coeffs[y_test != normal_class_id]"
   ]
  },
  {
   "cell_type": "markdown",
   "id": "14ba0776",
   "metadata": {},
   "source": [
    "#### Tensors"
   ]
  },
  {
   "cell_type": "code",
   "execution_count": 17,
   "id": "d23dcce0",
   "metadata": {},
   "outputs": [
    {
     "name": "stdout",
     "output_type": "stream",
     "text": [
      "VAE training set size (normals only): 54056\n",
      "Final test set size (normals): 6042\n"
     ]
    }
   ],
   "source": [
    "# Conv1d expects (Batch, Channels, Length)\n",
    "\n",
    "# Signal Tensors\n",
    "dev_norm_signal_tensor = torch.tensor(dev_norm_signal).permute(0, 2, 1)\n",
    "dev_ano_signal_tensor = torch.tensor(dev_ano_signal).permute(0, 2, 1)\n",
    "test_norm_signal_tensor = torch.tensor(test_norm_signal).permute(0, 2, 1)\n",
    "test_ano_signal_tensor = torch.tensor(test_ano_signal).permute(0, 2, 1)\n",
    "\n",
    "# Coefficient Tensors\n",
    "dev_norm_coeffs_tensor = torch.tensor(dev_norm_coeffs)\n",
    "dev_ano_coeffs_tensor = torch.tensor(dev_ano_coeffs)\n",
    "test_norm_coeffs_tensor = torch.tensor(test_norm_coeffs)\n",
    "test_ano_coeffs_tensor = torch.tensor(test_ano_coeffs)\n",
    "\n",
    "print(f\"VAE training set size (normals only): {len(dev_norm_signal_tensor)}\")\n",
    "print(f\"Final test set size (normals): {len(test_norm_signal_tensor)}\")"
   ]
  },
  {
   "cell_type": "markdown",
   "id": "b29f5b09",
   "metadata": {},
   "source": [
    "## Explore the metadata"
   ]
  },
  {
   "cell_type": "code",
   "execution_count": 18,
   "id": "2112b703",
   "metadata": {},
   "outputs": [
    {
     "name": "stdout",
     "output_type": "stream",
     "text": [
      "dict_keys(['data', 'coefficients', 'peak_index', 'predicted_coefficients', 'filenames', 'labels', 'sizes', 'coefficients_ang'])\n"
     ]
    }
   ],
   "source": [
    "print(data_dict['train'].keys())\n"
   ]
  },
  {
   "cell_type": "code",
   "execution_count": null,
   "id": "0af9d6ef",
   "metadata": {},
   "outputs": [],
   "source": [
    "import pandas as pd\n",
    "\n",
    "csv_dir = DATA_DIR + \"/ptb-xl/1.0.3/ptbxl_database.csv\" \n",
    "meta_df = pd.read_csv(csv_dir)"
   ]
  },
  {
   "cell_type": "code",
   "execution_count": 23,
   "id": "5eb9ae02",
   "metadata": {},
   "outputs": [
    {
     "name": "stdout",
     "output_type": "stream",
     "text": [
      "                  filename  ecg_id   age  sex  height  weight\n",
      "52461   sample_4111_beat_5    4111  80.0  1.0   167.0    75.0\n",
      "50720   sample_3874_beat_6    3874  52.0  0.0     NaN    70.0\n",
      "14886  sample_12021_beat_2   12021  69.0  0.0   170.0    62.0\n",
      "9297   sample_11257_beat_9   11257  77.0  0.0     NaN     NaN\n",
      "22220    sample_129_beat_2     129  41.0  0.0     NaN    87.0\n",
      "13462  sample_11835_beat_6   11835  77.0  1.0     NaN     NaN\n",
      "18755  sample_12537_beat_4   12537  38.0  1.0   173.0    62.0\n",
      "91806  sample_9442_beat_13    9442  59.0  0.0     NaN     NaN\n",
      "43285   sample_2856_beat_6    2856  65.0  1.0   168.0    60.0\n",
      "65603   sample_588_beat_11     588  37.0  0.0     NaN    88.0\n"
     ]
    }
   ],
   "source": [
    "df_files = pd.DataFrame({\"filename\": data_dict[\"train\"][\"filenames\"]})\n",
    "df_files[\"ecg_id\"] = (\n",
    "    df_files[\"filename\"]\n",
    "      .str.replace(\"sample_\", \"\")\n",
    "      .str.replace(\"_beat_.*\", \"\", regex=True)\n",
    "      .astype(int)\n",
    ")\n",
    "df_merged = df_files.merge(\n",
    "    meta_df[[\"ecg_id\", \"age\", \"sex\", \"height\", \"weight\"]],\n",
    "    on=\"ecg_id\", how=\"left\"\n",
    ")\n",
    "\n",
    "print(df_merged.sample(10))"
   ]
  },
  {
   "cell_type": "code",
   "execution_count": 24,
   "id": "44e3bc46",
   "metadata": {},
   "outputs": [
    {
     "data": {
      "image/png": "[encoded data removed]",
      "text/plain": [
       "<Figure size 640x480 with 1 Axes>"
      ]
     },
     "metadata": {},
     "output_type": "display_data"
    },
    {
     "data": {
      "image/png": "[encoded data removed]",
      "text/plain": [
       "<Figure size 640x480 with 1 Axes>"
      ]
     },
     "metadata": {},
     "output_type": "display_data"
    }
   ],
   "source": [
    "ages_dev_raw    = df_merged[\"age\"].to_numpy()\n",
    "sexs_dev_raw    = df_merged[\"sex\"].to_numpy()\n",
    "height_dev_raw  = df_merged[\"height\"].to_numpy()\n",
    "weight_dev_raw  = df_merged[\"weight\"].to_numpy()\n",
    "\n",
    "import matplotlib.pyplot as plt\n",
    "\n",
    "plt.hist(ages_dev_raw, bins=30)\n",
    "plt.title(\"Distribución de edades\")\n",
    "plt.xlabel(\"Edad\")\n",
    "plt.ylabel(\"Frecuencia\")\n",
    "plt.show()\n",
    "\n",
    "plt.hist(sexs_dev_raw[sexs_dev_raw >= 0], bins=[-0.5,0.5,1.5], rwidth=0.8)\n",
    "plt.title(\"Distribución de sexo (0=fem, 1=masc)\")\n",
    "plt.xticks([0,1])\n",
    "plt.xlabel(\"Sexo\")\n",
    "plt.ylabel(\"Frecuencia\")\n",
    "plt.show()"
   ]
  },
  {
   "cell_type": "code",
   "execution_count": 25,
   "id": "c0979344",
   "metadata": {},
   "outputs": [],
   "source": [
    "ages = df_merged[\"age\"]\n",
    "sexs = df_merged[\"sex\"]"
   ]
  },
  {
   "cell_type": "code",
   "execution_count": 26,
   "id": "23ddda95",
   "metadata": {},
   "outputs": [
    {
     "name": "stdout",
     "output_type": "stream",
     "text": [
      "Edades mayores a 100:\n",
      "1402\n"
     ]
    }
   ],
   "source": [
    "print(\"Edades mayores a 100:\") \n",
    "print((ages > 100).sum())"
   ]
  },
  {
   "cell_type": "code",
   "execution_count": 27,
   "id": "8681a4dc",
   "metadata": {},
   "outputs": [
    {
     "name": "stdout",
     "output_type": "stream",
     "text": [
      "216\n",
      "216\n"
     ]
    }
   ],
   "source": [
    "print(df_merged[\"age\"].isna().sum())\n",
    "print(df_merged[\"sex\"].isna().sum())"
   ]
  },
  {
   "cell_type": "code",
   "execution_count": 28,
   "id": "cee9dfda",
   "metadata": {},
   "outputs": [
    {
     "data": {
      "image/png": "[encoded data removed]",
      "text/plain": [
       "<Figure size 1000x400 with 1 Axes>"
      ]
     },
     "metadata": {},
     "output_type": "display_data"
    },
    {
     "data": {
      "image/png": "[encoded data removed]",
      "text/plain": [
       "<Figure size 1000x400 with 1 Axes>"
      ]
     },
     "metadata": {},
     "output_type": "display_data"
    }
   ],
   "source": [
    "import seaborn as sns\n",
    "import matplotlib.pyplot as plt\n",
    "\n",
    "height_raw = meta_df[\"height\"] \n",
    "weight_raw = meta_df[\"weight\"]\n",
    "\n",
    "# --- Plot height ---\n",
    "plt.figure(figsize=(10, 4))\n",
    "sns.histplot(height_raw, bins=50, kde=True, color=\"skyblue\") \n",
    "plt.axvline(250, color='red', linestyle='--', label=\"umbral alto\")\n",
    "plt.title(\"Distribución de Height Raw\")\n",
    "plt.xlabel(\"Height (cm)\")\n",
    "plt.ylabel(\"Frecuencia\")\n",
    "plt.legend()\n",
    "plt.grid(True)\n",
    "plt.show()\n",
    "\n",
    "# --- Plot weight ---\n",
    "plt.figure(figsize=(10, 4))\n",
    "sns.histplot(weight_raw, bins=50, kde=True, color=\"lightgreen\")\n",
    "plt.axvline(250, color='red', linestyle='--', label=\"umbral alto\")\n",
    "plt.title(\"Distribución de Weight Raw\")\n",
    "plt.xlabel(\"Weight (kg)\")\n",
    "plt.ylabel(\"Frecuencia\")\n",
    "plt.legend()\n",
    "plt.grid(True)\n",
    "plt.show()\n"
   ]
  },
  {
   "cell_type": "code",
   "execution_count": 29,
   "id": "634ee254",
   "metadata": {},
   "outputs": [],
   "source": [
    "\n",
    "# --- 3. Calculá estadísticas SOLO con TRAIN ---\n",
    "def safe_mean(x, max_reasonable=None):\n",
    "    \"\"\"Mean ignorando NaN y outliers (si se da un valor razonable tope)\"\"\"\n",
    "    x_valid = x[~np.isnan(x)]\n",
    "    if max_reasonable is not None:\n",
    "        x_valid = x_valid[x_valid <= max_reasonable]\n",
    "    return x_valid.mean()\n",
    "\n",
    "\n",
    "mean_age    = safe_mean(ages_dev_raw,   100)\n",
    "mean_height = safe_mean(height_dev_raw, 250)  # cm\n",
    "mean_weight = safe_mean(weight_dev_raw, 250)  # kg\n",
    "mode_sex    = float(pd.Series(sexs_dev_raw).mode()[0])\n"
   ]
  },
  {
   "cell_type": "code",
   "execution_count": 30,
   "id": "bb0d08eb",
   "metadata": {},
   "outputs": [],
   "source": [
    "\n",
    "# --- 4. Imputá TRAIN ---\n",
    "ages_dev_imp    = np.where(np.isnan(ages_dev_raw) | (ages_dev_raw > 100), mean_age, ages_dev_raw)\n",
    "sexs_dev_imp    = np.where(np.isnan(sexs_dev_raw), mode_sex, sexs_dev_raw)\n",
    "height_dev_imp  = np.where(np.isnan(height_dev_raw) | (height_dev_raw > 250) | (height_dev_raw < 50), mean_height, height_dev_raw)\n",
    "weight_dev_imp  = np.where(np.isnan(weight_dev_raw) | (weight_dev_raw > 250) | (weight_dev_raw < 2.5), mean_weight, weight_dev_raw)\n",
    "\n",
    "\n",
    "metas_dev_imp = np.stack([ages_dev_imp, sexs_dev_imp, height_dev_imp, weight_dev_imp], axis=1)"
   ]
  },
  {
   "cell_type": "code",
   "execution_count": 31,
   "id": "ae3d7690",
   "metadata": {},
   "outputs": [],
   "source": [
    "\n",
    "# --- 5. TEST: hacé lo mismo, pero usando valores de TRAIN ---\n",
    "df_files_t = pd.DataFrame({\"filename\": data_dict[\"test\"][\"filenames\"]})\n",
    "df_files_t[\"ecg_id\"] = (\n",
    "    df_files_t[\"filename\"]\n",
    "      .str.replace(\"sample_\", \"\")\n",
    "      .str.replace(\"_beat_.*\", \"\", regex=True)\n",
    "      .astype(int)\n",
    ")\n",
    "df_merged_t = df_files_t.merge(\n",
    "    meta_df[[\"ecg_id\", \"age\", \"sex\", \"height\", \"weight\"]],\n",
    "    on=\"ecg_id\", how=\"left\"\n",
    ")\n",
    "\n",
    "ages_test_raw    = df_merged_t[\"age\"].to_numpy()\n",
    "sexs_test_raw    = df_merged_t[\"sex\"].to_numpy()\n",
    "height_test_raw  = df_merged_t[\"height\"].to_numpy()\n",
    "weight_test_raw  = df_merged_t[\"weight\"].to_numpy()\n",
    "\n",
    "ages_test_imp    = np.where(np.isnan(ages_test_raw) | (ages_test_raw > 100), mean_age, ages_test_raw)\n",
    "sexs_test_imp    = np.where(np.isnan(sexs_test_raw), mode_sex, sexs_test_raw)\n",
    "height_test_imp  = np.where(np.isnan(height_test_raw) | (height_test_raw > 250) | (height_test_raw < 50), mean_height, height_test_raw)\n",
    "weight_test_imp  = np.where(np.isnan(weight_test_raw) | (weight_test_raw > 250) | (weight_test_raw < 2.5), mean_weight, weight_test_raw)\n",
    "\n",
    "\n",
    "metas_test_imp = np.stack([ages_test_imp, sexs_test_imp, height_test_imp, weight_test_imp], axis=1)\n"
   ]
  },
  {
   "cell_type": "code",
   "execution_count": 32,
   "id": "7c3664ae",
   "metadata": {},
   "outputs": [
    {
     "name": "stdout",
     "output_type": "stream",
     "text": [
      "✅ Metadatos con age, sex, height, weight procesados:\n",
      "  Dev normales:    torch.Size([54056, 4])\n",
      "  Dev anomalías:   torch.Size([41812, 4])\n",
      "  Test normales:   torch.Size([6042, 4])\n",
      "  Test anomalías:  torch.Size([4865, 4])\n"
     ]
    }
   ],
   "source": [
    "\n",
    "# --- 6. Separá por clase y convertí a tensores ---\n",
    "normal_id = data_dict[\"params\"][\"normal_class\"]\n",
    "y_dev = data_dict[\"train\"][\"labels\"].astype(int)\n",
    "y_test  = data_dict[\"test\"][\"labels\"].astype(int)\n",
    "\n",
    "dev_norm_meta_raw = metas_dev_imp[y_dev == normal_id]\n",
    "dev_ano_meta_raw  = metas_dev_imp[y_dev != normal_id]\n",
    "\n",
    "test_norm_meta = metas_test_imp[y_test == normal_id]\n",
    "test_ano_meta  = metas_test_imp[y_test != normal_id]\n",
    "\n",
    "dev_norm_meta_tensor_raw = torch.tensor(dev_norm_meta_raw, dtype=torch.float32)\n",
    "dev_ano_meta_tensor_raw  = torch.tensor(dev_ano_meta_raw,  dtype=torch.float32)\n",
    "test_norm_meta_tensor = torch.tensor(test_norm_meta, dtype=torch.float32)\n",
    "test_ano_meta_tensor  = torch.tensor(test_ano_meta,  dtype=torch.float32)\n",
    "\n",
    "print(\"✅ Metadatos con age, sex, height, weight procesados:\")\n",
    "print(f\"  Dev normales:    {dev_norm_meta_tensor_raw.shape}\")\n",
    "print(f\"  Dev anomalías:   {dev_ano_meta_tensor_raw.shape}\")\n",
    "print(f\"  Test normales:   {test_norm_meta_tensor.shape}\")\n",
    "print(f\"  Test anomalías:  {test_ano_meta_tensor.shape}\")"
   ]
  },
  {
   "cell_type": "code",
   "execution_count": 33,
   "id": "83aaa2bf",
   "metadata": {},
   "outputs": [],
   "source": [
    "# --- 5b. Normalizá usando SOLO normales de TRAIN ---\n",
    "mean_meta = dev_norm_meta_raw.mean(axis=0)\n",
    "std_meta  = dev_norm_meta_raw.std(axis=0)\n",
    "\n",
    "# Evitá división por cero\n",
    "std_meta[std_meta == 0] = 1.0\n",
    "\n",
    "metas_dev_norm = (metas_dev_imp - mean_meta) / std_meta\n",
    "metas_test_norm  = (metas_test_imp  - mean_meta) / std_meta\n"
   ]
  },
  {
   "cell_type": "code",
   "execution_count": 34,
   "id": "73968fba",
   "metadata": {},
   "outputs": [],
   "source": [
    "dev_norm_meta = metas_dev_norm[y_dev == normal_id]\n",
    "dev_ano_meta  = metas_dev_norm[y_dev != normal_id]\n",
    "\n",
    "test_norm_meta = metas_test_norm[y_test == normal_id]\n",
    "test_ano_meta  = metas_test_norm[y_test != normal_id]"
   ]
  },
  {
   "cell_type": "code",
   "execution_count": 35,
   "id": "fd65947f",
   "metadata": {},
   "outputs": [],
   "source": [
    "dev_norm_meta_tensor = torch.tensor(dev_norm_meta, dtype=torch.float32)\n",
    "dev_ano_meta_tensor  = torch.tensor(dev_ano_meta,  dtype=torch.float32)\n",
    "\n",
    "test_norm_meta_tensor = torch.tensor(test_norm_meta, dtype=torch.float32)\n",
    "test_ano_meta_tensor  = torch.tensor(test_ano_meta,  dtype=torch.float32)"
   ]
  },
  {
   "cell_type": "code",
   "execution_count": null,
   "id": "4e7e8836",
   "metadata": {},
   "outputs": [
    {
     "name": "stdout",
     "output_type": "stream",
     "text": [
      "ROC AUC sobre metadatos: 0.7559610606397869\n"
     ]
    }
   ],
   "source": [
    "from xgboost import XGBClassifier\n",
    "from sklearn.metrics import roc_auc_score\n",
    "\n",
    "X_meta = np.vstack([dev_norm_meta, dev_ano_meta])\n",
    "y_meta = np.concatenate([np.zeros(len(dev_norm_meta)), np.ones(len(dev_ano_meta))])\n",
    "\n",
    "\n",
    "clf_meta = XGBClassifier()\n",
    "clf_meta.fit(X_meta, y_meta)\n",
    "probs_meta = clf_meta.predict_proba(X_meta)[:,1]\n",
    "\n",
    "print(\"ROC AUC sobre metadatos:\", roc_auc_score(y_meta, probs_meta))"
   ]
  },
  {
   "cell_type": "markdown",
   "id": "8feefa3e",
   "metadata": {},
   "source": [
    "## La conclusión es que los metadatos como age, sex, height o weight no aportan información relevante"
   ]
  }
 ],
 "metadata": {
  "kernelspec": {
   "display_name": "TP-final_ML",
   "language": "python",
   "name": "python3"
  },
  "language_info": {
   "codemirror_mode": {
    "name": "ipython",
    "version": 3
   },
   "file_extension": ".py",
   "mimetype": "text/x-python",
   "name": "python",
   "nbconvert_exporter": "python",
   "pygments_lexer": "ipython3",
   "version": "3.10.18"
  }
 },
 "nbformat": 4,
 "nbformat_minor": 5
}
